{
 "cells": [
  {
   "cell_type": "markdown",
   "metadata": {},
   "source": [
    "# Setting up your development environ"
   ]
  },
  {
   "cell_type": "markdown",
   "metadata": {},
   "source": [
    "1. Clone the state scraper repo from Github\n",
    "\n",
    "  ```\n",
    "  git clone https://github.com/influence-usa/scrapers-us-state.git\n",
    "  ```\n",
    "\n",
    "2. Make a new virtualenv\n",
    "\n",
    "  ```\n",
    "  mkvirtualenv --python=$(which python3)\n",
    "  ```\n",
    "  \n",
    "3. Use `pip` to install requirements\n",
    "\n",
    "  ```\n",
    "  pip install -r requirements.txt\n",
    "  ```\n",
    "  \n",
    "4. If you don't see a folder for the state you're working on, run the following:\n",
    "\n",
    "  ```\n",
    "    (iusa-scrape)$>pupa init arizona\n",
    "    no pupa_settings on path, using defaults\n",
    "    jurisdiction name (e.g. City of Seattle): Arizona\n",
    "    division id (e.g. ocd-division/country:us/state:wa/place:seattle): ocd-division/country:us/state:az\n",
    "    classification (can be: government, legislature, executive, school_system): government\n",
    "    official URL: http://www.az.gov/\n",
    "    create disclosures scraper? [Y/n]: Y\n",
    "    create bills scraper? [y/N]: n\n",
    "    create events scraper? [y/N]: y\n",
    "    create votes scraper? [y/N]: n\n",
    "    create people scraper? [y/N]: y\n",
    "  ```\n",
    "\n",
    "...what this did was create a new folder for the state. In this example, the state was Arizona (`arizona`).\n",
    "\n",
    "  ```\n",
    "    (iusa-scrape)$>tree\n",
    "    .\n",
    "    ├── ak\n",
    "    │   └── __init__.py\n",
    "    ├── al\n",
    "    │   ├── __init__.py\n",
    "    │   └── people.py\n",
    "    ├── arizona\n",
    "    │   ├── disclosures.py\n",
    "    │   ├── events.py\n",
    "    │   ├── __init__.py\n",
    "    │   └── people.py\n",
    "    ├── md\n",
    "    │   └── __init__.py\n",
    "    ├── README.md\n",
    "    ├── requirements.txt\n",
    "    ├── Untitled.ipynb\n",
    "    └── utils\n",
    "        ├── __init__.py\n",
    "        └── lxmlize.py\n",
    "  ```\n",
    "  \n",
    "To follow the broader pupa convention, we'll change the directory name to `az`:\n",
    "\n",
    "```\n",
    "    (iusa-scrape)$>mv arizona az\n",
    "    (iusa-scrape)$>tree\n",
    "    tree\n",
    "    .\n",
    "    ├── ak\n",
    "    │   └── __init__.py\n",
    "    ├── al\n",
    "    │   ├── __init__.py\n",
    "    │   └── people.py\n",
    "    ├── az\n",
    "    │   ├── disclosures.py\n",
    "    │   ├── events.py\n",
    "    │   ├── __init__.py\n",
    "    │   └── people.py\n",
    "    ├── md\n",
    "    │   └── __init__.py\n",
    "    ├── README.md\n",
    "    ├── requirements.txt\n",
    "    ├── Untitled.ipynb\n",
    "    └── utils\n",
    "        ├── __init__.py\n",
    "        └── lxmlize.py\n",
    "\n",
    "5 directories, 13 files\n",
    "```\n",
    "  \n",
    "Because we told it to in the questions asked above, it also created the starter code for our scrapers: there's one each for disclosures, events and people.\n",
    "\n",
    "Also interesting is the `__init__.py` file in our state's directory.  It used the answers to our questions to build a `Jurisdiction` object that represents the state government:\n",
    "\n",
    "```python\n",
    "class Arizona(Jurisdiction):\n",
    "    division_id = \"ocd-division/country:us/state:az\"\n",
    "    classification = \"government\"\n",
    "    name = \"Arizona\"\n",
    "    url = \"https://az.gov/\"\n",
    "    scrapers = {\n",
    "        \"events\": ArizonaEventScraper,\n",
    "        \"people\": ArizonaPersonScraper,\n",
    "        \"disclosures\": ArizonaDisclosureScraper,\n",
    "    }\n",
    "\n",
    "    def get_organizations(self):\n",
    "        yield Organization(name=None, classification=None)\n",
    "```"
   ]
  },
  {
   "cell_type": "markdown",
   "metadata": {},
   "source": [
    "# Version control"
   ]
  },
  {
   "cell_type": "markdown",
   "metadata": {},
   "source": [
    "This is a good time to add and commit our changes so far.\n",
    "\n",
    "```terminal\n",
    "(iusa-scrape)$>git add az\n",
    "(iusa-scrape)$>git commit -m \"initialized arizona\"\n",
    "[master 3e622ef] initialized arizona\n",
    " 4 files changed, 47 insertions(+)\n",
    " create mode 100644 az/__init__.py\n",
    " create mode 100644 az/disclosures.py\n",
    " create mode 100644 az/events.py\n",
    " create mode 100644 az/people.py\n",
    " ```"
   ]
  },
  {
   "cell_type": "markdown",
   "metadata": {},
   "source": [
    "# Where is the data?"
   ]
  },
  {
   "cell_type": "markdown",
   "metadata": {},
   "source": [
    "# Creating global authority organizations"
   ]
  },
  {
   "cell_type": "markdown",
   "metadata": {},
   "source": [
    "## Create the Secretary of State"
   ]
  },
  {
   "cell_type": "markdown",
   "metadata": {},
   "source": [
    "The `get_organizations` method of the `Jurisdiction` class lets us define some global organizations for all of the data that we'll be scraping from Arizona's sites. For campaign finance disclosures, we'll have to define the Arizona Secretary of State's Office.\n",
    "\n",
    "```python\n",
    "def get_organizations(self):                                        \n",
    "```\n",
    "\n",
    "First, initialize using the `Organization` class.\n",
    "\n",
    "```python\n",
    "    secretary_of_state = Organization(                                    \n",
    "        name=\"Office of the Secretary of State, State of Arizona\",        \n",
    "        classification=\"office\"                                           \n",
    "    )                                                               ```\n",
    "    \n",
    "Here, we're able to set particular attributes using `kwargs`.  To get a sense of which attributes you can set at this point, check out the [source](https://github.com/influence-usa/pupa/blob/disclosures/pupa/scrape/popolo.py#L132-L182).\n",
    "\n",
    "Now, we can add other attribtues, using the helper methods found on the `Organization` class:\n",
    "\n",
    "```python\n",
    "    secretary_of_state.add_contact_detail(                                \n",
    "        type=\"voice\",                                                     \n",
    "        value=\"602-542-4285\"                                              \n",
    "    )                    \n",
    "\n",
    "    secretary_of_state.add_contact_detail(                                \n",
    "        type=\"address\",                                                   \n",
    "        value=\"1700 W Washington St Fl 7, Phoenix AZ 85007-2808\"          \n",
    "    )                                                                     \n",
    "    secretary_of_state.add_link(                                          \n",
    "        url=\"http://www.azsos.gov/\",                                      \n",
    "        note=\"Home page\"                                                  \n",
    "    )                                                                     \n",
    "```\n",
    "\n",
    "We should add the organization we've created to the `Jurisdiction` object as a semi-private property. This is useful, beacuse the `Jurisdiction` object will essentially always be accessible to all of our scrapers. Whenever we want to refer to the AZ Secretary of State, we can always access it from `Arizona` jurisdiction object.\n",
    "\n",
    "```python\n",
    "    self._secretary_of_state = secretary_of_state                   \n",
    "```\n",
    "\n",
    "Finally, yield the organization we created. This is beacause `get_organizations` is actually the first scraper that we'll run each time we run Arizona scrapers of any kind.\n",
    "\n",
    "```python\n",
    "    yield secretary_of_state                                          \n",
    "```"
   ]
  },
  {
   "cell_type": "markdown",
   "metadata": {},
   "source": [
    "## Test what we have so far!"
   ]
  },
  {
   "cell_type": "markdown",
   "metadata": {},
   "source": [
    "Cool, let's try out what we have so far.  From the project root (`scrapers-us-state`), run the command:\n",
    "\n",
    "```\n",
    "(iusa-scrape)$>pupa update az --scrape\n",
    "```\n",
    "\n",
    "This will throw a `ScrapeError` because we haven't written any of the main scrapers yet, but before it does we'll see that it creates our `Jurisdiction` object, and the `Organization` representing the Arizona Secretary of State.\n",
    "\n",
    "```\n",
    "no pupa_settings on path, using defaults\n",
    "az (scrape)\n",
    "  events: {}\n",
    "  people: {}\n",
    "  disclosures: {}\n",
    "Not checking sessions...\n",
    "13:30:10 INFO pupa: save jurisdiction Arizona as jurisdiction_ocd-jurisdiction-country:us-state:az-government.json\n",
    "13:30:10 INFO pupa: save organization Office of the Secretary of State, State of Arizona as organization_1e330580-e20b-11e4-a4f5-e90fe0697b56.json\n",
    "```"
   ]
  },
  {
   "cell_type": "markdown",
   "metadata": {},
   "source": [
    "# Starting a new scraper"
   ]
  },
  {
   "cell_type": "markdown",
   "metadata": {},
   "source": [
    "Now it's time to start writing the real meat and potatoes of our scraping code."
   ]
  },
  {
   "cell_type": "markdown",
   "metadata": {},
   "source": [
    "## Locate the source of the data"
   ]
  },
  {
   "cell_type": "markdown",
   "metadata": {},
   "source": [
    "Check out the [Big Board](https://docs.google.com/spreadsheets/d/18-MvVJXg8TkUUNhtBmWoCEPUWEMf7F6-YVV6x7CWrg4/pubhtml) to see which URL you should use to start. Explore the links on that page until you find the data you're looking for.\n",
    "\n",
    "For this example, we'll look at the Arizona Super PAC list. "
   ]
  },
  {
   "cell_type": "code",
   "execution_count": 1,
   "metadata": {
    "collapsed": true
   },
   "outputs": [],
   "source": [
    "PAC_LIST_URL = \"http://apps.azsos.gov/apps/election/cfs/search/SuperPACList.aspx\""
   ]
  },
  {
   "cell_type": "markdown",
   "metadata": {},
   "source": [
    "## Adding new scrape routines"
   ]
  },
  {
   "cell_type": "markdown",
   "metadata": {},
   "source": [
    "We're going to add our code to `az/disclosures.py`. \n",
    "\n",
    "```python\n",
    "class ArizonaDisclosureScraper(Scraper):\n",
    "                                           \n",
    "    def scrape_super_pacs(self):           \n",
    "        pass                               \n",
    "                                           \n",
    "    def scrape(self):                      \n",
    "        # needs to be implemented          \n",
    "        yield from self.scrape_super_pacs()\n",
    "```\n",
    "\n",
    "When we're through, the `pupa` CLI commands will call the `scrape` command. It's good practice to follow this pattern to break down that command into a series of subroutines, one for each type of data you're returning. The pupa software actually doesn't care, though, it just expects a stream of Open Civic Data scrape objects (`Person`, `Organizaton`, `Event`, etc)."
   ]
  },
  {
   "cell_type": "markdown",
   "metadata": {},
   "source": [
    "## Developing your scraper"
   ]
  },
  {
   "cell_type": "markdown",
   "metadata": {},
   "source": [
    "At this point, you might want to move to a REPL (or, even better, to an IPython notebook) so that you can start figuring out how to obtain the target data. You'll \n",
    "\n",
    "In this example, things are fairly straightforward.  There's a `<table>` element in the middle of the page that has all the information we need to generate the `Organization` objects that we want."
   ]
  },
  {
   "cell_type": "code",
   "execution_count": 9,
   "metadata": {
    "collapsed": false
   },
   "outputs": [],
   "source": [
    "from lxml import etree\n",
    "from lxml.html import HTMLParser\n",
    "\n",
    "import scrapelib"
   ]
  },
  {
   "cell_type": "markdown",
   "metadata": {},
   "source": [
    "The scraper we'll eventually write is a subclass of `scrapelib.Scraper()` (see the `Scraper` class in [pupa/pupa/scrape/base.py](https://github.com/influence-usa/pupa/blob/disclosures/pupa/scrape/base.py)), and working with the parent class will be close enough to reality when we're undergoing trial and error at first."
   ]
  },
  {
   "cell_type": "code",
   "execution_count": 89,
   "metadata": {
    "collapsed": true
   },
   "outputs": [],
   "source": [
    "my_scraper = scrapelib.Scraper()"
   ]
  },
  {
   "cell_type": "code",
   "execution_count": 119,
   "metadata": {
    "collapsed": true
   },
   "outputs": [],
   "source": [
    "_, resp = my_scraper.urlretrieve(PAC_LIST_URL)"
   ]
  },
  {
   "cell_type": "code",
   "execution_count": 120,
   "metadata": {
    "collapsed": false
   },
   "outputs": [
    {
     "data": {
      "text/plain": [
       "b'\\r\\n\\r\\n<!DOCTYPE html PUBLIC \"-//W3C//DTD XHTML 1.0 Transitional//EN\" \"http://www.w3.org/TR/xhtml1/DTD/xhtml1-transitional.dtd\">\\r\\n<html xmlns=\"http://www.w3.org/1999/xhtml\">\\r\\n<head id=\"ctl00_ctl00_PageHead\"><title>\\r\\n\\tSuperPAC Committees List\\r\\n</title>\\r\\n    \\r\\n<meta http-equiv=\"Content-Type\" content=\"text/html; charset=utf-8\" /><meta http-equiv=\"Content-Style-Type\" content=\"text/css\" /><meta name=\"title\" content=\"Arizona Secretary of State\" /><meta name=\"description\" content=\"Secretary of State\" /><meta name=\"originatorJurisdiction\" content=\"Arizona Secretary of State\" /><meta name=\"govType\" content=\"State Government\" /><meta name=\"medium\" content=\"Web page\" /><meta name=\"accessConstraints\" content=\"none\" /><link href=\"/css/apps-style-newazsos.css\" rel=\"stylesheet\" type=\"text/css\" media=\"all\" /><link href=\"/css/SiteMasterStyles.css\" rel=\"stylesheet\" type=\"text/css\" media=\"all\" /><link href=\"App_Themes/defaultTheme/default.css\" type=\"text/css\" rel=\"stylesheet\" /></head>\\r\\n<body id=\"ctl00_ctl00_mybody\">\\r\\n    <div id=\"header-wrapper\">\\r\\n    <div id=\"header-logo-wrapper\" style=\"padding-top:15px;\">\\r\\n\\t\\t    <a href=\"http://www.azsos.gov\" title=\"Arizona Secretary of State\"><img src=\"/images/site-logo.png\" alt=\"site logo\"  style=\"float:left;\"/></a>\\r\\n\\t\\t    <div id=\"toplinks\" style=\"float:right;\">\\r\\n\\t<span style=\"float:right;\"><a href=\"http://www.azsos.gov/contact\" title=\"Email Us\" target=\"_blank\"><img alt=\"email icon\" src=\"/images/email.png\" style=\"height:32px;padding-top:2px;padding-right:5px;\" /></a><a href=\"https://twitter.com/SecretaryReagan\" title=\"Follow us on Twitter\" target=\"_blank\"><img alt=\"twitter icon\" src=\"/images/twitter.png\" style=\"height:32px;padding-top:2px;padding-right:5px;\" /></a><a href=\"https://www.facebook.com/AZSecretaryofState\" title=\"Follow us on Facebook\" target=\"_blank\"><img alt=\"facebook icon\" src=\"/images/facebook.png\" style=\"height:32px;padding-top:2px;padding-right:5px;\" /></a><a href=\"http://www.youtube.com/user/AZSecState\" title=\"Watch us on YouTube\" target=\"_blank\"><img alt=\"youtube icon\" src=\"/images/youtube.png\" style=\"height:32px;padding-top:2px;\" /></a><br /><a href=\"http://az.gov/\" title=\"Visit the official website of the State of Arizona\" target=\"_blank\"><img alt=\"az.gov logo\" src=\"/images/azdotgov-logo.png\" style=\"height:32px;padding-top:9px;float:right;\" class=\"hide-on-mobile\" /></a></span>\\r\\n\\t\\t    </div>\\r\\n    </div>\\r\\n</div>\\t\\t\\r\\n<div id=\"navigation\">\\r\\n<div id=\"primary_nav_wrap\">\\r\\n<ul>\\r\\n\\t<li class=\"current-menu-item\"><a href=\"http://www.azsos.gov/elections\">Elections</a>\\r\\n\\t\\t<ul>\\r\\n\\t\\t\\t<li><a href=\"http://www.azsos.gov/elections/elections-calendar-upcoming-events\">Elections Calendar &amp; Upcoming Events</a></li>\\r\\n\\t\\t\\t<li><a href=\"http://www.azsos.gov/elections/voting-election\">Voting In This Election</a></li>\\r\\n\\t\\t\\t<li><a href=\"http://www.azsos.gov/elections/campaign-finance-reporting\">Campaign Finance &amp; Reporting</a></li>\\r\\n\\t\\t\\t<li><a href=\"http://www.azsos.gov/elections/running-office\">Running for Office</a></li>\\r\\n\\t\\t\\t<li><a href=\"http://www.azsos.gov/equal/\">Sign a Candidate Petition or Give $5 Qualifying Petition</a></li>\\r\\n\\t\\t\\t<li><a href=\"http://www.azsos.gov/elections/information-about-recognized-political-parties\">Information about Recognized Political Parties</a></li>\\r\\n\\t\\t\\t<li><a href=\"http://www.azsos.gov/elections/initiative-referendum-and-recall\">Initiative, Referendum &amp; Recall</a></li>\\r\\n\\t\\t\\t<li><a href=\"http://www.azsos.gov/elections/requirements-paid-non-resident-circulators\">Requirements for Paid &amp; Non-Resident Circulators</a></li>\\r\\n\\t\\t\\t<li><a href=\"http://www.azsos.gov/elections/voter-registration-historical-election-data\">Voter Registration &amp; Historical Data</a></li>\\r\\n\\t\\t\\t<li><a href=\"http://www.azsos.gov/elections/arizona-election-laws-publications\">Arizona Election Laws &amp; Publications</a></li>\\r\\n\\t\\t\\t<li><a href=\"http://www.azsos.gov/elections/lobbyists\">Lobbyists</a></li>\\t\\t\\t\\r\\n\\t\\t</ul>\\r\\n\\t</li>\\r\\n\\t<li><a href=\"http://www.azsos.gov/business\">Business</a>\\r\\n\\t\\t<ul>\\r\\n\\t\\t\\t<li><a href=\"http://www.azsos.gov/business/trade-names-and-trademarks\" title=\"\">Trade Names &amp; Trademarks</a></li>\\r\\n\\t\\t\\t<li><a href=\"http://www.azsos.gov/business/notary-public\">Notary Public</a></li>\\r\\n\\t\\t\\t<li><a href=\"http://www.azsos.gov/business/charities\">Veterans Charities Organizations</a></li>\\r\\n\\t\\t\\t<li><a href=\"http://www.azsos.gov/business/uniform-commercial-code-ucc\">Uniform Commercial Code (UCC)</a></li>\\r\\n\\t\\t\\t<li><a href=\"http://www.azsos.gov/business/partnerships\">Partnerships</a></li>\\r\\n\\t\\t\\t<li><a href=\"http://www.azsos.gov/business/telephonic-seller-registration\">Telephonic Seller Registration</a></li>\\r\\n\\t\\t\\t<li><a href=\"http://www.azsos.gov/business/corporations\">Corporations</a></li>\\r\\n\\t\\t\\t<li><a href=\"http://www.azsos.gov/business/professional-employment-organizations-peo\">Professional Employment Organizations (PEO)</a></li>\\r\\n\\t\\t\\t<li><a href=\"http://www.azsos.gov/business/dance-studios\">Dance Studios</a></li>\\r\\n\\t\\t</ul>\\r\\n\\t</li>\\r\\n\\t<li><a href=\"http://www.azsos.gov/services\">Services</a>\\r\\n\\t\\t<ul>\\r\\n\\t\\t\\t<li><a href=\"http://www.azsos.gov/services/acp\">Address Confidentiality Program</a></li>\\r\\n\\t\\t\\t<li><a href=\"http://www.azsos.gov/services/authentication-and-apostille\">Document Authentication and Apostille</a></li>\\r\\n\\t\\t\\t<li><a href=\"http://www.azsos.gov/services/advanced-directives\">Advanced Directives</a></li>\\r\\n\\t\\t\\t<li><a href=\"http://www.azsos.gov/services/athlete-agents\">Athlete Agents</a></li>\\r\\n\\t\\t\\t<li><a href=\"http://www.azsos.gov/services/legislative-filings\">Legislative Filings</a></li>\\r\\n\\t\\t\\t<li><a href=\"http://www.azsos.gov/services/public-information\">Public Information</a></li>\\r\\n\\t\\t\\t<li><a href=\"http://www.azsos.gov/services/out-state-landlord-agents-service\">Out-of-State Landlord Agents for Service</a></li>\\r\\n\\t\\t\\t<li><a href=\"http://www.azsos.gov/services/no-trespass-registration-and-public-notice\">No Trespass Registration &amp; Public Notice</a></li>\\r\\n\\t\\t</ul>\\r\\n\\t</li>\\r\\n\\t<li><a href=\"http://www.azsos.gov/rules\">Rules</a>\\r\\n\\t\\t<ul>\\r\\n\\t\\t\\t<li><a href=\"http://www.azsos.gov/rules/arizona-administrative-code\">Arizona Administrative Code</a></li>\\r\\n\\t\\t\\t<li><a href=\"http://www.azsos.gov/rules/arizona-administrative-register\">Arizona Administrative Register</a></li>\\r\\n\\t\\t\\t<li><a href=\"http://www.azsos.gov/rules/semiannual-index\">Semiannual Index</a></li>\\r\\n\\t\\t\\t<li><a href=\"http://www.azsos.gov/rules/annual-regulatory-agenda\">Annual Regulatory Agenda</a></li>\\r\\n\\t\\t</ul>\\r\\n\\t</li>\\r\\n\\t<li><a href=\"http://www.azlibrary.gov\">State Library</a>\\r\\n\\t\\t\\t<ul>\\r\\n\\t\\t\\t<li><a href=\"http://www.azlibrary.gov/talkingbooks\">Arizona Talking Book Library</a></li>\\r\\n\\t\\t\\t<li><a href=\"http://www.azlibrary.gov/sla\">State Library of Arizona</a></li>\\r\\n\\t\\t\\t<li><a href=\"http://www.azlibrary.gov/azcm\">Arizona Capitol Museum</a></li>\\r\\n\\t\\t\\t<li><a href=\"http://www.azlibrary.gov/arm\">Archives &amp; Records Management</a></li>\\r\\n\\t\\t\\t<li><a href=\"http://www.azlibrary.gov/libdev\">Library Development</a></li>\\r\\n\\t\\t\\t<li><a href=\"http://www.azlibrary.gov/about\">About State Library</a></li>\\t\\t\\t\\r\\n\\t\\t</ul>\\r\\n\\r\\n\\t</li>\\t\\r\\n\\t<li><a href=\"http://www.azsos.gov/about-office\">About the Office</a>\\r\\n\\t\\t<ul>\\r\\n\\t\\t\\t<li><a href=\"http://www.azsos.gov/about-office/about-secretary\">About the Secretary</a></li>\\r\\n\\t\\t\\t<li><a href=\"http://www.azsos.gov/about-office/secretaries-since-statehood\">Secretaries Since Statehood</a></li>\\r\\n\\t\\t\\t<li><a href=\"http://www.azsos.gov/events\">Current and Upcoming Events</a></li>\\r\\n\\t\\t\\t<li><a href=\"http://www.azsos.gov/about-office/media-center\">Media Center</a></li>\\r\\n\\t\\t\\t<li><a href=\"http://www.azsos.gov/about-office/great-seal-arizona\">State Seal</a></li>\\r\\n\\t\\t\\t<li><a href=\"http://www.azsos.gov/about-office/annual-report\">Annual Report</a></li>\\r\\n\\t\\t\\t<li><a href=\"http://www.azsos.gov/about-office/executive-staff\">Executive Staff</a></li>\\r\\n\\t\\t\\t<li><a href=\"http://www.azsos.gov/about-office/contact-us\">Contact Us</a></li>\\r\\n\\t\\t</ul>\\r\\n\\t</li>\\r\\n\\t\\r\\n</ul>\\r\\n   \\r\\n\\t\\t</div>\\r\\n\\t\\t\\r\\n \\r\\n\\t\\t</div>\\r\\n\\r\\n    <div class=\"content_wrapper\">\\r\\n        <div id=\"main1\">\\r\\n            <div id=\"main2\">\\r\\n                <form name=\"aspnetForm\" method=\"post\" action=\"SuperPACList.aspx\" id=\"aspnetForm\">\\r\\n<input type=\"hidden\" name=\"ctl00_ctl00_ScriptManager1_HiddenField\" id=\"ctl00_ctl00_ScriptManager1_HiddenField\" value=\"\" />\\r\\n<input type=\"hidden\" name=\"__VIEWSTATEGUID\" id=\"__VIEWSTATEGUID\" value=\"fd7bd8d5-058b-40a5-aa5d-b318af80f1c7\" />\\r\\n<input type=\"hidden\" name=\"__VIEWSTATE\" id=\"\\r\\n__VIEWSTATE\" value=\"\" />\\r\\n\\r\\n\\r\\n<script src=\"/apps/election/cfs/search/ScriptResource.axd?d=T9M0dbj5_oxRw_kXIz2P_jOlnfSFIc_VkcMQtNnE1TnR-vp9RnQMYjyw0M7C4A1B1r8BHdeqDVH4ccRT_5O4fBb-Vzllgjj1AKNiBBd3hH598oPtAkxNalCgQNb5FOzRy5Cixg2&amp;t=ffffffffec54f2d7\" type=\"text/javascript\"></script>\\r\\n<script type=\"text/javascript\">\\r\\n//<![CDATA[\\r\\nif (typeof(Sys) === \\'undefined\\') throw new Error(\\'ASP.NET Ajax client-side framework failed to load.\\');\\r\\n//]]>\\r\\n</script>\\r\\n\\r\\n                    <input type=\"hidden\" name=\"ctl00$ctl00$ScriptManager1\" id=\"ctl00_ctl00_ScriptManager1\" />\\r\\n                    <div id=\"right_column\">\\r\\n                        \\r\\n                    </div>\\r\\n\\r\\n                    \\r\\n                    <div id=\"content\">\\r\\n                        <table width=\"100%\" cellpadding=\"0\" cellspacing=\"0\" border=\"0\">\\r\\n                            <tr>\\r\\n                                <td id=\"ctl00_ctl00_PageHeadingCell\" class=\"pagetitle\">\\r\\n                                    <script type=\"text/javascript\">document.write(document.title)</script>\\r\\n                                </td>\\r\\n                                <td class=\"pagetitlehelp\" id=\"four\">\\r\\n                                    \\r\\n                                </td>\\r\\n                            </tr>\\r\\n                        </table>\\r\\n                        <div id=\"ctl00_ctl00_MainPanel\">\\r\\n\\t\\r\\n                            \\r\\n    \\r\\n    \\r\\n\\r\\n<table cellpadding=\"8\" class=\"thinborder\">\\r\\n<tr><th>Filer ID</th><th>Name & Address</th> <th>Phone #</th><th>Begin Date</th><th>End Date</th></tr>\\r\\n\\r\\n<tr>\\r\\n\\r\\n<td>1066</td>\\r\\n<td>AEA FUND FOR PUBLIC EDUCATION (FORMERLY) AZ PAC (AZ EDUCATION ASSN PAC)<br />345 E PALM LN<br />PHOENIX, AZ 85004 </td>\\r\\n<td>(602) 264-1774</td>\\r\\n<td>06/09/2014</td>\\r\\n<td>06/08/2018</td>\\r\\n</tr>\\r\\n\\r\\n<tr>\\r\\n\\r\\n<td>1354</td>\\r\\n<td>AFSCME PEOPLE<br />1625 L ST NW<br />WASHINGTON, DC 20036 </td>\\r\\n<td>(202) 429-1088</td>\\r\\n<td>04/02/2014</td>\\r\\n<td>04/01/2018</td>\\r\\n</tr>\\r\\n\\r\\n<tr>\\r\\n\\r\\n<td>200602733</td>\\r\\n<td>ARIZONA CHAMBER POLITICAL ACTION COMMITTEE<br />3200 N CENTRAL AVE, STE 1125<br />PHOENIX, AZ 85012 </td>\\r\\n<td>(602) 248-9172</td>\\r\\n<td>02/14/2014</td>\\r\\n<td>02/13/2018</td>\\r\\n</tr>\\r\\n\\r\\n<tr>\\r\\n\\r\\n<td>200602848</td>\\r\\n<td>ARIZONA FAMILIES UNITED FOR STRONG COMMUNITIES- PROJECT OF SEIU COPE<br />3707 N 7TH ST, STE 100<br />PHOENIX, AZ 85014 </td>\\r\\n<td>(602) 279-8016</td>\\r\\n<td>07/21/2014</td>\\r\\n<td>07/20/2018</td>\\r\\n</tr>\\r\\n\\r\\n<tr>\\r\\n\\r\\n<td>201000081</td>\\r\\n<td>Arizona List P.A.C.<br />PO BOX 42294<br />TUCSON, AZ 85733 </td>\\r\\n<td>(520) 327-0520</td>\\r\\n<td>01/25/2015</td>\\r\\n<td>01/24/2019</td>\\r\\n</tr>\\r\\n\\r\\n<tr>\\r\\n\\r\\n<td>1100</td>\\r\\n<td>Arizona Lodging & Tourism Super PAC<br />1240 E MISSOURI AVE<br />PHOENIX, AZ 85014 </td>\\r\\n<td>(602) 604-0729</td>\\r\\n<td>05/15/2013</td>\\r\\n<td>05/14/2015</td>\\r\\n</tr>\\r\\n\\r\\n<tr>\\r\\n\\r\\n<td>1227</td>\\r\\n<td>Arizona Pipe Trades 469<br />3109 N 24TH ST<br />PHOENIX, AZ 85016 </td>\\r\\n<td>(602) 626-8805</td>\\r\\n<td>02/10/2014</td>\\r\\n<td>02/09/2018</td>\\r\\n</tr>\\r\\n\\r\\n<tr>\\r\\n\\r\\n<td>1065</td>\\r\\n<td>AZ DENTAL POLITICAL ACTION COMMITTEE<br />3193 N DRINKWATER BLVD<br />SCOTTSDALE, AZ 85251 </td>\\r\\n<td>(480) 344-5777</td>\\r\\n<td>12/15/2013</td>\\r\\n<td>12/14/2017</td>\\r\\n</tr>\\r\\n\\r\\n<tr>\\r\\n\\r\\n<td>1129</td>\\r\\n<td>AZ MULTIHOUSING ASSN PAC<br />818 N 1ST ST<br />PHOENIX, AZ 85004 </td>\\r\\n<td>(602) 296-6200</td>\\r\\n<td>12/05/2013</td>\\r\\n<td>12/04/2017</td>\\r\\n</tr>\\r\\n\\r\\n<tr>\\r\\n\\r\\n<td>2109</td>\\r\\n<td>BNSF Railway Company RAILPAC<br />PO BOX 961039<br />FORT WORTH, TX 76161 </td>\\r\\n<td>(202) 347-8662</td>\\r\\n<td>10/16/2014</td>\\r\\n<td>10/15/2018</td>\\r\\n</tr>\\r\\n\\r\\n<tr>\\r\\n\\r\\n<td>200002272</td>\\r\\n<td>CWA COMMUNICATIONS WORKERS OF AMERICA /AZ COMMITTEE  ON POLITICAL EDUCATION (COPE)<br />1951 W CAMELBACK RD, STE 335<br />PHOENIX, AZ 85015 </td>\\r\\n<td>(602) 266-2620</td>\\r\\n<td>10/10/2013</td>\\r\\n<td>10/09/2017</td>\\r\\n</tr>\\r\\n\\r\\n<tr>\\r\\n\\r\\n<td>200202405</td>\\r\\n<td>Enterprise Holdings, Inc. Political Action Committee<br />600 CORPORATE PARK DR<br />SAINT LOUIS, MO 63105 </td>\\r\\n<td>(314) 512-5000</td>\\r\\n<td>11/17/2014</td>\\r\\n<td>11/16/2018</td>\\r\\n</tr>\\r\\n\\r\\n<tr>\\r\\n\\r\\n<td>1140</td>\\r\\n<td>GREATER PHOENIX CHAMBER OF COMMERCE POLITICAL ACTION COMMITTEE<br />201 N CENTRAL AVE, FL 27<br />PHOENIX, AZ 85004 </td>\\r\\n<td>(602) 495-6474</td>\\r\\n<td>12/21/2013</td>\\r\\n<td>12/20/2017</td>\\r\\n</tr>\\r\\n\\r\\n<tr>\\r\\n\\r\\n<td>1452</td>\\r\\n<td>HOME BUILDERS ASSN OF CENTRAL AZ POLITICAL ACTION COMMITTEE<br />7740 N 16TH ST, STE 385<br />PHOENIX, AZ 85020 </td>\\r\\n<td>(602) 274-6545</td>\\r\\n<td>05/15/2013</td>\\r\\n<td>05/14/2015</td>\\r\\n</tr>\\r\\n\\r\\n<tr>\\r\\n\\r\\n<td>201000325</td>\\r\\n<td>Honeywell International Political Action Committee Arizona-(HIPAC AZ)<br />101 CONSTITUTION AVE. NW, SUITE 500 WEST<br />WASHINGTON, DC 20001 </td>\\r\\n<td>(202) 662-2644</td>\\r\\n<td>01/03/2014</td>\\r\\n<td>01/02/2018</td>\\r\\n</tr>\\r\\n\\r\\n<tr>\\r\\n\\r\\n<td>1233</td>\\r\\n<td>JPMORGAN CHASE & CO ARIZONA PAC<br />601 PENNSYLVANIA AVE NW, FL 7<br />WASHINGTON, DC 20004 </td>\\r\\n<td>(202) 585-3750</td>\\r\\n<td>02/10/2014</td>\\r\\n<td>02/09/2018</td>\\r\\n</tr>\\r\\n\\r\\n<tr>\\r\\n\\r\\n<td>1663</td>\\r\\n<td>PARADISE VALLEY FUND FOR CHILDREN IN PUBLIC EDUCATION (PV ED & SUPPORT EMPL ASSN PAC)<br />345 E PALM LN<br />PHOENIX, AZ 85004 </td>\\r\\n<td>(602) 407-2380</td>\\r\\n<td>04/03/2014</td>\\r\\n<td>04/02/2018</td>\\r\\n</tr>\\r\\n\\r\\n<tr>\\r\\n\\r\\n<td>1016</td>\\r\\n<td>PINNACLE WEST CAPITAL CORPORATION POLITICAL ACTION COMMITTEE<br />C/O BOB EKSTROM, 801 PENNSYLVANIA AVE NW, SUITE 214<br />WASHINGTON, DC 20004 </td>\\r\\n<td>(202) 293-2655</td>\\r\\n<td>02/25/2014</td>\\r\\n<td>02/24/2018</td>\\r\\n</tr>\\r\\n\\r\\n<tr>\\r\\n\\r\\n<td>1155</td>\\r\\n<td>REALTORS OF AZ PAC (RAPAC)<br />255 E OSBORN RD, STE 200<br />PHOENIX, AZ 85012 </td>\\r\\n<td>(602) 248-7787</td>\\r\\n<td>09/23/2013</td>\\r\\n<td>09/22/2017</td>\\r\\n</tr>\\r\\n\\r\\n<tr>\\r\\n\\r\\n<td>1206</td>\\r\\n<td>SALT RIVER VALLEY WATER USERS ASSN POLITICAL INVOLVEMENT COMMITTEE<br />CORPORATE TAXES,  ISB336  PO BOX 52025<br />PHOENIX, AZ 85207 </td>\\r\\n<td>(602) 236-2070</td>\\r\\n<td>01/07/2014</td>\\r\\n<td>01/06/2018</td>\\r\\n</tr>\\r\\n\\r\\n<tr>\\r\\n\\r\\n<td>201200346</td>\\r\\n<td>The Political Committee of Planned Parenthood Advocates of Arizona<br />5651 N 7TH ST<br />PHOENIX, AZ 85014 </td>\\r\\n<td>(602) 263-4215</td>\\r\\n<td>06/09/2014</td>\\r\\n<td>06/08/2018</td>\\r\\n</tr>\\r\\n\\r\\n<tr>\\r\\n\\r\\n<td>200802906</td>\\r\\n<td>UNITE HERE TIP CAMPAIGN COMMITTEE<br />275 SEVENTH AVENUE, 11TH FLOOR<br />NEW YORK, NY 10001 </td>\\r\\n<td>(212) 265-7000</td>\\r\\n<td>07/16/2013</td>\\r\\n<td>07/15/2015</td>\\r\\n</tr>\\r\\n\\r\\n<tr>\\r\\n\\r\\n<td>1797</td>\\r\\n<td>UNITED FOOD & COMMERCIAL WORKERS ACTIVE BALLOT CLUB (UFCW)<br />1775 K ST NW<br />WASHINGTON, DC 20006 </td>\\r\\n<td>(202) 223-3111</td>\\r\\n<td>04/09/2014</td>\\r\\n<td>04/08/2018</td>\\r\\n</tr>\\r\\n\\r\\n<tr>\\r\\n\\r\\n<td>2083</td>\\r\\n<td>UNITED FOOD & COMMERCIAL WORKERS UNION OF AZ LOCAL 99<br />2401 N CENTRAL AVE<br />PHOENIX, AZ 85004 </td>\\r\\n<td>(602) 626-8805</td>\\r\\n<td>10/03/2013</td>\\r\\n<td>10/02/2017</td>\\r\\n</tr>\\r\\n\\r\\n<tr>\\r\\n\\r\\n<td>200402535</td>\\r\\n<td>United Services Automobile Assn Employee PAC<br />9800 FREDERICKSBURG RD<br />SAN ANTONIO, TX 78288 </td>\\r\\n<td>(210) 498-0736</td>\\r\\n<td>02/22/2015</td>\\r\\n<td>02/21/2019</td>\\r\\n</tr>\\r\\n\\r\\n</table>\\r\\n\\r\\n    \\r\\n\\r\\n\\r\\n                            \\r\\n                        \\r\\n</div>\\r\\n                        <br />\\r\\n                        \\r\\n                        <br />\\r\\n                    </div>\\r\\n                \\r\\n\\r\\n<script type=\"text/javascript\">\\r\\n//<![CDATA[\\r\\n(function() {var fn = function() {$get(\"ctl00_ctl00_ScriptManager1_HiddenField\").value = \\'\\';Sys.Application.remove_init(fn);};Sys.Application.add_init(fn);})();\\r\\nSys.Application.setServerId(\"ctl00_ctl00_ScriptManager1\", \"ctl00$ctl00$ScriptManager1\");\\r\\n\\r\\nSys.Application._enableHistoryInScriptManager();\\r\\nSys.Application.initialize();\\r\\n//]]>\\r\\n</script>\\r\\n</form>\\r\\n            </div>\\r\\n        </div>\\r\\n        <div id=\"footer\" style=\"clear:both;\">\\r\\n\\r\\n    <div style=\"clear:both;\"><br /><br /></div>\\r\\n    \\r\\n\\t\\t<a href=\"http://www.azsos.gov/website-policies\" title=\"Website Policies\" style=\"color: #9B918B;text-decoration: none;text-align: center;font-size: 13px;padding-right: 6px;\">Website Policies</a>\\r\\n\\t\\t<a href=\"http://www.azsos.gov/about-office/contact-us\" title=\"Contact Us\" style=\"color: #9B918B;border-left: 1px solid #9B918B;padding-left: 6px;text-decoration: none;text-align: center;font-size: 13px;padding-right: 6px;\">Contact Us</a>\\t\\r\\n    <br />\\r\\n <span style=\"color: #9B918B;text-decoration: none;text-align: center;font-size: 11px;line-height:2.2em;padding-top:10px;margin-bottom:10px;\">\\r\\n          &copy;<script type=\"text/javascript\">\\r\\n\\r\\n                    today = new Date();\\r\\n                    yr = today.getFullYear();\\r\\n                    document.write(yr);\\r\\n\\r\\n\\t\\t  </script> \\r\\n         Arizona Secretary of State, All Rights Reserved</span>\\r\\n          \\r\\n</div>\\r\\n    </div>\\r\\n</body>\\r\\n</html>\\r\\n'"
      ]
     },
     "execution_count": 120,
     "metadata": {},
     "output_type": "execute_result"
    }
   ],
   "source": [
    "resp.content"
   ]
  },
  {
   "cell_type": "code",
   "execution_count": 123,
   "metadata": {
    "collapsed": false
   },
   "outputs": [],
   "source": [
    "d = etree.fromstring(resp.content, parser=HTMLParser())"
   ]
  },
  {
   "cell_type": "markdown",
   "metadata": {},
   "source": [
    "The easiest thing to do is just look for the table we're interested by writing an xpath query. The `<table>` "
   ]
  },
  {
   "cell_type": "code",
   "execution_count": 124,
   "metadata": {
    "collapsed": false
   },
   "outputs": [
    {
     "data": {
      "text/plain": [
       "[<Element table at 0x7fbe8bf9c598>, <Element table at 0x7fbe8bf9c5e8>]"
      ]
     },
     "execution_count": 124,
     "metadata": {},
     "output_type": "execute_result"
    }
   ],
   "source": [
    "d.xpath('//table')"
   ]
  },
  {
   "cell_type": "markdown",
   "metadata": {},
   "source": [
    "Hm, looks like there's more than one, so we're going to have to narrow our XPath query. Here's where we can cheat: using Chrome/Chromium, we can right click on the table, and select \"Inspect Element\" from the dropdown. This opens Developer Tools and shows us where in the page's source that object is. Right click on the `<table>` tag and select \"Copy XPath\". Now paste the results into a text editor.  What you'll see is:\n",
    "\n",
    "    //*[@id=\"ctl00_ctl00_MainPanel\"]/table\n",
    "    \n",
    "Chrome DevTools does its best to find a short-ish query that uniquely identifies the node you've selected. The results of this query will be more targeted."
   ]
  },
  {
   "cell_type": "code",
   "execution_count": 125,
   "metadata": {
    "collapsed": false
   },
   "outputs": [
    {
     "data": {
      "text/plain": [
       "[<Element table at 0x7fbe8bf9c5e8>]"
      ]
     },
     "execution_count": 125,
     "metadata": {},
     "output_type": "execute_result"
    }
   ],
   "source": [
    "d.xpath('//*[@id=\"ctl00_ctl00_MainPanel\"]/table')"
   ]
  },
  {
   "cell_type": "markdown",
   "metadata": {},
   "source": [
    "Notice that this is still a list. To access it we'll need to select the object by indexing with `[0]`.\n",
    "\n",
    "We know that the information we need is in this table, and using IPython we can test out scripts that scrape the data."
   ]
  },
  {
   "cell_type": "code",
   "execution_count": 126,
   "metadata": {
    "collapsed": true
   },
   "outputs": [],
   "source": [
    "target_table = d.xpath('//*[@id=\"ctl00_ctl00_MainPanel\"]/table')[0]"
   ]
  },
  {
   "cell_type": "markdown",
   "metadata": {},
   "source": [
    "The `table` element can, in turn, be queried with an XPath query. We can get all of the rows with `tbody/tr`."
   ]
  },
  {
   "cell_type": "code",
   "execution_count": 128,
   "metadata": {
    "collapsed": false,
    "scrolled": true
   },
   "outputs": [
    {
     "data": {
      "text/plain": [
       "26"
      ]
     },
     "execution_count": 128,
     "metadata": {},
     "output_type": "execute_result"
    }
   ],
   "source": [
    "rows = target_table.xpath('tr')\n",
    "len(rows)"
   ]
  },
  {
   "cell_type": "code",
   "execution_count": 129,
   "metadata": {
    "collapsed": false
   },
   "outputs": [
    {
     "data": {
      "text/plain": [
       "<Element tr at 0x7fbe8bf9c958>"
      ]
     },
     "execution_count": 129,
     "metadata": {},
     "output_type": "execute_result"
    }
   ],
   "source": [
    "rows[0]"
   ]
  },
  {
   "cell_type": "code",
   "execution_count": 130,
   "metadata": {
    "collapsed": true
   },
   "outputs": [],
   "source": [
    "def find_the_table(html_document):\n",
    "    return d.xpath('//*[@id=\"ctl00_ctl00_MainPanel\"]/table')[0]"
   ]
  },
  {
   "cell_type": "markdown",
   "metadata": {},
   "source": [
    "To see what the original HTML string of any element looks like, use:"
   ]
  },
  {
   "cell_type": "code",
   "execution_count": 131,
   "metadata": {
    "collapsed": false
   },
   "outputs": [
    {
     "data": {
      "text/plain": [
       "b'<tr>&#13;\\n&#13;\\n<td>201000081</td>&#13;\\n<td>Arizona List P.A.C.<br />PO BOX 42294<br />TUCSON, AZ 85733 </td>&#13;\\n<td>(520) 327-0520</td>&#13;\\n<td>01/25/2015</td>&#13;\\n<td>01/24/2019</td>&#13;\\n</tr>&#13;\\n&#13;\\n'"
      ]
     },
     "execution_count": 131,
     "metadata": {},
     "output_type": "execute_result"
    }
   ],
   "source": [
    "etree.tostring(rows[5])"
   ]
  },
  {
   "cell_type": "markdown",
   "metadata": {},
   "source": [
    "Now we can write functions to query for, and parse each table. It can be helpful when debugging to break up your scraper's code into small functions, so that when (not if ;) something goes wrong, it's easier to tell where and why."
   ]
  },
  {
   "cell_type": "code",
   "execution_count": 134,
   "metadata": {
    "collapsed": true
   },
   "outputs": [],
   "source": [
    "def scrape_table_first_draft(table_element):\n",
    "    scraped_rows = []\n",
    "    for row in table_element.xpath('tr'):\n",
    "        _data = {}\n",
    "        columns = row.xpath('td')\n",
    "        _data['org_id'] = columns[0].text_content()\n",
    "        _data['org_name_and_address'] = columns[1].text_content()\n",
    "        _data['org_phone'] = columns[2].text_content()\n",
    "        _data['org_begin_date'] = columns[3].text_content()\n",
    "        _data['org_end_date'] = columns[4].text_content()\n",
    "        scraped_rows.append(_data)\n",
    "    return scraped_rows"
   ]
  },
  {
   "cell_type": "code",
   "execution_count": 135,
   "metadata": {
    "collapsed": false
   },
   "outputs": [
    {
     "ename": "IndexError",
     "evalue": "list index out of range",
     "output_type": "error",
     "traceback": [
      "\u001b[1;31m---------------------------------------------------------------------------\u001b[0m",
      "\u001b[1;31mIndexError\u001b[0m                                Traceback (most recent call last)",
      "\u001b[1;32m<ipython-input-135-fd2553283391>\u001b[0m in \u001b[0;36m<module>\u001b[1;34m()\u001b[0m\n\u001b[1;32m----> 1\u001b[1;33m \u001b[0mscrape_table_first_draft\u001b[0m\u001b[1;33m(\u001b[0m\u001b[0mtarget_table\u001b[0m\u001b[1;33m)\u001b[0m\u001b[1;33m\u001b[0m\u001b[0m\n\u001b[0m",
      "\u001b[1;32m<ipython-input-134-c1bb3e62f865>\u001b[0m in \u001b[0;36mscrape_table_first_draft\u001b[1;34m(table_element)\u001b[0m\n\u001b[0;32m      4\u001b[0m         \u001b[0m_data\u001b[0m \u001b[1;33m=\u001b[0m \u001b[1;33m{\u001b[0m\u001b[1;33m}\u001b[0m\u001b[1;33m\u001b[0m\u001b[0m\n\u001b[0;32m      5\u001b[0m         \u001b[0mcolumns\u001b[0m \u001b[1;33m=\u001b[0m \u001b[0mrow\u001b[0m\u001b[1;33m.\u001b[0m\u001b[0mxpath\u001b[0m\u001b[1;33m(\u001b[0m\u001b[1;34m'td'\u001b[0m\u001b[1;33m)\u001b[0m\u001b[1;33m\u001b[0m\u001b[0m\n\u001b[1;32m----> 6\u001b[1;33m         \u001b[0m_data\u001b[0m\u001b[1;33m[\u001b[0m\u001b[1;34m'org_id'\u001b[0m\u001b[1;33m]\u001b[0m \u001b[1;33m=\u001b[0m \u001b[0mcolumns\u001b[0m\u001b[1;33m[\u001b[0m\u001b[1;36m0\u001b[0m\u001b[1;33m]\u001b[0m\u001b[1;33m.\u001b[0m\u001b[0mtext_content\u001b[0m\u001b[1;33m(\u001b[0m\u001b[1;33m)\u001b[0m\u001b[1;33m\u001b[0m\u001b[0m\n\u001b[0m\u001b[0;32m      7\u001b[0m         \u001b[0m_data\u001b[0m\u001b[1;33m[\u001b[0m\u001b[1;34m'org_name_and_address'\u001b[0m\u001b[1;33m]\u001b[0m \u001b[1;33m=\u001b[0m \u001b[0mcolumns\u001b[0m\u001b[1;33m[\u001b[0m\u001b[1;36m1\u001b[0m\u001b[1;33m]\u001b[0m\u001b[1;33m.\u001b[0m\u001b[0mtext_content\u001b[0m\u001b[1;33m(\u001b[0m\u001b[1;33m)\u001b[0m\u001b[1;33m\u001b[0m\u001b[0m\n\u001b[0;32m      8\u001b[0m         \u001b[0m_data\u001b[0m\u001b[1;33m[\u001b[0m\u001b[1;34m'org_phone'\u001b[0m\u001b[1;33m]\u001b[0m \u001b[1;33m=\u001b[0m \u001b[0mcolumns\u001b[0m\u001b[1;33m[\u001b[0m\u001b[1;36m2\u001b[0m\u001b[1;33m]\u001b[0m\u001b[1;33m.\u001b[0m\u001b[0mtext_content\u001b[0m\u001b[1;33m(\u001b[0m\u001b[1;33m)\u001b[0m\u001b[1;33m\u001b[0m\u001b[0m\n",
      "\u001b[1;31mIndexError\u001b[0m: list index out of range"
     ]
    }
   ],
   "source": [
    "scrape_table_first_draft(target_table)"
   ]
  },
  {
   "cell_type": "markdown",
   "metadata": {},
   "source": [
    "Oops! Let's look at what happened. We got an `IndexError` when looking for item `0` in the list `columns`. Expect to see a lot of these kinds of errors when writing `lxml` scrapers. It usually means that an XPath query returned an empty list.  Let's make use our `\"td\"` query is working on each row:"
   ]
  },
  {
   "cell_type": "code",
   "execution_count": 137,
   "metadata": {
    "collapsed": false
   },
   "outputs": [
    {
     "data": {
      "text/plain": [
       "[[],\n",
       " [<Element td at 0x7fbe8bfa2db8>,\n",
       "  <Element td at 0x7fbe8bfa2e08>,\n",
       "  <Element td at 0x7fbe8bfa2e58>,\n",
       "  <Element td at 0x7fbe8bfa2ea8>,\n",
       "  <Element td at 0x7fbe8bfa2ef8>],\n",
       " [<Element td at 0x7fbe8bfa2f48>,\n",
       "  <Element td at 0x7fbe8bfa2f98>,\n",
       "  <Element td at 0x7fbe8bfb1048>,\n",
       "  <Element td at 0x7fbe8bfb1098>,\n",
       "  <Element td at 0x7fbe8bfb10e8>],\n",
       " [<Element td at 0x7fbe8bfb1138>,\n",
       "  <Element td at 0x7fbe8bfb1188>,\n",
       "  <Element td at 0x7fbe8bfb11d8>,\n",
       "  <Element td at 0x7fbe8bfb1228>,\n",
       "  <Element td at 0x7fbe8bfb1278>],\n",
       " [<Element td at 0x7fbe9c3eb638>,\n",
       "  <Element td at 0x7fbe8bfa29f8>,\n",
       "  <Element td at 0x7fbe8bfa2958>,\n",
       "  <Element td at 0x7fbe8bfa28b8>,\n",
       "  <Element td at 0x7fbe8bfa26d8>],\n",
       " [<Element td at 0x7fbe8bfa25e8>,\n",
       "  <Element td at 0x7fbe8bfa2548>,\n",
       "  <Element td at 0x7fbe8bfa2368>,\n",
       "  <Element td at 0x7fbe8bfa24a8>,\n",
       "  <Element td at 0x7fbe8bfa2318>],\n",
       " [<Element td at 0x7fbe8bfb12c8>,\n",
       "  <Element td at 0x7fbe8bfb1318>,\n",
       "  <Element td at 0x7fbe8bfb1368>,\n",
       "  <Element td at 0x7fbe8bfb13b8>,\n",
       "  <Element td at 0x7fbe8bfb1408>],\n",
       " [<Element td at 0x7fbe8bfb1458>,\n",
       "  <Element td at 0x7fbe8bfb14a8>,\n",
       "  <Element td at 0x7fbe8bfb14f8>,\n",
       "  <Element td at 0x7fbe8bfb1548>,\n",
       "  <Element td at 0x7fbe8bfb1598>],\n",
       " [<Element td at 0x7fbe8bfb15e8>,\n",
       "  <Element td at 0x7fbe8bfb1638>,\n",
       "  <Element td at 0x7fbe8bfb1688>,\n",
       "  <Element td at 0x7fbe8bfb16d8>,\n",
       "  <Element td at 0x7fbe8bfb1728>],\n",
       " [<Element td at 0x7fbe8bfb1778>,\n",
       "  <Element td at 0x7fbe8bfb17c8>,\n",
       "  <Element td at 0x7fbe8bfb1818>,\n",
       "  <Element td at 0x7fbe8bfb1868>,\n",
       "  <Element td at 0x7fbe8bfb18b8>],\n",
       " [<Element td at 0x7fbe8bfb1908>,\n",
       "  <Element td at 0x7fbe8bfb1958>,\n",
       "  <Element td at 0x7fbe8bfb19a8>,\n",
       "  <Element td at 0x7fbe8bfb19f8>,\n",
       "  <Element td at 0x7fbe8bfb1a48>],\n",
       " [<Element td at 0x7fbe8bfb1a98>,\n",
       "  <Element td at 0x7fbe8bfb1ae8>,\n",
       "  <Element td at 0x7fbe8bfb1b38>,\n",
       "  <Element td at 0x7fbe8bfb1b88>,\n",
       "  <Element td at 0x7fbe8bfb1bd8>],\n",
       " [<Element td at 0x7fbe8bfb1c28>,\n",
       "  <Element td at 0x7fbe8bfb1c78>,\n",
       "  <Element td at 0x7fbe8bfb1cc8>,\n",
       "  <Element td at 0x7fbe8bfb1d18>,\n",
       "  <Element td at 0x7fbe8bfb1d68>],\n",
       " [<Element td at 0x7fbe8bfb1db8>,\n",
       "  <Element td at 0x7fbe8bfb1e08>,\n",
       "  <Element td at 0x7fbe8bfb1e58>,\n",
       "  <Element td at 0x7fbe8bfb1ea8>,\n",
       "  <Element td at 0x7fbe8bfb1ef8>],\n",
       " [<Element td at 0x7fbe8bfb1f48>,\n",
       "  <Element td at 0x7fbe8bfb1f98>,\n",
       "  <Element td at 0x7fbe8bfac048>,\n",
       "  <Element td at 0x7fbe8bfac098>,\n",
       "  <Element td at 0x7fbe8bfac0e8>],\n",
       " [<Element td at 0x7fbe8bfac138>,\n",
       "  <Element td at 0x7fbe8bfac188>,\n",
       "  <Element td at 0x7fbe8bfac1d8>,\n",
       "  <Element td at 0x7fbe8bfac228>,\n",
       "  <Element td at 0x7fbe8bfac278>],\n",
       " [<Element td at 0x7fbe8bfac2c8>,\n",
       "  <Element td at 0x7fbe8bfac318>,\n",
       "  <Element td at 0x7fbe8bfac368>,\n",
       "  <Element td at 0x7fbe8bfac3b8>,\n",
       "  <Element td at 0x7fbe8bfac408>],\n",
       " [<Element td at 0x7fbe8bfac458>,\n",
       "  <Element td at 0x7fbe8bfac4a8>,\n",
       "  <Element td at 0x7fbe8bfac4f8>,\n",
       "  <Element td at 0x7fbe8bfac548>,\n",
       "  <Element td at 0x7fbe8bfac598>],\n",
       " [<Element td at 0x7fbe8bfac5e8>,\n",
       "  <Element td at 0x7fbe8bfac638>,\n",
       "  <Element td at 0x7fbe8bfac688>,\n",
       "  <Element td at 0x7fbe8bfac6d8>,\n",
       "  <Element td at 0x7fbe8bfac728>],\n",
       " [<Element td at 0x7fbe8bfac778>,\n",
       "  <Element td at 0x7fbe8bfac7c8>,\n",
       "  <Element td at 0x7fbe8bfac818>,\n",
       "  <Element td at 0x7fbe8bfac868>,\n",
       "  <Element td at 0x7fbe8bfac8b8>],\n",
       " [<Element td at 0x7fbe8bfac908>,\n",
       "  <Element td at 0x7fbe8bfac958>,\n",
       "  <Element td at 0x7fbe8bfac9a8>,\n",
       "  <Element td at 0x7fbe8bfac9f8>,\n",
       "  <Element td at 0x7fbe8bfaca48>],\n",
       " [<Element td at 0x7fbe8bfaca98>,\n",
       "  <Element td at 0x7fbe8bfacae8>,\n",
       "  <Element td at 0x7fbe8bfacb38>,\n",
       "  <Element td at 0x7fbe8bfacb88>,\n",
       "  <Element td at 0x7fbe8bfacbd8>],\n",
       " [<Element td at 0x7fbe8bfacc28>,\n",
       "  <Element td at 0x7fbe8bfacc78>,\n",
       "  <Element td at 0x7fbe8bfaccc8>,\n",
       "  <Element td at 0x7fbe8bfacd18>,\n",
       "  <Element td at 0x7fbe8bfacd68>],\n",
       " [<Element td at 0x7fbe8bfacdb8>,\n",
       "  <Element td at 0x7fbe8bface08>,\n",
       "  <Element td at 0x7fbe8bface58>,\n",
       "  <Element td at 0x7fbe8bfacea8>,\n",
       "  <Element td at 0x7fbe8bfacef8>],\n",
       " [<Element td at 0x7fbe8bfacf48>,\n",
       "  <Element td at 0x7fbe8bfacf98>,\n",
       "  <Element td at 0x7fbe8bfb2048>,\n",
       "  <Element td at 0x7fbe8bfb2098>,\n",
       "  <Element td at 0x7fbe8bfb20e8>],\n",
       " [<Element td at 0x7fbe8bfb2138>,\n",
       "  <Element td at 0x7fbe8bfb2188>,\n",
       "  <Element td at 0x7fbe8bfb21d8>,\n",
       "  <Element td at 0x7fbe8bfb2228>,\n",
       "  <Element td at 0x7fbe8bfb2278>]]"
      ]
     },
     "execution_count": 137,
     "metadata": {},
     "output_type": "execute_result"
    }
   ],
   "source": [
    "[row.xpath(\"td\") for row in target_table.xpath('tr')]"
   ]
  },
  {
   "cell_type": "markdown",
   "metadata": {},
   "source": [
    "Ah, the first row has no `td` elements!  Let's look at it again:"
   ]
  },
  {
   "cell_type": "code",
   "execution_count": 138,
   "metadata": {
    "collapsed": false
   },
   "outputs": [
    {
     "data": {
      "text/plain": [
       "b'<tr><th>Filer ID</th><th>Name &amp; Address</th> <th>Phone #</th><th>Begin Date</th><th>End Date</th></tr>&#13;\\n&#13;\\n'"
      ]
     },
     "execution_count": 138,
     "metadata": {},
     "output_type": "execute_result"
    }
   ],
   "source": [
    "etree.tostring(target_table.xpath('tr')[0])"
   ]
  },
  {
   "cell_type": "markdown",
   "metadata": {},
   "source": [
    "Of course: the first row is a header row, and only contains `<th>` tags. (Actually, this is bad HTML. The `th` tags should be inside of a `<thead>` tag, and `tr` tags should be in a separate `tbody` tag, but that's not what was on the page). Let's make sure that there are 5 `td` tags when parsing a row."
   ]
  },
  {
   "cell_type": "code",
   "execution_count": 142,
   "metadata": {
    "collapsed": true
   },
   "outputs": [],
   "source": [
    "def scrape_table_second_draft(table_element):\n",
    "    scraped_rows = []\n",
    "    for row in table_element.xpath('tr'):\n",
    "        _data = {}\n",
    "        columns = row.xpath('td')\n",
    "        if len(columns) == 5:\n",
    "            _data['org_id'] = columns[0].text_content()\n",
    "            _data['org_name_and_address'] = columns[1].text_content()\n",
    "            _data['org_phone'] = columns[2].text_content()\n",
    "            _data['org_begin_date'] = columns[3].text_content()\n",
    "            _data['org_end_date'] = columns[4].text_content()\n",
    "            scraped_rows.append(_data)\n",
    "    return scraped_rows\n",
    "        "
   ]
  },
  {
   "cell_type": "code",
   "execution_count": 143,
   "metadata": {
    "collapsed": false
   },
   "outputs": [],
   "source": [
    "result = scrape_table_second_draft(target_table)"
   ]
  },
  {
   "cell_type": "code",
   "execution_count": 144,
   "metadata": {
    "collapsed": false
   },
   "outputs": [
    {
     "data": {
      "text/plain": [
       "[{'org_begin_date': '06/09/2014',\n",
       "  'org_end_date': '06/08/2018',\n",
       "  'org_id': '1066',\n",
       "  'org_name_and_address': 'AEA FUND FOR PUBLIC EDUCATION (FORMERLY) AZ PAC (AZ EDUCATION ASSN PAC)345 E PALM LNPHOENIX, AZ 85004 ',\n",
       "  'org_phone': '(602) 264-1774'},\n",
       " {'org_begin_date': '04/02/2014',\n",
       "  'org_end_date': '04/01/2018',\n",
       "  'org_id': '1354',\n",
       "  'org_name_and_address': 'AFSCME PEOPLE1625 L ST NWWASHINGTON, DC 20036 ',\n",
       "  'org_phone': '(202) 429-1088'},\n",
       " {'org_begin_date': '02/14/2014',\n",
       "  'org_end_date': '02/13/2018',\n",
       "  'org_id': '200602733',\n",
       "  'org_name_and_address': 'ARIZONA CHAMBER POLITICAL ACTION COMMITTEE3200 N CENTRAL AVE, STE 1125PHOENIX, AZ 85012 ',\n",
       "  'org_phone': '(602) 248-9172'},\n",
       " {'org_begin_date': '07/21/2014',\n",
       "  'org_end_date': '07/20/2018',\n",
       "  'org_id': '200602848',\n",
       "  'org_name_and_address': 'ARIZONA FAMILIES UNITED FOR STRONG COMMUNITIES- PROJECT OF SEIU COPE3707 N 7TH ST, STE 100PHOENIX, AZ 85014 ',\n",
       "  'org_phone': '(602) 279-8016'},\n",
       " {'org_begin_date': '01/25/2015',\n",
       "  'org_end_date': '01/24/2019',\n",
       "  'org_id': '201000081',\n",
       "  'org_name_and_address': 'Arizona List P.A.C.PO BOX 42294TUCSON, AZ 85733 ',\n",
       "  'org_phone': '(520) 327-0520'},\n",
       " {'org_begin_date': '05/15/2013',\n",
       "  'org_end_date': '05/14/2015',\n",
       "  'org_id': '1100',\n",
       "  'org_name_and_address': 'Arizona Lodging & Tourism Super PAC1240 E MISSOURI AVEPHOENIX, AZ 85014 ',\n",
       "  'org_phone': '(602) 604-0729'},\n",
       " {'org_begin_date': '02/10/2014',\n",
       "  'org_end_date': '02/09/2018',\n",
       "  'org_id': '1227',\n",
       "  'org_name_and_address': 'Arizona Pipe Trades 4693109 N 24TH STPHOENIX, AZ 85016 ',\n",
       "  'org_phone': '(602) 626-8805'},\n",
       " {'org_begin_date': '12/15/2013',\n",
       "  'org_end_date': '12/14/2017',\n",
       "  'org_id': '1065',\n",
       "  'org_name_and_address': 'AZ DENTAL POLITICAL ACTION COMMITTEE3193 N DRINKWATER BLVDSCOTTSDALE, AZ 85251 ',\n",
       "  'org_phone': '(480) 344-5777'},\n",
       " {'org_begin_date': '12/05/2013',\n",
       "  'org_end_date': '12/04/2017',\n",
       "  'org_id': '1129',\n",
       "  'org_name_and_address': 'AZ MULTIHOUSING ASSN PAC818 N 1ST STPHOENIX, AZ 85004 ',\n",
       "  'org_phone': '(602) 296-6200'},\n",
       " {'org_begin_date': '10/16/2014',\n",
       "  'org_end_date': '10/15/2018',\n",
       "  'org_id': '2109',\n",
       "  'org_name_and_address': 'BNSF Railway Company RAILPACPO BOX 961039FORT WORTH, TX 76161 ',\n",
       "  'org_phone': '(202) 347-8662'},\n",
       " {'org_begin_date': '10/10/2013',\n",
       "  'org_end_date': '10/09/2017',\n",
       "  'org_id': '200002272',\n",
       "  'org_name_and_address': 'CWA COMMUNICATIONS WORKERS OF AMERICA /AZ COMMITTEE  ON POLITICAL EDUCATION (COPE)1951 W CAMELBACK RD, STE 335PHOENIX, AZ 85015 ',\n",
       "  'org_phone': '(602) 266-2620'},\n",
       " {'org_begin_date': '11/17/2014',\n",
       "  'org_end_date': '11/16/2018',\n",
       "  'org_id': '200202405',\n",
       "  'org_name_and_address': 'Enterprise Holdings, Inc. Political Action Committee600 CORPORATE PARK DRSAINT LOUIS, MO 63105 ',\n",
       "  'org_phone': '(314) 512-5000'},\n",
       " {'org_begin_date': '12/21/2013',\n",
       "  'org_end_date': '12/20/2017',\n",
       "  'org_id': '1140',\n",
       "  'org_name_and_address': 'GREATER PHOENIX CHAMBER OF COMMERCE POLITICAL ACTION COMMITTEE201 N CENTRAL AVE, FL 27PHOENIX, AZ 85004 ',\n",
       "  'org_phone': '(602) 495-6474'},\n",
       " {'org_begin_date': '05/15/2013',\n",
       "  'org_end_date': '05/14/2015',\n",
       "  'org_id': '1452',\n",
       "  'org_name_and_address': 'HOME BUILDERS ASSN OF CENTRAL AZ POLITICAL ACTION COMMITTEE7740 N 16TH ST, STE 385PHOENIX, AZ 85020 ',\n",
       "  'org_phone': '(602) 274-6545'},\n",
       " {'org_begin_date': '01/03/2014',\n",
       "  'org_end_date': '01/02/2018',\n",
       "  'org_id': '201000325',\n",
       "  'org_name_and_address': 'Honeywell International Political Action Committee Arizona-(HIPAC AZ)101 CONSTITUTION AVE. NW, SUITE 500 WESTWASHINGTON, DC 20001 ',\n",
       "  'org_phone': '(202) 662-2644'},\n",
       " {'org_begin_date': '02/10/2014',\n",
       "  'org_end_date': '02/09/2018',\n",
       "  'org_id': '1233',\n",
       "  'org_name_and_address': 'JPMORGAN CHASE & CO ARIZONA PAC601 PENNSYLVANIA AVE NW, FL 7WASHINGTON, DC 20004 ',\n",
       "  'org_phone': '(202) 585-3750'},\n",
       " {'org_begin_date': '04/03/2014',\n",
       "  'org_end_date': '04/02/2018',\n",
       "  'org_id': '1663',\n",
       "  'org_name_and_address': 'PARADISE VALLEY FUND FOR CHILDREN IN PUBLIC EDUCATION (PV ED & SUPPORT EMPL ASSN PAC)345 E PALM LNPHOENIX, AZ 85004 ',\n",
       "  'org_phone': '(602) 407-2380'},\n",
       " {'org_begin_date': '02/25/2014',\n",
       "  'org_end_date': '02/24/2018',\n",
       "  'org_id': '1016',\n",
       "  'org_name_and_address': 'PINNACLE WEST CAPITAL CORPORATION POLITICAL ACTION COMMITTEEC/O BOB EKSTROM, 801 PENNSYLVANIA AVE NW, SUITE 214WASHINGTON, DC 20004 ',\n",
       "  'org_phone': '(202) 293-2655'},\n",
       " {'org_begin_date': '09/23/2013',\n",
       "  'org_end_date': '09/22/2017',\n",
       "  'org_id': '1155',\n",
       "  'org_name_and_address': 'REALTORS OF AZ PAC (RAPAC)255 E OSBORN RD, STE 200PHOENIX, AZ 85012 ',\n",
       "  'org_phone': '(602) 248-7787'},\n",
       " {'org_begin_date': '01/07/2014',\n",
       "  'org_end_date': '01/06/2018',\n",
       "  'org_id': '1206',\n",
       "  'org_name_and_address': 'SALT RIVER VALLEY WATER USERS ASSN POLITICAL INVOLVEMENT COMMITTEECORPORATE TAXES,  ISB336  PO BOX 52025PHOENIX, AZ 85207 ',\n",
       "  'org_phone': '(602) 236-2070'},\n",
       " {'org_begin_date': '06/09/2014',\n",
       "  'org_end_date': '06/08/2018',\n",
       "  'org_id': '201200346',\n",
       "  'org_name_and_address': 'The Political Committee of Planned Parenthood Advocates of Arizona5651 N 7TH STPHOENIX, AZ 85014 ',\n",
       "  'org_phone': '(602) 263-4215'},\n",
       " {'org_begin_date': '07/16/2013',\n",
       "  'org_end_date': '07/15/2015',\n",
       "  'org_id': '200802906',\n",
       "  'org_name_and_address': 'UNITE HERE TIP CAMPAIGN COMMITTEE275 SEVENTH AVENUE, 11TH FLOORNEW YORK, NY 10001 ',\n",
       "  'org_phone': '(212) 265-7000'},\n",
       " {'org_begin_date': '04/09/2014',\n",
       "  'org_end_date': '04/08/2018',\n",
       "  'org_id': '1797',\n",
       "  'org_name_and_address': 'UNITED FOOD & COMMERCIAL WORKERS ACTIVE BALLOT CLUB (UFCW)1775 K ST NWWASHINGTON, DC 20006 ',\n",
       "  'org_phone': '(202) 223-3111'},\n",
       " {'org_begin_date': '10/03/2013',\n",
       "  'org_end_date': '10/02/2017',\n",
       "  'org_id': '2083',\n",
       "  'org_name_and_address': 'UNITED FOOD & COMMERCIAL WORKERS UNION OF AZ LOCAL 992401 N CENTRAL AVEPHOENIX, AZ 85004 ',\n",
       "  'org_phone': '(602) 626-8805'},\n",
       " {'org_begin_date': '02/22/2015',\n",
       "  'org_end_date': '02/21/2019',\n",
       "  'org_id': '200402535',\n",
       "  'org_name_and_address': 'United Services Automobile Assn Employee PAC9800 FREDERICKSBURG RDSAN ANTONIO, TX 78288 ',\n",
       "  'org_phone': '(210) 498-0736'}]"
      ]
     },
     "execution_count": 144,
     "metadata": {},
     "output_type": "execute_result"
    }
   ],
   "source": [
    "result"
   ]
  },
  {
   "cell_type": "markdown",
   "metadata": {},
   "source": [
    "Hm, let's see if we can do a better job with that `org_name_and_address` field. We're going to want to separate them."
   ]
  },
  {
   "cell_type": "code",
   "execution_count": 145,
   "metadata": {
    "collapsed": true
   },
   "outputs": [],
   "source": [
    "rows = target_table.xpath('tr')\n",
    "row = rows[7]"
   ]
  },
  {
   "cell_type": "code",
   "execution_count": 146,
   "metadata": {
    "collapsed": false
   },
   "outputs": [],
   "source": [
    "cell = row.xpath('td')[1]"
   ]
  },
  {
   "cell_type": "code",
   "execution_count": 147,
   "metadata": {
    "collapsed": false
   },
   "outputs": [
    {
     "data": {
      "text/plain": [
       "b'<td>Arizona Pipe Trades 469<br />3109 N 24TH ST<br />PHOENIX, AZ 85016 </td>&#13;\\n'"
      ]
     },
     "execution_count": 147,
     "metadata": {},
     "output_type": "execute_result"
    }
   ],
   "source": [
    "etree.tostring(cell)"
   ]
  },
  {
   "cell_type": "markdown",
   "metadata": {},
   "source": [
    "The first part of the cell can be extracted using the `text` property. Unlike `text_content`, it will only return the text up until the first `<br/>` tag."
   ]
  },
  {
   "cell_type": "code",
   "execution_count": 148,
   "metadata": {
    "collapsed": false
   },
   "outputs": [
    {
     "data": {
      "text/plain": [
       "'Arizona Pipe Trades 469'"
      ]
     },
     "execution_count": 148,
     "metadata": {},
     "output_type": "execute_result"
    }
   ],
   "source": [
    "cell.text"
   ]
  },
  {
   "cell_type": "markdown",
   "metadata": {},
   "source": [
    "We can take advantage of the `<br />` elements, by using their `tail` properties. This property returns text that follows the element, stopping before the next element encountered."
   ]
  },
  {
   "cell_type": "code",
   "execution_count": 149,
   "metadata": {
    "collapsed": false
   },
   "outputs": [
    {
     "name": "stdout",
     "output_type": "stream",
     "text": [
      "tail: \"3109 N 24TH ST\"\n",
      "tail: \"PHOENIX, AZ 85016 \"\n"
     ]
    }
   ],
   "source": [
    "for br in cell.xpath('br'):\n",
    "    print('tail: \"{}\"'.format(br.tail))"
   ]
  },
  {
   "cell_type": "code",
   "execution_count": 151,
   "metadata": {
    "collapsed": false
   },
   "outputs": [],
   "source": [
    "def separate_name_and_address(cell):\n",
    "    name = cell.text\n",
    "    address = ', '.join([br.tail for br in cell.xpath('br')])\n",
    "    return name, address\n",
    "\n",
    "def scrape_table(table_element):\n",
    "    scraped_rows = []\n",
    "    for row in table_element.xpath('tr'):\n",
    "        _data = {}\n",
    "        columns = row.xpath('td')\n",
    "        if len(columns) == 5:\n",
    "            _data['org_id'] = columns[0].text_content()\n",
    "            _name, _address = separate_name_and_address(columns[1])\n",
    "            _data['org_name'] = _name\n",
    "            _data['org_address'] = _address\n",
    "            _data['org_phone'] = columns[2].text_content()\n",
    "            _data['org_begin_date'] = columns[3].text_content()\n",
    "            _data['org_end_date'] = columns[4].text_content()\n",
    "            scraped_rows.append(_data)\n",
    "    return scraped_rows"
   ]
  },
  {
   "cell_type": "code",
   "execution_count": 154,
   "metadata": {
    "collapsed": true
   },
   "outputs": [],
   "source": [
    "results = scrape_table(target_table)"
   ]
  },
  {
   "cell_type": "code",
   "execution_count": 155,
   "metadata": {
    "collapsed": false
   },
   "outputs": [
    {
     "data": {
      "text/plain": [
       "[{'org_address': '345 E PALM LN, PHOENIX, AZ 85004 ',\n",
       "  'org_begin_date': '06/09/2014',\n",
       "  'org_end_date': '06/08/2018',\n",
       "  'org_id': '1066',\n",
       "  'org_name': 'AEA FUND FOR PUBLIC EDUCATION (FORMERLY) AZ PAC (AZ EDUCATION ASSN PAC)',\n",
       "  'org_phone': '(602) 264-1774'},\n",
       " {'org_address': '1625 L ST NW, WASHINGTON, DC 20036 ',\n",
       "  'org_begin_date': '04/02/2014',\n",
       "  'org_end_date': '04/01/2018',\n",
       "  'org_id': '1354',\n",
       "  'org_name': 'AFSCME PEOPLE',\n",
       "  'org_phone': '(202) 429-1088'},\n",
       " {'org_address': '3200 N CENTRAL AVE, STE 1125, PHOENIX, AZ 85012 ',\n",
       "  'org_begin_date': '02/14/2014',\n",
       "  'org_end_date': '02/13/2018',\n",
       "  'org_id': '200602733',\n",
       "  'org_name': 'ARIZONA CHAMBER POLITICAL ACTION COMMITTEE',\n",
       "  'org_phone': '(602) 248-9172'},\n",
       " {'org_address': '3707 N 7TH ST, STE 100, PHOENIX, AZ 85014 ',\n",
       "  'org_begin_date': '07/21/2014',\n",
       "  'org_end_date': '07/20/2018',\n",
       "  'org_id': '200602848',\n",
       "  'org_name': 'ARIZONA FAMILIES UNITED FOR STRONG COMMUNITIES- PROJECT OF SEIU COPE',\n",
       "  'org_phone': '(602) 279-8016'},\n",
       " {'org_address': 'PO BOX 42294, TUCSON, AZ 85733 ',\n",
       "  'org_begin_date': '01/25/2015',\n",
       "  'org_end_date': '01/24/2019',\n",
       "  'org_id': '201000081',\n",
       "  'org_name': 'Arizona List P.A.C.',\n",
       "  'org_phone': '(520) 327-0520'},\n",
       " {'org_address': '1240 E MISSOURI AVE, PHOENIX, AZ 85014 ',\n",
       "  'org_begin_date': '05/15/2013',\n",
       "  'org_end_date': '05/14/2015',\n",
       "  'org_id': '1100',\n",
       "  'org_name': 'Arizona Lodging & Tourism Super PAC',\n",
       "  'org_phone': '(602) 604-0729'},\n",
       " {'org_address': '3109 N 24TH ST, PHOENIX, AZ 85016 ',\n",
       "  'org_begin_date': '02/10/2014',\n",
       "  'org_end_date': '02/09/2018',\n",
       "  'org_id': '1227',\n",
       "  'org_name': 'Arizona Pipe Trades 469',\n",
       "  'org_phone': '(602) 626-8805'},\n",
       " {'org_address': '3193 N DRINKWATER BLVD, SCOTTSDALE, AZ 85251 ',\n",
       "  'org_begin_date': '12/15/2013',\n",
       "  'org_end_date': '12/14/2017',\n",
       "  'org_id': '1065',\n",
       "  'org_name': 'AZ DENTAL POLITICAL ACTION COMMITTEE',\n",
       "  'org_phone': '(480) 344-5777'},\n",
       " {'org_address': '818 N 1ST ST, PHOENIX, AZ 85004 ',\n",
       "  'org_begin_date': '12/05/2013',\n",
       "  'org_end_date': '12/04/2017',\n",
       "  'org_id': '1129',\n",
       "  'org_name': 'AZ MULTIHOUSING ASSN PAC',\n",
       "  'org_phone': '(602) 296-6200'},\n",
       " {'org_address': 'PO BOX 961039, FORT WORTH, TX 76161 ',\n",
       "  'org_begin_date': '10/16/2014',\n",
       "  'org_end_date': '10/15/2018',\n",
       "  'org_id': '2109',\n",
       "  'org_name': 'BNSF Railway Company RAILPAC',\n",
       "  'org_phone': '(202) 347-8662'},\n",
       " {'org_address': '1951 W CAMELBACK RD, STE 335, PHOENIX, AZ 85015 ',\n",
       "  'org_begin_date': '10/10/2013',\n",
       "  'org_end_date': '10/09/2017',\n",
       "  'org_id': '200002272',\n",
       "  'org_name': 'CWA COMMUNICATIONS WORKERS OF AMERICA /AZ COMMITTEE  ON POLITICAL EDUCATION (COPE)',\n",
       "  'org_phone': '(602) 266-2620'},\n",
       " {'org_address': '600 CORPORATE PARK DR, SAINT LOUIS, MO 63105 ',\n",
       "  'org_begin_date': '11/17/2014',\n",
       "  'org_end_date': '11/16/2018',\n",
       "  'org_id': '200202405',\n",
       "  'org_name': 'Enterprise Holdings, Inc. Political Action Committee',\n",
       "  'org_phone': '(314) 512-5000'},\n",
       " {'org_address': '201 N CENTRAL AVE, FL 27, PHOENIX, AZ 85004 ',\n",
       "  'org_begin_date': '12/21/2013',\n",
       "  'org_end_date': '12/20/2017',\n",
       "  'org_id': '1140',\n",
       "  'org_name': 'GREATER PHOENIX CHAMBER OF COMMERCE POLITICAL ACTION COMMITTEE',\n",
       "  'org_phone': '(602) 495-6474'},\n",
       " {'org_address': '7740 N 16TH ST, STE 385, PHOENIX, AZ 85020 ',\n",
       "  'org_begin_date': '05/15/2013',\n",
       "  'org_end_date': '05/14/2015',\n",
       "  'org_id': '1452',\n",
       "  'org_name': 'HOME BUILDERS ASSN OF CENTRAL AZ POLITICAL ACTION COMMITTEE',\n",
       "  'org_phone': '(602) 274-6545'},\n",
       " {'org_address': '101 CONSTITUTION AVE. NW, SUITE 500 WEST, WASHINGTON, DC 20001 ',\n",
       "  'org_begin_date': '01/03/2014',\n",
       "  'org_end_date': '01/02/2018',\n",
       "  'org_id': '201000325',\n",
       "  'org_name': 'Honeywell International Political Action Committee Arizona-(HIPAC AZ)',\n",
       "  'org_phone': '(202) 662-2644'},\n",
       " {'org_address': '601 PENNSYLVANIA AVE NW, FL 7, WASHINGTON, DC 20004 ',\n",
       "  'org_begin_date': '02/10/2014',\n",
       "  'org_end_date': '02/09/2018',\n",
       "  'org_id': '1233',\n",
       "  'org_name': 'JPMORGAN CHASE & CO ARIZONA PAC',\n",
       "  'org_phone': '(202) 585-3750'},\n",
       " {'org_address': '345 E PALM LN, PHOENIX, AZ 85004 ',\n",
       "  'org_begin_date': '04/03/2014',\n",
       "  'org_end_date': '04/02/2018',\n",
       "  'org_id': '1663',\n",
       "  'org_name': 'PARADISE VALLEY FUND FOR CHILDREN IN PUBLIC EDUCATION (PV ED & SUPPORT EMPL ASSN PAC)',\n",
       "  'org_phone': '(602) 407-2380'},\n",
       " {'org_address': 'C/O BOB EKSTROM, 801 PENNSYLVANIA AVE NW, SUITE 214, WASHINGTON, DC 20004 ',\n",
       "  'org_begin_date': '02/25/2014',\n",
       "  'org_end_date': '02/24/2018',\n",
       "  'org_id': '1016',\n",
       "  'org_name': 'PINNACLE WEST CAPITAL CORPORATION POLITICAL ACTION COMMITTEE',\n",
       "  'org_phone': '(202) 293-2655'},\n",
       " {'org_address': '255 E OSBORN RD, STE 200, PHOENIX, AZ 85012 ',\n",
       "  'org_begin_date': '09/23/2013',\n",
       "  'org_end_date': '09/22/2017',\n",
       "  'org_id': '1155',\n",
       "  'org_name': 'REALTORS OF AZ PAC (RAPAC)',\n",
       "  'org_phone': '(602) 248-7787'},\n",
       " {'org_address': 'CORPORATE TAXES,  ISB336  PO BOX 52025, PHOENIX, AZ 85207 ',\n",
       "  'org_begin_date': '01/07/2014',\n",
       "  'org_end_date': '01/06/2018',\n",
       "  'org_id': '1206',\n",
       "  'org_name': 'SALT RIVER VALLEY WATER USERS ASSN POLITICAL INVOLVEMENT COMMITTEE',\n",
       "  'org_phone': '(602) 236-2070'},\n",
       " {'org_address': '5651 N 7TH ST, PHOENIX, AZ 85014 ',\n",
       "  'org_begin_date': '06/09/2014',\n",
       "  'org_end_date': '06/08/2018',\n",
       "  'org_id': '201200346',\n",
       "  'org_name': 'The Political Committee of Planned Parenthood Advocates of Arizona',\n",
       "  'org_phone': '(602) 263-4215'},\n",
       " {'org_address': '275 SEVENTH AVENUE, 11TH FLOOR, NEW YORK, NY 10001 ',\n",
       "  'org_begin_date': '07/16/2013',\n",
       "  'org_end_date': '07/15/2015',\n",
       "  'org_id': '200802906',\n",
       "  'org_name': 'UNITE HERE TIP CAMPAIGN COMMITTEE',\n",
       "  'org_phone': '(212) 265-7000'},\n",
       " {'org_address': '1775 K ST NW, WASHINGTON, DC 20006 ',\n",
       "  'org_begin_date': '04/09/2014',\n",
       "  'org_end_date': '04/08/2018',\n",
       "  'org_id': '1797',\n",
       "  'org_name': 'UNITED FOOD & COMMERCIAL WORKERS ACTIVE BALLOT CLUB (UFCW)',\n",
       "  'org_phone': '(202) 223-3111'},\n",
       " {'org_address': '2401 N CENTRAL AVE, PHOENIX, AZ 85004 ',\n",
       "  'org_begin_date': '10/03/2013',\n",
       "  'org_end_date': '10/02/2017',\n",
       "  'org_id': '2083',\n",
       "  'org_name': 'UNITED FOOD & COMMERCIAL WORKERS UNION OF AZ LOCAL 99',\n",
       "  'org_phone': '(602) 626-8805'},\n",
       " {'org_address': '9800 FREDERICKSBURG RD, SAN ANTONIO, TX 78288 ',\n",
       "  'org_begin_date': '02/22/2015',\n",
       "  'org_end_date': '02/21/2019',\n",
       "  'org_id': '200402535',\n",
       "  'org_name': 'United Services Automobile Assn Employee PAC',\n",
       "  'org_phone': '(210) 498-0736'}]"
      ]
     },
     "execution_count": 155,
     "metadata": {},
     "output_type": "execute_result"
    }
   ],
   "source": [
    "results"
   ]
  },
  {
   "cell_type": "markdown",
   "metadata": {},
   "source": [
    "## Adding to the DisclosureScraper object"
   ]
  },
  {
   "cell_type": "markdown",
   "metadata": {},
   "source": [
    "After we think that we're able to scrape the data we want, we should add the code to our scraper object.\n",
    "\n",
    "```python\n",
    "class ArizonaDisclosureScraper(Scraper):\n",
    "\n",
    "    def scrape_super_pacs(self):\n",
    "    \n",
    "        def find_the_table(html_document):\n",
    "            return d.xpath('//*[@id=\"ctl00_ctl00_MainPanel\"]/table')[0]\n",
    "    \n",
    "        def separate_name_and_address(cell):\n",
    "            name = cell.text\n",
    "            address = ', '.join([br.tail for br in cell.xpath('br')])\n",
    "            return name, address\n",
    "    \n",
    "        def scrape_table(table_element):\n",
    "            scraped_rows = []\n",
    "            for row in table_element.xpath('tr'):\n",
    "                _data = {}\n",
    "                columns = row.xpath('td')\n",
    "                if len(columns) == 5:\n",
    "                    _data['org_id'] = columns[0].text_content()\n",
    "                    _name, _address = separate_name_and_address(columns[1])\n",
    "                    _data['org_name'] = _name\n",
    "                    _data['org_address'] = _address\n",
    "                    _data['org_phone'] = columns[2].text_content()\n",
    "                    _data['org_begin_date'] = columns[3].text_content()\n",
    "                    _data['org_end_date'] = columns[4].text_content()\n",
    "                    scraped_rows.append(_data)\n",
    "            return scraped_rows\n",
    "            \n",
    "        PAC_LIST_URL = \"http://apps.azsos.gov/apps/election/cfs/search/SuperPACList.aspx\"\n",
    "        \n",
    "        resp = self.urlretrieve(PAC_LIST_URL)\n",
    "        \n",
    "        html_document = etree.fromstring(resp, parser=HTMLParser())\n",
    "        \n",
    "        target_table = find_the_table(html_document)\n",
    "        \n",
    "        results = scrape_the_table(target_table)\n",
    "\n",
    "    def scrape(self):                      \n",
    "        # needs to be implemented          \n",
    "        yield from self.scrape_super_pacs()\n",
    "```"
   ]
  },
  {
   "cell_type": "markdown",
   "metadata": {},
   "source": [
    "## Use scraped data to build Open Civic Data objects"
   ]
  },
  {
   "cell_type": "markdown",
   "metadata": {},
   "source": [
    "Let's look at how we can use the PAC data we scraped to build an `Organization` object."
   ]
  },
  {
   "cell_type": "code",
   "execution_count": 156,
   "metadata": {
    "collapsed": false
   },
   "outputs": [
    {
     "data": {
      "text/plain": [
       "{'org_address': '345 E PALM LN, PHOENIX, AZ 85004 ',\n",
       " 'org_begin_date': '06/09/2014',\n",
       " 'org_end_date': '06/08/2018',\n",
       " 'org_id': '1066',\n",
       " 'org_name': 'AEA FUND FOR PUBLIC EDUCATION (FORMERLY) AZ PAC (AZ EDUCATION ASSN PAC)',\n",
       " 'org_phone': '(602) 264-1774'}"
      ]
     },
     "execution_count": 156,
     "metadata": {},
     "output_type": "execute_result"
    }
   ],
   "source": [
    "result = results[0]\n",
    "\n",
    "result"
   ]
  },
  {
   "cell_type": "markdown",
   "metadata": {},
   "source": [
    "If we import the `Organization` scraper model, this becomes very easy:"
   ]
  },
  {
   "cell_type": "code",
   "execution_count": 102,
   "metadata": {
    "collapsed": true
   },
   "outputs": [],
   "source": [
    "from pupa.scrape.popolo import Organization"
   ]
  },
  {
   "cell_type": "code",
   "execution_count": 103,
   "metadata": {
    "collapsed": true
   },
   "outputs": [],
   "source": [
    "my_org = Organization(\n",
    "    name=result['org_name'],\n",
    "    classification='political action committee',\n",
    "    founding_date=result['org_begin_date'],\n",
    "    dissolution_date=result['org_end_date']\n",
    ")"
   ]
  },
  {
   "cell_type": "markdown",
   "metadata": {},
   "source": [
    "That's actually more information than we needed. Only the `name` and `classification` properties were required.\n",
    "\n",
    "To add other information, like contact details and identifiers, we can use special helper functions that come with the `Organization` class:"
   ]
  },
  {
   "cell_type": "code",
   "execution_count": 105,
   "metadata": {
    "collapsed": true
   },
   "outputs": [],
   "source": [
    "my_org.add_identifier(\n",
    "    identifier=result['org_id'],\n",
    "    scheme='urn:az-state:committee'\n",
    "    )"
   ]
  },
  {
   "cell_type": "code",
   "execution_count": 107,
   "metadata": {
    "collapsed": true
   },
   "outputs": [],
   "source": [
    "my_org.add_contact_detail(\n",
    "    type='address',\n",
    "    value=result['org_address']\n",
    ")"
   ]
  },
  {
   "cell_type": "code",
   "execution_count": 109,
   "metadata": {
    "collapsed": false
   },
   "outputs": [],
   "source": [
    "my_org.add_contact_detail(\n",
    "    type='voice',\n",
    "    value=result['org_phone']\n",
    ")"
   ]
  },
  {
   "cell_type": "markdown",
   "metadata": {},
   "source": [
    "To see your organization as a `dict`, use the `as_dict` method:"
   ]
  },
  {
   "cell_type": "code",
   "execution_count": 111,
   "metadata": {
    "collapsed": false
   },
   "outputs": [
    {
     "data": {
      "text/plain": [
       "{'_id': '102e7fde-e24a-11e4-a4f5-e90fe0697b56',\n",
       " 'classification': 'political action committee',\n",
       " 'contact_details': [{'note': '',\n",
       "   'type': 'address',\n",
       "   'value': '345 E PALM LN, PHOENIX, AZ 85004 '},\n",
       "  {'note': '', 'type': 'voice', 'value': '(602) 264-1774'}],\n",
       " 'dissolution_date': '06/08/2018',\n",
       " 'extras': {},\n",
       " 'founding_date': '06/09/2014',\n",
       " 'identifiers': [{'identifier': '1066', 'scheme': 'urn:az-state:committee'}],\n",
       " 'image': '',\n",
       " 'links': [],\n",
       " 'name': 'AEA FUND FOR PUBLIC EDUCATION (FORMERLY) AZ PAC (AZ EDUCATION ASSN PAC)',\n",
       " 'other_names': [],\n",
       " 'parent_id': None,\n",
       " 'source_identified': False,\n",
       " 'sources': []}"
      ]
     },
     "execution_count": 111,
     "metadata": {},
     "output_type": "execute_result"
    }
   ],
   "source": [
    "my_org.as_dict()"
   ]
  },
  {
   "cell_type": "markdown",
   "metadata": {},
   "source": [
    "Ah! That reminds me: We have to be sure to do two things to all `Person` and `Organization` objects returned by our scraper.\n",
    "\n",
    "First, Make sure `source_identified` is `True`"
   ]
  },
  {
   "cell_type": "code",
   "execution_count": 115,
   "metadata": {
    "collapsed": true
   },
   "outputs": [],
   "source": [
    "my_org.source_identified = True"
   ]
  },
  {
   "cell_type": "markdown",
   "metadata": {},
   "source": [
    "Next, make sure you include the source (ie, the URL that you found the organization at)"
   ]
  },
  {
   "cell_type": "code",
   "execution_count": 116,
   "metadata": {
    "collapsed": true
   },
   "outputs": [],
   "source": [
    "my_org.add_source(url=PAC_LIST_URL)"
   ]
  },
  {
   "cell_type": "markdown",
   "metadata": {},
   "source": [
    "## Yielding your new objects"
   ]
  },
  {
   "cell_type": "markdown",
   "metadata": {},
   "source": [
    "Adding the new code to our scraper:\n",
    "\n",
    "```python\n",
    "class ArizonaDisclosureScraper(Scraper):\n",
    "\n",
    "    def scrape_super_pacs(self):\n",
    "\n",
    "        def find_the_table(html_document):\n",
    "            return d.xpath('//*[@id=\"ctl00_ctl00_MainPanel\"]/table')[0]\n",
    "\n",
    "        def separate_name_and_address(cell):\n",
    "            name = cell.text\n",
    "            address = ', '.join([br.tail for br in cell.xpath('br')])\n",
    "            return name, address\n",
    "\n",
    "        def scrape_table(table_element):\n",
    "            scraped_rows = []\n",
    "            for row in table_element.xpath('tr'):\n",
    "                _data = {}\n",
    "                columns = row.xpath('td')\n",
    "                if len(columns) == 5:\n",
    "                    _data['org_id'] = columns[0].text_content()\n",
    "                    _name, _address = separate_name_and_address(columns[1])\n",
    "                    _data['org_name'] = _name\n",
    "                    _data['org_address'] = _address\n",
    "                    _data['org_phone'] = columns[2].text_content()\n",
    "                    _data['org_begin_date'] = columns[3].text_content()\n",
    "                    _data['org_end_date'] = columns[4].text_content()\n",
    "                    scraped_rows.append(_data)\n",
    "            return scraped_rows\n",
    "\n",
    "        PAC_LIST_URL = \"http://apps.azsos.gov/apps/election/cfs/search/SuperPACList.aspx\"\n",
    "\n",
    "        _, resp = self.urlretrieve(PAC_LIST_URL)\n",
    "\n",
    "        html_document = etree.fromstring(resp, parser=HTMLParser())\n",
    "\n",
    "        target_table = find_the_table(html_document)\n",
    "\n",
    "        results = scrape_the_table(target_table)\n",
    "        \n",
    "        for result in results:\n",
    "            _org = Organization(\n",
    "                name=result['org_name'],\n",
    "                classification='political action committee',\n",
    "                founding_date=result['org_begin_date'],\n",
    "                dissolution_date=result['org_end_date']\n",
    "            )\n",
    "            \n",
    "            _org.add_identifier(\n",
    "                identifier=result['org_id'],\n",
    "                scheme='urn:az-state:committee'\n",
    "            )\n",
    "            \n",
    "            _org.add_contact_detail(\n",
    "                type='address',\n",
    "                value=result['org_address']\n",
    "            )\n",
    "            \n",
    "            _org.add_contact_detail(\n",
    "                type='voice',\n",
    "                value=result['org_phone']\n",
    "            )\n",
    "            \n",
    "            _org.add_source(url=PAC_LIST_URL)\n",
    "            \n",
    "            _org.source_identified = True\n",
    "            \n",
    "            yield _org\n",
    "            \n",
    "\n",
    "    def scrape(self):                      \n",
    "        # needs to be implemented          \n",
    "        yield from self.scrape_super_pacs()\n",
    "```"
   ]
  },
  {
   "cell_type": "markdown",
   "metadata": {},
   "source": [
    "## Finished! "
   ]
  },
  {
   "cell_type": "markdown",
   "metadata": {},
   "source": [
    "You don't need to worry about anything after this point. After doing the hard work of writing your scraper code, you can hand off the rest (validation, database storage, deduplication) to the `pupa` framework.  "
   ]
  },
  {
   "cell_type": "markdown",
   "metadata": {},
   "source": [
    "# Running your new scraper"
   ]
  },
  {
   "cell_type": "markdown",
   "metadata": {},
   "source": [
    "Okay, time to see how well it works!  Run:\n",
    "\n",
    "```\n",
    "(iusa-scrape)$>pupa update az disclosures --scrape\n",
    "```\n",
    "\n",
    "Uh oh.\n",
    "\n",
    "```\n",
    "    no pupa_settings on path, using defaults\n",
    "    az (scrape)\n",
    "      disclosures: {}\n",
    "    Not checking sessions...\n",
    "    21:45:21 INFO pupa: save jurisdiction Arizona as jurisdiction_ocd-jurisdiction-country:us-state:az-government.json\n",
    "    21:45:21 INFO pupa: save organization Office of the Secretary of State, State of Arizona as organization_4b266268-e250-11e4-a4f5-e90fe0697b56.json\n",
    "    21:45:21 INFO scrapelib: GET - http://apps.azsos.gov/apps/election/cfs/search/SuperPACList.aspx\n",
    "    Traceback (most recent call last):\n",
    "      File \"/home/blannon/.virtualenvs/iusa-scrape/bin/pupa\", line 9, in <module>\n",
    "        load_entry_point('pupa==0.4.1', 'console_scripts', 'pupa')()\n",
    "      File \"/home/blannon/.virtualenvs/iusa-scrape/src/pupa/pupa/cli/__main__.py\", line 71, in main\n",
    "        subcommands[args.subcommand].handle(args, other)\n",
    "      File \"/home/blannon/.virtualenvs/iusa-scrape/src/pupa/pupa/cli/commands/update.py\", line 241, in handle\n",
    "        report['scrape'] = self.do_scrape(juris, args, scrapers)\n",
    "      File \"/home/blannon/.virtualenvs/iusa-scrape/src/pupa/pupa/cli/commands/update.py\", line 123, in do_scrape\n",
    "        report[scraper_name] = scraper.do_scrape(**scrape_args)\n",
    "      File \"/home/blannon/.virtualenvs/iusa-scrape/src/pupa/pupa/scrape/base.py\", line 104, in do_scrape\n",
    "        for obj in self.scrape(**kwargs) or []:\n",
    "      File \"/home/blannon/dev/ocd/scrapers-us-state/az/disclosures.py\", line 78, in scrape\n",
    "        yield from self.scrape_super_pacs()\n",
    "      File \"/home/blannon/dev/ocd/scrapers-us-state/az/disclosures.py\", line 41, in scrape_super_pacs\n",
    "        html_document = etree.fromstring(resp, parser=HTMLParser())\n",
    "      File \"lxml.etree.pyx\", line 3094, in lxml.etree.fromstring (src/lxml/lxml.etree.c:70505)\n",
    "      File \"parser.pxi\", line 1827, in lxml.etree._parseMemoryDocument (src/lxml/lxml.etree.c:106328)\n",
    "    ValueError: can only parse strings\n",
    "```\n",
    "\n",
    "Looks like something's wrong. Let's run it again, except this time we'll tell `pupa` to drop us into `pdb` when it fails. If you're not familiar with `pdb`, check out @claytron's [excellent talk](https://speakerdeck.com/claytron/so-you-think-you-can-pdb) from this year's PyCon.\n",
    "\n",
    "```\n",
    "(iusa-scrape)$>pupa --debug pdb update az disclosures --scrape\n",
    "```\n",
    "\n",
    "Now, when it crashes, we're launched into the Python debugger.\n",
    "\n",
    "```\n",
    "(Pdb) u\n",
    "> /home/blannon/dev/ocd/scrapers-us-state/lxml.etree.pyx(3094)lxml.etree.fromstring (src/lxml/lxml.etree.c:70505)()\n",
    "(Pdb) u\n",
    "> /home/blannon/dev/ocd/scrapers-us-state/az/disclosures.py(41)scrape_super_pacs()\n",
    "-> html_document = etree.fromstring(resp, parser=HTMLParser())\n",
    "(Pdb) resp\n",
    "('/tmp/tmpy2r8olmk', <Response [200]>)\n",
    "(Pdb) l\n",
    " 36  \t\n",
    " 37  \t        PAC_LIST_URL = \"http://apps.azsos.gov/apps/election/cfs/search/SuperPACList.aspx\"\n",
    " 38  \t\n",
    " 39  \t        resp = self.urlretrieve(PAC_LIST_URL)\n",
    " 40  \t\n",
    " 41  ->\t        html_document = etree.fromstring(resp, parser=HTMLParser())\n",
    " 42  \t\n",
    " 43  \t        target_table = find_the_table(html_document)\n",
    " 44  \t\n",
    " 45  \t        results = scrape_the_table(target_table)\n",
    " 46  \t\n",
    "\n",
    "```\n",
    "...ah ha! On line 41, we incorrectly assumed that `urlretrieve` would return an HTML string. Instead, it returned a tuple including the location of the temporary file and a  `Response` object.  We'll have to change that line:\n",
    "\n",
    "```diff\n",
    "diff --git a/az/disclosures.py b/az/disclosures.py\n",
    "index 64ebf1b..a10695b 100644\n",
    "--- a/az/disclosures.py\n",
    "+++ b/az/disclosures.py\n",
    "@@ -36,9 +36,9 @@ class ArizonaDisclosureScraper(Scraper):\n",
    " \n",
    "         PAC_LIST_URL = \"http://apps.azsos.gov/apps/election/cfs/search/SuperPACList.aspx\"\n",
    " \n",
    "-        resp = self.urlretrieve(PAC_LIST_URL)\n",
    "+        tmp, resp = self.urlretrieve(PAC_LIST_URL)\n",
    " \n",
    "-        html_document = etree.fromstring(resp, parser=HTMLParser())\n",
    "+        html_document = etree.fromstring(resp.content, parser=HTMLParser())\n",
    " \n",
    "         target_table = find_the_table(html_document)\n",
    "```\n",
    "\n",
    "Now, let's re-run!\n",
    "\n",
    "```\n",
    "(iusa-scrape)$>pupa --debug pdb update az disclosures --scrape\n",
    "```\n",
    "\n",
    "We'll get another error:\n",
    "\n",
    "```\n",
    "validictory.validator.ValidationError: validation of Organization 46282b8b-e254-11e4-a4f5-e90fe0697b56 failed: Value '06/08/2018' for field '<obj>.dissolution_date' does not match regular expression '(^[0-9]{4})?(-[0-9]{2}){0,2}$'\n",
    "> /home/blannon/.virtualenvs/iusa-scrape/src/pupa/pupa/scrape/base.py(191)validate()\n",
    "-> self.__class__.__name__, self._id, ve)\n",
    "(Pdb) \n",
    "```\n",
    "\n",
    "This time, `validictory`, the schema validation library, is telling us that our dates aren't formatted correctly.  Let's go back and fix that, with a `reformat_date` function:\n",
    "\n",
    "```diff\n",
    "diff --git a/az/disclosures.py b/az/disclosures.py\n",
    "index 7d33214..40d585d 100644\n",
    "--- a/az/disclosures.py\n",
    "+++ b/az/disclosures.py\n",
    "@@ -5,11 +5,17 @@ from pupa.scrape.popolo import Organization\n",
    " from lxml import etree\n",
    " from lxml.html import HTMLParser\n",
    " \n",
    "+from datetime import datetime\n",
    "+\n",
    " \n",
    " class ArizonaDisclosureScraper(Scraper):\n",
    " \n",
    "     def scrape_super_pacs(self):\n",
    " \n",
    "+        def reformat_date(datestring):\n",
    "+            dt = datetime.strptime(datestring, '%m/%d/%Y')\n",
    "+            return dt.strftime('%Y-%m-%d')\n",
    "+\n",
    "         def find_the_table(html_document):\n",
    "             return html_document.xpath('//*[@id=\"ctl00_ctl00_MainPanel\"]/table')[0]\n",
    " \n",
    "@@ -29,8 +35,8 @@ class ArizonaDisclosureScraper(Scraper):\n",
    "                     _data['org_name'] = _name\n",
    "                     _data['org_address'] = _address\n",
    "                     _data['org_phone'] = columns[2].text_content()\n",
    "-                    _data['org_begin_date'] = columns[3].text_content()\n",
    "-                    _data['org_end_date'] = columns[4].text_content()\n",
    "+                    _data['org_begin_date'] = reformat_date(columns[3].text_content())\n",
    "+                    _data['org_end_date'] = reformat_date(columns[4].text_content())\n",
    "                     scraped_rows.append(_data)\n",
    "             return scraped_rows\n",
    "```\n",
    "\n",
    "Okay, I got a good feeling about this one:\n",
    "\n",
    "```\n",
    "(iusa-scrape)$>pupa --debug pdb update az disclosures --scrape\n",
    "```\n",
    "\n",
    "Output looks great!\n",
    "\n",
    "```\n",
    "(iusa-scrape)$>pupa --debug pdb update az disclosures --scrape\n",
    "no pupa_settings on path, using defaults\n",
    "az (scrape)\n",
    "  disclosures: {}\n",
    "Not checking sessions...\n",
    "22:22:17 INFO pupa: save jurisdiction Arizona as jurisdiction_ocd-jurisdiction-country:us-state:az-government.json\n",
    "22:22:17 INFO pupa: save organization Office of the Secretary of State, State of Arizona as organization_73f49f2a-e255-11e4-a4f5-e90fe0697b56.json\n",
    "22:22:17 INFO scrapelib: GET - http://apps.azsos.gov/apps/election/cfs/search/SuperPACList.aspx\n",
    "22:22:17 INFO pupa: save organization AEA FUND FOR PUBLIC EDUCATION (FORMERLY) AZ PAC (AZ EDUCATION ASSN PAC) as organization_73f49f2b-e255-11e4-a4f5-e90fe0697b56.json\n",
    "22:22:17 INFO pupa: save organization AFSCME PEOPLE as organization_73f49f2c-e255-11e4-a4f5-e90fe0697b56.json\n",
    "22:22:17 INFO pupa: save organization ARIZONA CHAMBER POLITICAL ACTION COMMITTEE as organization_73f49f2d-e255-11e4-a4f5-e90fe0697b56.json\n",
    "22:22:17 INFO pupa: save organization ARIZONA FAMILIES UNITED FOR STRONG COMMUNITIES- PROJECT OF SEIU COPE as organization_73f49f2e-e255-11e4-a4f5-e90fe0697b56.json\n",
    "22:22:17 INFO pupa: save organization Arizona List P.A.C. as organization_73f49f2f-e255-11e4-a4f5-e90fe0697b56.json\n",
    "22:22:17 INFO pupa: save organization Arizona Lodging & Tourism Super PAC as organization_73f49f30-e255-11e4-a4f5-e90fe0697b56.json\n",
    "22:22:17 INFO pupa: save organization Arizona Pipe Trades 469 as organization_73f49f31-e255-11e4-a4f5-e90fe0697b56.json\n",
    "22:22:17 INFO pupa: save organization AZ DENTAL POLITICAL ACTION COMMITTEE as organization_73f49f32-e255-11e4-a4f5-e90fe0697b56.json\n",
    "22:22:17 INFO pupa: save organization AZ MULTIHOUSING ASSN PAC as organization_73f49f33-e255-11e4-a4f5-e90fe0697b56.json\n",
    "22:22:17 INFO pupa: save organization BNSF Railway Company RAILPAC as organization_73f49f34-e255-11e4-a4f5-e90fe0697b56.json\n",
    "22:22:17 INFO pupa: save organization CWA COMMUNICATIONS WORKERS OF AMERICA /AZ COMMITTEE  ON POLITICAL EDUCATION (COPE) as organization_73f49f35-e255-11e4-a4f5-e90fe0697b56.json\n",
    "22:22:17 INFO pupa: save organization Enterprise Holdings, Inc. Political Action Committee as organization_73f49f36-e255-11e4-a4f5-e90fe0697b56.json\n",
    "22:22:17 INFO pupa: save organization GREATER PHOENIX CHAMBER OF COMMERCE POLITICAL ACTION COMMITTEE as organization_73f49f37-e255-11e4-a4f5-e90fe0697b56.json\n",
    "22:22:17 INFO pupa: save organization HOME BUILDERS ASSN OF CENTRAL AZ POLITICAL ACTION COMMITTEE as organization_73f49f38-e255-11e4-a4f5-e90fe0697b56.json\n",
    "22:22:17 INFO pupa: save organization Honeywell International Political Action Committee Arizona-(HIPAC AZ) as organization_73f49f39-e255-11e4-a4f5-e90fe0697b56.json\n",
    "22:22:17 INFO pupa: save organization JPMORGAN CHASE & CO ARIZONA PAC as organization_73f49f3a-e255-11e4-a4f5-e90fe0697b56.json\n",
    "22:22:17 INFO pupa: save organization PARADISE VALLEY FUND FOR CHILDREN IN PUBLIC EDUCATION (PV ED & SUPPORT EMPL ASSN PAC) as organization_73f49f3b-e255-11e4-a4f5-e90fe0697b56.json\n",
    "22:22:17 INFO pupa: save organization PINNACLE WEST CAPITAL CORPORATION POLITICAL ACTION COMMITTEE as organization_73f49f3c-e255-11e4-a4f5-e90fe0697b56.json\n",
    "22:22:17 INFO pupa: save organization REALTORS OF AZ PAC (RAPAC) as organization_73f49f3d-e255-11e4-a4f5-e90fe0697b56.json\n",
    "22:22:17 INFO pupa: save organization SALT RIVER VALLEY WATER USERS ASSN POLITICAL INVOLVEMENT COMMITTEE as organization_73f49f3e-e255-11e4-a4f5-e90fe0697b56.json\n",
    "22:22:17 INFO pupa: save organization The Political Committee of Planned Parenthood Advocates of Arizona as organization_73f49f3f-e255-11e4-a4f5-e90fe0697b56.json\n",
    "22:22:17 INFO pupa: save organization UNITE HERE TIP CAMPAIGN COMMITTEE as organization_73f49f40-e255-11e4-a4f5-e90fe0697b56.json\n",
    "22:22:17 INFO pupa: save organization UNITED FOOD & COMMERCIAL WORKERS ACTIVE BALLOT CLUB (UFCW) as organization_73f49f41-e255-11e4-a4f5-e90fe0697b56.json\n",
    "22:22:17 INFO pupa: save organization UNITED FOOD & COMMERCIAL WORKERS UNION OF AZ LOCAL 99 as organization_73f49f42-e255-11e4-a4f5-e90fe0697b56.json\n",
    "22:22:17 INFO pupa: save organization United Services Automobile Assn Employee PAC as organization_73f49f43-e255-11e4-a4f5-e90fe0697b56.json\n",
    "az (scrape)\n",
    "  disclosures: {}\n",
    "disclosures scrape:\n",
    "  duration:  0:00:00.396384\n",
    "  objects:\n",
    "    organization: 25\n",
    "jurisdiction scrape:\n",
    "  duration:  0:00:00.001806\n",
    "  objects:\n",
    "    jurisdiction: 1\n",
    "    organization: 1\n",
    "```"
   ]
  },
  {
   "cell_type": "code",
   "execution_count": null,
   "metadata": {
    "collapsed": true
   },
   "outputs": [],
   "source": []
  }
 ],
 "metadata": {
  "kernelspec": {
   "display_name": "Python 3",
   "language": "python",
   "name": "python3"
  },
  "language_info": {
   "codemirror_mode": {
    "name": "ipython",
    "version": 3
   },
   "file_extension": ".py",
   "mimetype": "text/x-python",
   "name": "python",
   "nbconvert_exporter": "python",
   "pygments_lexer": "ipython3",
   "version": "3.4.2"
  }
 },
 "nbformat": 4,
 "nbformat_minor": 0
}
