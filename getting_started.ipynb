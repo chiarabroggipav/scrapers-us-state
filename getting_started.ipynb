{
 "cells": [
  {
   "cell_type": "markdown",
   "metadata": {},
   "source": [
    "# Setting up your development environ"
   ]
  },
  {
   "cell_type": "markdown",
   "metadata": {},
   "source": [
    "1. Clone the state scraper repo from Github\n",
    "\n",
    "```\n",
    "git clone https://github.com/influence-usa/scrapers-us-state.git\n",
    "```\n",
    "\n",
    "2. Make a new virtualenv\n",
    "\n",
    "```\n",
    "mkvirtualenv --python=$(which python3) <name>\n",
    "```\n",
    "  \n",
    "3. Use `pip` to install requirements\n",
    "\n",
    "```\n",
    "pip install -r requirements.txt\n",
    "```\n",
    "  \n",
    "4. If you don't see a folder for the state you're working on, run the following:\n",
    "\n",
    "```\n",
    "(iusa-scrape)$>pupa init arizona\n",
    "no pupa_settings on path, using defaults\n",
    "jurisdiction name (e.g. City of Seattle): Arizona\n",
    "division id (e.g. ocd-division/country:us/state:wa/place:seattle): ocd-division/country:us/state:az\n",
    "classification (can be: government, legislature, executive, school_system): government\n",
    "official URL: http://www.az.gov/\n",
    "create disclosures scraper? [Y/n]: Y\n",
    "create bills scraper? [y/N]: n\n",
    "create events scraper? [y/N]: y\n",
    "create votes scraper? [y/N]: n\n",
    "create people scraper? [y/N]: y\n",
    "```\n",
    "\n",
    "...what this did was create a new folder for the state. In this example, the state was Arizona (`arizona`).\n",
    "\n",
    "```\n",
    "(iusa-scrape)$>tree\n",
    ".\n",
    "├── ak\n",
    "│   └── __init__.py\n",
    "├── al\n",
    "│   ├── __init__.py\n",
    "│   └── people.py\n",
    "├── arizona\n",
    "│   ├── disclosures.py\n",
    "│   ├── events.py\n",
    "│   ├── __init__.py\n",
    "│   └── people.py\n",
    "├── md\n",
    "│   └── __init__.py\n",
    "├── README.md\n",
    "├── requirements.txt\n",
    "├── Untitled.ipynb\n",
    "└── utils\n",
    "    ├── __init__.py\n",
    "    └── lxmlize.py\n",
    "```\n",
    "  \n",
    "To follow the broader pupa convention, we'll change the directory name to `az`:\n",
    "\n",
    "```\n",
    "    (iusa-scrape)$>mv arizona az\n",
    "    (iusa-scrape)$>tree\n",
    "    tree\n",
    "    .\n",
    "    ├── ak\n",
    "    │   └── __init__.py\n",
    "    ├── al\n",
    "    │   ├── __init__.py\n",
    "    │   └── people.py\n",
    "    ├── az\n",
    "    │   ├── disclosures.py\n",
    "    │   ├── events.py\n",
    "    │   ├── __init__.py\n",
    "    │   └── people.py\n",
    "    ├── md\n",
    "    │   └── __init__.py\n",
    "    ├── README.md\n",
    "    ├── requirements.txt\n",
    "    ├── Untitled.ipynb\n",
    "    └── utils\n",
    "        ├── __init__.py\n",
    "        └── lxmlize.py\n",
    "\n",
    "5 directories, 13 files\n",
    "```\n",
    "  \n",
    "Because we told it to in the questions asked above, it also created the starter code for our scrapers: there's one each for disclosures, events and people.\n",
    "\n",
    "Also interesting is the `__init__.py` file in our state's directory.  It used the answers to our questions to build a `Jurisdiction` object that represents the state government:\n",
    "\n",
    "```python\n",
    "class Arizona(Jurisdiction):\n",
    "    division_id = \"ocd-division/country:us/state:az\"\n",
    "    classification = \"government\"\n",
    "    name = \"Arizona\"\n",
    "    url = \"https://az.gov/\"\n",
    "    scrapers = {\n",
    "        \"events\": ArizonaEventScraper,\n",
    "        \"people\": ArizonaPersonScraper,\n",
    "        \"disclosures\": ArizonaDisclosureScraper,\n",
    "    }\n",
    "\n",
    "    def get_organizations(self):\n",
    "        yield Organization(name=None, classification=None)\n",
    "```"
   ]
  },
  {
   "cell_type": "markdown",
   "metadata": {},
   "source": [
    "# Version control"
   ]
  },
  {
   "cell_type": "markdown",
   "metadata": {},
   "source": [
    "This is a good time to add and commit our changes so far.\n",
    "\n",
    "```terminal\n",
    "(iusa-scrape)$>git add az\n",
    "(iusa-scrape)$>git commit -m \"initialized arizona\"\n",
    "[master 3e622ef] initialized arizona\n",
    " 4 files changed, 47 insertions(+)\n",
    " create mode 100644 az/__init__.py\n",
    " create mode 100644 az/disclosures.py\n",
    " create mode 100644 az/events.py\n",
    " create mode 100644 az/people.py\n",
    " ```"
   ]
  },
  {
   "cell_type": "markdown",
   "metadata": {},
   "source": [
    "# Where is the data?"
   ]
  },
  {
   "cell_type": "markdown",
   "metadata": {},
   "source": [
    "# Creating global authority organizations"
   ]
  },
  {
   "cell_type": "markdown",
   "metadata": {},
   "source": [
    "## Create the Secretary of State"
   ]
  },
  {
   "cell_type": "markdown",
   "metadata": {},
   "source": [
    "The `get_organizations` method of the `Jurisdiction` class lets us define some global organizations for all of the data that we'll be scraping from Arizona's sites. For campaign finance disclosures, we'll have to define the Arizona Secretary of State's Office.\n",
    "\n",
    "```python\n",
    "def get_organizations(self):                                        \n",
    "```\n",
    "\n",
    "First, initialize using the `Organization` class.\n",
    "\n",
    "```python\n",
    "    secretary_of_state = Organization(                                    \n",
    "        name=\"Office of the Secretary of State, State of Arizona\",        \n",
    "        classification=\"office\"                                           \n",
    "    )                                                               ```\n",
    "    \n",
    "Here, we're able to set particular attributes using `kwargs`.  To get a sense of which attributes you can set at this point, check out the [source](https://github.com/influence-usa/pupa/blob/disclosures/pupa/scrape/popolo.py#L132-L182).\n",
    "\n",
    "Now, we can add other attribtues, using the helper methods found on the `Organization` class:\n",
    "\n",
    "```python\n",
    "    secretary_of_state.add_contact_detail(                                \n",
    "        type=\"voice\",                                                     \n",
    "        value=\"602-542-4285\"                                              \n",
    "    )                    \n",
    "\n",
    "    secretary_of_state.add_contact_detail(                                \n",
    "        type=\"address\",                                                   \n",
    "        value=\"1700 W Washington St Fl 7, Phoenix AZ 85007-2808\"          \n",
    "    )                                                                     \n",
    "    secretary_of_state.add_link(                                          \n",
    "        url=\"http://www.azsos.gov/\",                                      \n",
    "        note=\"Home page\"                                                  \n",
    "    )                                                                     \n",
    "```\n",
    "\n",
    "We should add the organization we've created to the `Jurisdiction` object as a semi-private property. This is useful, beacuse the `Jurisdiction` object will essentially always be accessible to all of our scrapers. Whenever we want to refer to the AZ Secretary of State, we can always access it from `Arizona` jurisdiction object.\n",
    "\n",
    "```python\n",
    "    self._secretary_of_state = secretary_of_state                   \n",
    "```\n",
    "\n",
    "Finally, yield the organization we created. This is beacause `get_organizations` is actually the first scraper that we'll run each time we run Arizona scrapers of any kind.\n",
    "\n",
    "```python\n",
    "    yield secretary_of_state                                          \n",
    "```"
   ]
  },
  {
   "cell_type": "markdown",
   "metadata": {},
   "source": [
    "## Test what we have so far!"
   ]
  },
  {
   "cell_type": "markdown",
   "metadata": {},
   "source": [
    "Cool, let's try out what we have so far.  From the project root (`scrapers-us-state`), run the command:\n",
    "\n",
    "```\n",
    "(iusa-scrape)$>pupa update az disclosures --scrape\n",
    "```\n",
    "\n",
    "This will throw a `ScrapeError` because we haven't written any of the main scrapers yet, but before it does we'll see that it creates our `Jurisdiction` object, and the `Organization` representing the Arizona Secretary of State.\n",
    "\n",
    "```\n",
    "no pupa_settings on path, using defaults\n",
    "az (scrape)\n",
    "  events: {}\n",
    "  people: {}\n",
    "  disclosures: {}\n",
    "Not checking sessions...\n",
    "13:30:10 INFO pupa: save jurisdiction Arizona as jurisdiction_ocd-jurisdiction-country:us-state:az-government.json\n",
    "13:30:10 INFO pupa: save organization Office of the Secretary of State, State of Arizona as organization_1e330580-e20b-11e4-a4f5-e90fe0697b56.json\n",
    "```"
   ]
  },
  {
   "cell_type": "markdown",
   "metadata": {},
   "source": [
    "# Starting a new scraper"
   ]
  },
  {
   "cell_type": "markdown",
   "metadata": {},
   "source": [
    "Now it's time to start writing the real meat and potatoes of our scraping code."
   ]
  },
  {
   "cell_type": "markdown",
   "metadata": {},
   "source": [
    "## Locate the source of the data"
   ]
  },
  {
   "cell_type": "markdown",
   "metadata": {},
   "source": [
    "Check out the [Big Board](https://docs.google.com/spreadsheets/d/18-MvVJXg8TkUUNhtBmWoCEPUWEMf7F6-YVV6x7CWrg4/pubhtml) to see which URL you should use to start. Explore the links on that page until you find the data you're looking for.\n",
    "\n",
    "For this example, we'll look at the Arizona Super PAC list. "
   ]
  },
  {
   "cell_type": "code",
   "execution_count": 11,
   "metadata": {
    "collapsed": true
   },
   "outputs": [],
   "source": [
    "PAC_LIST_URL = \"http://apps.azsos.gov/apps/election/cfs/search/SuperPACList.aspx\""
   ]
  },
  {
   "cell_type": "markdown",
   "metadata": {},
   "source": [
    "## Adding new scrape routines"
   ]
  },
  {
   "cell_type": "markdown",
   "metadata": {},
   "source": [
    "We're going to add our code to `az/disclosures.py`. \n",
    "\n",
    "```python\n",
    "class ArizonaDisclosureScraper(Scraper):\n",
    "                                           \n",
    "    def scrape_super_pacs(self):           \n",
    "        pass                               \n",
    "                                           \n",
    "    def scrape(self):                      \n",
    "        # needs to be implemented          \n",
    "        yield from self.scrape_super_pacs()\n",
    "```\n",
    "\n",
    "When we're through, the `pupa` CLI commands will call the `scrape` command. It's good practice to follow this pattern to break down that command into a series of subroutines, one for each type of data you're returning. The pupa software actually doesn't care, though, it just expects a stream of Open Civic Data scrape objects (`Person`, `Organizaton`, `Event`, etc)."
   ]
  },
  {
   "cell_type": "markdown",
   "metadata": {},
   "source": [
    "## Developing your scraper"
   ]
  },
  {
   "cell_type": "markdown",
   "metadata": {},
   "source": [
    "At this point, you might want to move to a REPL (or, even better, to an IPython notebook) so that you can start figuring out how to obtain the target data. You'll \n",
    "\n",
    "In this example, things are fairly straightforward.  There's a `<table>` element in the middle of the page that has all the information we need to generate the `Organization` objects that we want."
   ]
  },
  {
   "cell_type": "code",
   "execution_count": 12,
   "metadata": {
    "collapsed": false
   },
   "outputs": [],
   "source": [
    "from lxml import etree\n",
    "from lxml.html import HTMLParser\n",
    "\n",
    "import scrapelib"
   ]
  },
  {
   "cell_type": "markdown",
   "metadata": {},
   "source": [
    "The scraper we'll eventually write is a subclass of `scrapelib.Scraper()` (see the `Scraper` class in [pupa/pupa/scrape/base.py](https://github.com/influence-usa/pupa/blob/disclosures/pupa/scrape/base.py)), and working with the parent class will be close enough to reality when we're undergoing trial and error at first."
   ]
  },
  {
   "cell_type": "code",
   "execution_count": 13,
   "metadata": {
    "collapsed": true
   },
   "outputs": [],
   "source": [
    "my_scraper = scrapelib.Scraper()"
   ]
  },
  {
   "cell_type": "code",
   "execution_count": 14,
   "metadata": {
    "collapsed": true
   },
   "outputs": [],
   "source": [
    "_, resp = my_scraper.urlretrieve(PAC_LIST_URL)"
   ]
  },
  {
   "cell_type": "code",
   "execution_count": 16,
   "metadata": {
    "collapsed": false
   },
   "outputs": [],
   "source": [
    "d = etree.fromstring(resp.content, parser=HTMLParser())"
   ]
  },
  {
   "cell_type": "markdown",
   "metadata": {},
   "source": [
    "The easiest thing to do is just look for the table we're interested by writing an xpath query. The `<table>` "
   ]
  },
  {
   "cell_type": "code",
   "execution_count": 17,
   "metadata": {
    "collapsed": false
   },
   "outputs": [
    {
     "data": {
      "text/plain": [
       "[<Element table at 0x7fc07468e368>, <Element table at 0x7fc07468e3b8>]"
      ]
     },
     "execution_count": 17,
     "metadata": {},
     "output_type": "execute_result"
    }
   ],
   "source": [
    "d.xpath('//table')"
   ]
  },
  {
   "cell_type": "markdown",
   "metadata": {},
   "source": [
    "Hm, looks like there's more than one, so we're going to have to narrow our XPath query. Here's where we can cheat: using Chrome/Chromium, we can right click on the table, and select \"Inspect Element\" from the dropdown. This opens Developer Tools and shows us where in the page's source that object is. Right click on the `<table>` tag and select \"Copy XPath\". Now paste the results into a text editor.  What you'll see is:\n",
    "\n",
    "    //*[@id=\"ctl00_ctl00_MainPanel\"]/table\n",
    "    \n",
    "Chrome DevTools does its best to find a short-ish query that uniquely identifies the node you've selected. The results of this query will be more targeted."
   ]
  },
  {
   "cell_type": "code",
   "execution_count": 18,
   "metadata": {
    "collapsed": false
   },
   "outputs": [
    {
     "data": {
      "text/plain": [
       "[<Element table at 0x7fc07468e3b8>]"
      ]
     },
     "execution_count": 18,
     "metadata": {},
     "output_type": "execute_result"
    }
   ],
   "source": [
    "d.xpath('//*[@id=\"ctl00_ctl00_MainPanel\"]/table')"
   ]
  },
  {
   "cell_type": "markdown",
   "metadata": {},
   "source": [
    "Notice that this is still a list. To access it we'll need to select the object by indexing with `[0]`.\n",
    "\n",
    "We know that the information we need is in this table, and using IPython we can test out scripts that scrape the data."
   ]
  },
  {
   "cell_type": "code",
   "execution_count": 19,
   "metadata": {
    "collapsed": true
   },
   "outputs": [],
   "source": [
    "target_table = d.xpath('//*[@id=\"ctl00_ctl00_MainPanel\"]/table')[0]"
   ]
  },
  {
   "cell_type": "markdown",
   "metadata": {},
   "source": [
    "The `table` element can, in turn, be queried with an XPath query. We can get all of the rows with `tbody/tr`."
   ]
  },
  {
   "cell_type": "code",
   "execution_count": 20,
   "metadata": {
    "collapsed": false,
    "scrolled": true
   },
   "outputs": [
    {
     "data": {
      "text/plain": [
       "26"
      ]
     },
     "execution_count": 20,
     "metadata": {},
     "output_type": "execute_result"
    }
   ],
   "source": [
    "rows = target_table.xpath('tr')\n",
    "len(rows)"
   ]
  },
  {
   "cell_type": "code",
   "execution_count": 21,
   "metadata": {
    "collapsed": false
   },
   "outputs": [
    {
     "data": {
      "text/plain": [
       "<Element tr at 0x7fc07468e728>"
      ]
     },
     "execution_count": 21,
     "metadata": {},
     "output_type": "execute_result"
    }
   ],
   "source": [
    "rows[0]"
   ]
  },
  {
   "cell_type": "code",
   "execution_count": 22,
   "metadata": {
    "collapsed": true
   },
   "outputs": [],
   "source": [
    "def find_the_table(html_document):\n",
    "    return d.xpath('//*[@id=\"ctl00_ctl00_MainPanel\"]/table')[0]"
   ]
  },
  {
   "cell_type": "markdown",
   "metadata": {},
   "source": [
    "To see what the original HTML string of any element looks like, use:"
   ]
  },
  {
   "cell_type": "code",
   "execution_count": 23,
   "metadata": {
    "collapsed": false
   },
   "outputs": [
    {
     "data": {
      "text/plain": [
       "b'<tr>&#13;\\n&#13;\\n<td>201000081</td>&#13;\\n<td>Arizona List P.A.C.<br />PO BOX 42294<br />TUCSON, AZ 85733 </td>&#13;\\n<td>(520) 327-0520</td>&#13;\\n<td>01/25/2015</td>&#13;\\n<td>01/24/2019</td>&#13;\\n</tr>&#13;\\n&#13;\\n'"
      ]
     },
     "execution_count": 23,
     "metadata": {},
     "output_type": "execute_result"
    }
   ],
   "source": [
    "etree.tostring(rows[5])"
   ]
  },
  {
   "cell_type": "markdown",
   "metadata": {},
   "source": [
    "Now we can write functions to query for, and parse each table. It can be helpful when debugging to break up your scraper's code into small functions, so that when (not if ;) something goes wrong, it's easier to tell where and why."
   ]
  },
  {
   "cell_type": "code",
   "execution_count": 24,
   "metadata": {
    "collapsed": true
   },
   "outputs": [],
   "source": [
    "def scrape_table_first_draft(table_element):\n",
    "    scraped_rows = []\n",
    "    for row in table_element.xpath('tr'):\n",
    "        _data = {}\n",
    "        columns = row.xpath('td')\n",
    "        _data['org_id'] = columns[0].text_content()\n",
    "        _data['org_name_and_address'] = columns[1].text_content()\n",
    "        _data['org_phone'] = columns[2].text_content()\n",
    "        _data['org_begin_date'] = columns[3].text_content()\n",
    "        _data['org_end_date'] = columns[4].text_content()\n",
    "        scraped_rows.append(_data)\n",
    "    return scraped_rows"
   ]
  },
  {
   "cell_type": "code",
   "execution_count": 25,
   "metadata": {
    "collapsed": false
   },
   "outputs": [
    {
     "ename": "IndexError",
     "evalue": "list index out of range",
     "output_type": "error",
     "traceback": [
      "\u001b[1;31m---------------------------------------------------------------------------\u001b[0m",
      "\u001b[1;31mIndexError\u001b[0m                                Traceback (most recent call last)",
      "\u001b[1;32m<ipython-input-25-fd2553283391>\u001b[0m in \u001b[0;36m<module>\u001b[1;34m()\u001b[0m\n\u001b[1;32m----> 1\u001b[1;33m \u001b[0mscrape_table_first_draft\u001b[0m\u001b[1;33m(\u001b[0m\u001b[0mtarget_table\u001b[0m\u001b[1;33m)\u001b[0m\u001b[1;33m\u001b[0m\u001b[0m\n\u001b[0m",
      "\u001b[1;32m<ipython-input-24-c1bb3e62f865>\u001b[0m in \u001b[0;36mscrape_table_first_draft\u001b[1;34m(table_element)\u001b[0m\n\u001b[0;32m      4\u001b[0m         \u001b[0m_data\u001b[0m \u001b[1;33m=\u001b[0m \u001b[1;33m{\u001b[0m\u001b[1;33m}\u001b[0m\u001b[1;33m\u001b[0m\u001b[0m\n\u001b[0;32m      5\u001b[0m         \u001b[0mcolumns\u001b[0m \u001b[1;33m=\u001b[0m \u001b[0mrow\u001b[0m\u001b[1;33m.\u001b[0m\u001b[0mxpath\u001b[0m\u001b[1;33m(\u001b[0m\u001b[1;34m'td'\u001b[0m\u001b[1;33m)\u001b[0m\u001b[1;33m\u001b[0m\u001b[0m\n\u001b[1;32m----> 6\u001b[1;33m         \u001b[0m_data\u001b[0m\u001b[1;33m[\u001b[0m\u001b[1;34m'org_id'\u001b[0m\u001b[1;33m]\u001b[0m \u001b[1;33m=\u001b[0m \u001b[0mcolumns\u001b[0m\u001b[1;33m[\u001b[0m\u001b[1;36m0\u001b[0m\u001b[1;33m]\u001b[0m\u001b[1;33m.\u001b[0m\u001b[0mtext_content\u001b[0m\u001b[1;33m(\u001b[0m\u001b[1;33m)\u001b[0m\u001b[1;33m\u001b[0m\u001b[0m\n\u001b[0m\u001b[0;32m      7\u001b[0m         \u001b[0m_data\u001b[0m\u001b[1;33m[\u001b[0m\u001b[1;34m'org_name_and_address'\u001b[0m\u001b[1;33m]\u001b[0m \u001b[1;33m=\u001b[0m \u001b[0mcolumns\u001b[0m\u001b[1;33m[\u001b[0m\u001b[1;36m1\u001b[0m\u001b[1;33m]\u001b[0m\u001b[1;33m.\u001b[0m\u001b[0mtext_content\u001b[0m\u001b[1;33m(\u001b[0m\u001b[1;33m)\u001b[0m\u001b[1;33m\u001b[0m\u001b[0m\n\u001b[0;32m      8\u001b[0m         \u001b[0m_data\u001b[0m\u001b[1;33m[\u001b[0m\u001b[1;34m'org_phone'\u001b[0m\u001b[1;33m]\u001b[0m \u001b[1;33m=\u001b[0m \u001b[0mcolumns\u001b[0m\u001b[1;33m[\u001b[0m\u001b[1;36m2\u001b[0m\u001b[1;33m]\u001b[0m\u001b[1;33m.\u001b[0m\u001b[0mtext_content\u001b[0m\u001b[1;33m(\u001b[0m\u001b[1;33m)\u001b[0m\u001b[1;33m\u001b[0m\u001b[0m\n",
      "\u001b[1;31mIndexError\u001b[0m: list index out of range"
     ]
    }
   ],
   "source": [
    "scrape_table_first_draft(target_table)"
   ]
  },
  {
   "cell_type": "markdown",
   "metadata": {},
   "source": [
    "Oops! Let's look at what happened. We got an `IndexError` when looking for item `0` in the list `columns`. Expect to see a lot of these kinds of errors when writing `lxml` scrapers. It usually means that an XPath query returned an empty list.  Let's make use our `\"td\"` query is working on each row:"
   ]
  },
  {
   "cell_type": "code",
   "execution_count": 26,
   "metadata": {
    "collapsed": false
   },
   "outputs": [
    {
     "data": {
      "text/plain": [
       "[[],\n",
       " [<Element td at 0x7fc07469f4a8>,\n",
       "  <Element td at 0x7fc07469f408>,\n",
       "  <Element td at 0x7fc07469f138>,\n",
       "  <Element td at 0x7fc07469f958>,\n",
       "  <Element td at 0x7fc07469f9a8>],\n",
       " [<Element td at 0x7fc07469f9f8>,\n",
       "  <Element td at 0x7fc07469fa48>,\n",
       "  <Element td at 0x7fc07469fa98>,\n",
       "  <Element td at 0x7fc07469fae8>,\n",
       "  <Element td at 0x7fc07469fb38>],\n",
       " [<Element td at 0x7fc07469fb88>,\n",
       "  <Element td at 0x7fc07469fbd8>,\n",
       "  <Element td at 0x7fc07469fc28>,\n",
       "  <Element td at 0x7fc07469fc78>,\n",
       "  <Element td at 0x7fc07469fcc8>],\n",
       " [<Element td at 0x7fc07469fd18>,\n",
       "  <Element td at 0x7fc07469fd68>,\n",
       "  <Element td at 0x7fc07469fdb8>,\n",
       "  <Element td at 0x7fc07469fe08>,\n",
       "  <Element td at 0x7fc07469fe58>],\n",
       " [<Element td at 0x7fc07469fea8>,\n",
       "  <Element td at 0x7fc07469fef8>,\n",
       "  <Element td at 0x7fc07469ff48>,\n",
       "  <Element td at 0x7fc07469ff98>,\n",
       "  <Element td at 0x7fc0746b1048>],\n",
       " [<Element td at 0x7fc0746b1098>,\n",
       "  <Element td at 0x7fc0746b10e8>,\n",
       "  <Element td at 0x7fc0746b1138>,\n",
       "  <Element td at 0x7fc0746b1188>,\n",
       "  <Element td at 0x7fc0746b11d8>],\n",
       " [<Element td at 0x7fc0746b1228>,\n",
       "  <Element td at 0x7fc0746b1278>,\n",
       "  <Element td at 0x7fc0746b12c8>,\n",
       "  <Element td at 0x7fc0746b1318>,\n",
       "  <Element td at 0x7fc0746b1368>],\n",
       " [<Element td at 0x7fc0746b13b8>,\n",
       "  <Element td at 0x7fc0746b1408>,\n",
       "  <Element td at 0x7fc0746b1458>,\n",
       "  <Element td at 0x7fc0746b14a8>,\n",
       "  <Element td at 0x7fc0746b14f8>],\n",
       " [<Element td at 0x7fc0746b1548>,\n",
       "  <Element td at 0x7fc0746b1598>,\n",
       "  <Element td at 0x7fc0746b15e8>,\n",
       "  <Element td at 0x7fc0746b1638>,\n",
       "  <Element td at 0x7fc0746b1688>],\n",
       " [<Element td at 0x7fc0746b16d8>,\n",
       "  <Element td at 0x7fc0746b1728>,\n",
       "  <Element td at 0x7fc0746b1778>,\n",
       "  <Element td at 0x7fc0746b17c8>,\n",
       "  <Element td at 0x7fc0746b1818>],\n",
       " [<Element td at 0x7fc0746b1868>,\n",
       "  <Element td at 0x7fc0746b18b8>,\n",
       "  <Element td at 0x7fc0746b1908>,\n",
       "  <Element td at 0x7fc0746b1958>,\n",
       "  <Element td at 0x7fc0746b19a8>],\n",
       " [<Element td at 0x7fc0746b19f8>,\n",
       "  <Element td at 0x7fc0746b1a48>,\n",
       "  <Element td at 0x7fc0746b1a98>,\n",
       "  <Element td at 0x7fc0746b1ae8>,\n",
       "  <Element td at 0x7fc0746b1b38>],\n",
       " [<Element td at 0x7fc0746b1b88>,\n",
       "  <Element td at 0x7fc0746b1bd8>,\n",
       "  <Element td at 0x7fc0746b1c28>,\n",
       "  <Element td at 0x7fc0746b1c78>,\n",
       "  <Element td at 0x7fc0746b1cc8>],\n",
       " [<Element td at 0x7fc0746b1d18>,\n",
       "  <Element td at 0x7fc0746b1d68>,\n",
       "  <Element td at 0x7fc0746b1db8>,\n",
       "  <Element td at 0x7fc0746b1e08>,\n",
       "  <Element td at 0x7fc0746b1e58>],\n",
       " [<Element td at 0x7fc0746b1ea8>,\n",
       "  <Element td at 0x7fc0746b1ef8>,\n",
       "  <Element td at 0x7fc0746b1f48>,\n",
       "  <Element td at 0x7fc0746b1f98>,\n",
       "  <Element td at 0x7fc0746b2048>],\n",
       " [<Element td at 0x7fc0746b2098>,\n",
       "  <Element td at 0x7fc0746b20e8>,\n",
       "  <Element td at 0x7fc0746b2138>,\n",
       "  <Element td at 0x7fc0746b2188>,\n",
       "  <Element td at 0x7fc0746b21d8>],\n",
       " [<Element td at 0x7fc0746b2228>,\n",
       "  <Element td at 0x7fc0746b2278>,\n",
       "  <Element td at 0x7fc0746b22c8>,\n",
       "  <Element td at 0x7fc0746b2318>,\n",
       "  <Element td at 0x7fc0746b2368>],\n",
       " [<Element td at 0x7fc0746b23b8>,\n",
       "  <Element td at 0x7fc0746b2408>,\n",
       "  <Element td at 0x7fc0746b2458>,\n",
       "  <Element td at 0x7fc0746b24a8>,\n",
       "  <Element td at 0x7fc0746b24f8>],\n",
       " [<Element td at 0x7fc0746b2548>,\n",
       "  <Element td at 0x7fc0746b2598>,\n",
       "  <Element td at 0x7fc0746b25e8>,\n",
       "  <Element td at 0x7fc0746b2638>,\n",
       "  <Element td at 0x7fc0746b2688>],\n",
       " [<Element td at 0x7fc0746b26d8>,\n",
       "  <Element td at 0x7fc0746b2728>,\n",
       "  <Element td at 0x7fc0746b2778>,\n",
       "  <Element td at 0x7fc0746b27c8>,\n",
       "  <Element td at 0x7fc0746b2818>],\n",
       " [<Element td at 0x7fc0746b2868>,\n",
       "  <Element td at 0x7fc0746b28b8>,\n",
       "  <Element td at 0x7fc0746b2908>,\n",
       "  <Element td at 0x7fc0746b2958>,\n",
       "  <Element td at 0x7fc0746b29a8>],\n",
       " [<Element td at 0x7fc0746b29f8>,\n",
       "  <Element td at 0x7fc0746b2a48>,\n",
       "  <Element td at 0x7fc0746b2a98>,\n",
       "  <Element td at 0x7fc0746b2ae8>,\n",
       "  <Element td at 0x7fc0746b2b38>],\n",
       " [<Element td at 0x7fc0746b2b88>,\n",
       "  <Element td at 0x7fc0746b2bd8>,\n",
       "  <Element td at 0x7fc0746b2c28>,\n",
       "  <Element td at 0x7fc0746b2c78>,\n",
       "  <Element td at 0x7fc0746b2cc8>],\n",
       " [<Element td at 0x7fc0746b2d18>,\n",
       "  <Element td at 0x7fc0746b2d68>,\n",
       "  <Element td at 0x7fc0746b2db8>,\n",
       "  <Element td at 0x7fc0746b2e08>,\n",
       "  <Element td at 0x7fc0746b2e58>],\n",
       " [<Element td at 0x7fc0746b2ea8>,\n",
       "  <Element td at 0x7fc0746b2ef8>,\n",
       "  <Element td at 0x7fc0746b2f48>,\n",
       "  <Element td at 0x7fc0746b2f98>,\n",
       "  <Element td at 0x7fc0746b3048>]]"
      ]
     },
     "execution_count": 26,
     "metadata": {},
     "output_type": "execute_result"
    }
   ],
   "source": [
    "[row.xpath(\"td\") for row in target_table.xpath('tr')]"
   ]
  },
  {
   "cell_type": "markdown",
   "metadata": {},
   "source": [
    "Ah, the first row has no `td` elements!  Let's look at it again:"
   ]
  },
  {
   "cell_type": "code",
   "execution_count": 27,
   "metadata": {
    "collapsed": false
   },
   "outputs": [
    {
     "data": {
      "text/plain": [
       "b'<tr><th>Filer ID</th><th>Name &amp; Address</th> <th>Phone #</th><th>Begin Date</th><th>End Date</th></tr>&#13;\\n&#13;\\n'"
      ]
     },
     "execution_count": 27,
     "metadata": {},
     "output_type": "execute_result"
    }
   ],
   "source": [
    "etree.tostring(target_table.xpath('tr')[0])"
   ]
  },
  {
   "cell_type": "markdown",
   "metadata": {},
   "source": [
    "Of course: the first row is a header row, and only contains `<th>` tags. (Actually, this is bad HTML. The `th` tags should be inside of a `<thead>` tag, and `tr` tags should be in a separate `tbody` tag, but that's not what was on the page). Let's make sure that there are 5 `td` tags when parsing a row."
   ]
  },
  {
   "cell_type": "code",
   "execution_count": 28,
   "metadata": {
    "collapsed": true
   },
   "outputs": [],
   "source": [
    "def scrape_table_second_draft(table_element):\n",
    "    scraped_rows = []\n",
    "    for row in table_element.xpath('tr'):\n",
    "        _data = {}\n",
    "        columns = row.xpath('td')\n",
    "        if len(columns) == 5:\n",
    "            _data['org_id'] = columns[0].text_content()\n",
    "            _data['org_name_and_address'] = columns[1].text_content()\n",
    "            _data['org_phone'] = columns[2].text_content()\n",
    "            _data['org_begin_date'] = columns[3].text_content()\n",
    "            _data['org_end_date'] = columns[4].text_content()\n",
    "            scraped_rows.append(_data)\n",
    "    return scraped_rows\n",
    "        "
   ]
  },
  {
   "cell_type": "code",
   "execution_count": 29,
   "metadata": {
    "collapsed": false
   },
   "outputs": [],
   "source": [
    "result = scrape_table_second_draft(target_table)"
   ]
  },
  {
   "cell_type": "code",
   "execution_count": 30,
   "metadata": {
    "collapsed": false
   },
   "outputs": [
    {
     "data": {
      "text/plain": [
       "[{'org_begin_date': '06/09/2014',\n",
       "  'org_end_date': '06/08/2018',\n",
       "  'org_id': '1066',\n",
       "  'org_name_and_address': 'AEA FUND FOR PUBLIC EDUCATION (FORMERLY) AZ PAC (AZ EDUCATION ASSN PAC)345 E PALM LNPHOENIX, AZ 85004 ',\n",
       "  'org_phone': '(602) 264-1774'},\n",
       " {'org_begin_date': '04/02/2014',\n",
       "  'org_end_date': '04/01/2018',\n",
       "  'org_id': '1354',\n",
       "  'org_name_and_address': 'AFSCME PEOPLE1625 L ST NWWASHINGTON, DC 20036 ',\n",
       "  'org_phone': '(202) 429-1088'},\n",
       " {'org_begin_date': '02/14/2014',\n",
       "  'org_end_date': '02/13/2018',\n",
       "  'org_id': '200602733',\n",
       "  'org_name_and_address': 'ARIZONA CHAMBER POLITICAL ACTION COMMITTEE3200 N CENTRAL AVE, STE 1125PHOENIX, AZ 85012 ',\n",
       "  'org_phone': '(602) 248-9172'},\n",
       " {'org_begin_date': '07/21/2014',\n",
       "  'org_end_date': '07/20/2018',\n",
       "  'org_id': '200602848',\n",
       "  'org_name_and_address': 'ARIZONA FAMILIES UNITED FOR STRONG COMMUNITIES- PROJECT OF SEIU COPE3707 N 7TH ST, STE 100PHOENIX, AZ 85014 ',\n",
       "  'org_phone': '(602) 279-8016'},\n",
       " {'org_begin_date': '01/25/2015',\n",
       "  'org_end_date': '01/24/2019',\n",
       "  'org_id': '201000081',\n",
       "  'org_name_and_address': 'Arizona List P.A.C.PO BOX 42294TUCSON, AZ 85733 ',\n",
       "  'org_phone': '(520) 327-0520'},\n",
       " {'org_begin_date': '05/15/2013',\n",
       "  'org_end_date': '05/14/2015',\n",
       "  'org_id': '1100',\n",
       "  'org_name_and_address': 'Arizona Lodging & Tourism Super PAC1240 E MISSOURI AVEPHOENIX, AZ 85014 ',\n",
       "  'org_phone': '(602) 604-0729'},\n",
       " {'org_begin_date': '02/10/2014',\n",
       "  'org_end_date': '02/09/2018',\n",
       "  'org_id': '1227',\n",
       "  'org_name_and_address': 'Arizona Pipe Trades 4693109 N 24TH STPHOENIX, AZ 85016 ',\n",
       "  'org_phone': '(602) 626-8805'},\n",
       " {'org_begin_date': '12/15/2013',\n",
       "  'org_end_date': '12/14/2017',\n",
       "  'org_id': '1065',\n",
       "  'org_name_and_address': 'AZ DENTAL POLITICAL ACTION COMMITTEE3193 N DRINKWATER BLVDSCOTTSDALE, AZ 85251 ',\n",
       "  'org_phone': '(480) 344-5777'},\n",
       " {'org_begin_date': '12/05/2013',\n",
       "  'org_end_date': '12/04/2017',\n",
       "  'org_id': '1129',\n",
       "  'org_name_and_address': 'AZ MULTIHOUSING ASSN PAC818 N 1ST STPHOENIX, AZ 85004 ',\n",
       "  'org_phone': '(602) 296-6200'},\n",
       " {'org_begin_date': '10/16/2014',\n",
       "  'org_end_date': '10/15/2018',\n",
       "  'org_id': '2109',\n",
       "  'org_name_and_address': 'BNSF Railway Company RAILPACPO BOX 961039FORT WORTH, TX 76161 ',\n",
       "  'org_phone': '(202) 347-8662'},\n",
       " {'org_begin_date': '10/10/2013',\n",
       "  'org_end_date': '10/09/2017',\n",
       "  'org_id': '200002272',\n",
       "  'org_name_and_address': 'CWA COMMUNICATIONS WORKERS OF AMERICA /AZ COMMITTEE  ON POLITICAL EDUCATION (COPE)1951 W CAMELBACK RD, STE 335PHOENIX, AZ 85015 ',\n",
       "  'org_phone': '(602) 266-2620'},\n",
       " {'org_begin_date': '11/17/2014',\n",
       "  'org_end_date': '11/16/2018',\n",
       "  'org_id': '200202405',\n",
       "  'org_name_and_address': 'Enterprise Holdings, Inc. Political Action Committee600 CORPORATE PARK DRSAINT LOUIS, MO 63105 ',\n",
       "  'org_phone': '(314) 512-5000'},\n",
       " {'org_begin_date': '12/21/2013',\n",
       "  'org_end_date': '12/20/2017',\n",
       "  'org_id': '1140',\n",
       "  'org_name_and_address': 'GREATER PHOENIX CHAMBER OF COMMERCE POLITICAL ACTION COMMITTEE201 N CENTRAL AVE, FL 27PHOENIX, AZ 85004 ',\n",
       "  'org_phone': '(602) 495-6474'},\n",
       " {'org_begin_date': '05/15/2013',\n",
       "  'org_end_date': '05/14/2015',\n",
       "  'org_id': '1452',\n",
       "  'org_name_and_address': 'HOME BUILDERS ASSN OF CENTRAL AZ POLITICAL ACTION COMMITTEE7740 N 16TH ST, STE 385PHOENIX, AZ 85020 ',\n",
       "  'org_phone': '(602) 274-6545'},\n",
       " {'org_begin_date': '01/03/2014',\n",
       "  'org_end_date': '01/02/2018',\n",
       "  'org_id': '201000325',\n",
       "  'org_name_and_address': 'Honeywell International Political Action Committee Arizona-(HIPAC AZ)101 CONSTITUTION AVE. NW, SUITE 500 WESTWASHINGTON, DC 20001 ',\n",
       "  'org_phone': '(202) 662-2644'},\n",
       " {'org_begin_date': '02/10/2014',\n",
       "  'org_end_date': '02/09/2018',\n",
       "  'org_id': '1233',\n",
       "  'org_name_and_address': 'JPMORGAN CHASE & CO ARIZONA PAC601 PENNSYLVANIA AVE NW, FL 7WASHINGTON, DC 20004 ',\n",
       "  'org_phone': '(202) 585-3750'},\n",
       " {'org_begin_date': '04/03/2014',\n",
       "  'org_end_date': '04/02/2018',\n",
       "  'org_id': '1663',\n",
       "  'org_name_and_address': 'PARADISE VALLEY FUND FOR CHILDREN IN PUBLIC EDUCATION (PV ED & SUPPORT EMPL ASSN PAC)345 E PALM LNPHOENIX, AZ 85004 ',\n",
       "  'org_phone': '(602) 407-2380'},\n",
       " {'org_begin_date': '02/25/2014',\n",
       "  'org_end_date': '02/24/2018',\n",
       "  'org_id': '1016',\n",
       "  'org_name_and_address': 'PINNACLE WEST CAPITAL CORPORATION POLITICAL ACTION COMMITTEEC/O BOB EKSTROM, 801 PENNSYLVANIA AVE NW, SUITE 214WASHINGTON, DC 20004 ',\n",
       "  'org_phone': '(202) 293-2655'},\n",
       " {'org_begin_date': '09/23/2013',\n",
       "  'org_end_date': '09/22/2017',\n",
       "  'org_id': '1155',\n",
       "  'org_name_and_address': 'REALTORS OF AZ PAC (RAPAC)255 E OSBORN RD, STE 200PHOENIX, AZ 85012 ',\n",
       "  'org_phone': '(602) 248-7787'},\n",
       " {'org_begin_date': '01/07/2014',\n",
       "  'org_end_date': '01/06/2018',\n",
       "  'org_id': '1206',\n",
       "  'org_name_and_address': 'SALT RIVER VALLEY WATER USERS ASSN POLITICAL INVOLVEMENT COMMITTEECORPORATE TAXES,  ISB336  PO BOX 52025PHOENIX, AZ 85207 ',\n",
       "  'org_phone': '(602) 236-2070'},\n",
       " {'org_begin_date': '06/09/2014',\n",
       "  'org_end_date': '06/08/2018',\n",
       "  'org_id': '201200346',\n",
       "  'org_name_and_address': 'The Political Committee of Planned Parenthood Advocates of Arizona5651 N 7TH STPHOENIX, AZ 85014 ',\n",
       "  'org_phone': '(602) 263-4215'},\n",
       " {'org_begin_date': '07/16/2013',\n",
       "  'org_end_date': '07/15/2015',\n",
       "  'org_id': '200802906',\n",
       "  'org_name_and_address': 'UNITE HERE TIP CAMPAIGN COMMITTEE275 SEVENTH AVENUE, 11TH FLOORNEW YORK, NY 10001 ',\n",
       "  'org_phone': '(212) 265-7000'},\n",
       " {'org_begin_date': '04/09/2014',\n",
       "  'org_end_date': '04/08/2018',\n",
       "  'org_id': '1797',\n",
       "  'org_name_and_address': 'UNITED FOOD & COMMERCIAL WORKERS ACTIVE BALLOT CLUB (UFCW)1775 K ST NWWASHINGTON, DC 20006 ',\n",
       "  'org_phone': '(202) 223-3111'},\n",
       " {'org_begin_date': '10/03/2013',\n",
       "  'org_end_date': '10/02/2017',\n",
       "  'org_id': '2083',\n",
       "  'org_name_and_address': 'UNITED FOOD & COMMERCIAL WORKERS UNION OF AZ LOCAL 992401 N CENTRAL AVEPHOENIX, AZ 85004 ',\n",
       "  'org_phone': '(602) 626-8805'},\n",
       " {'org_begin_date': '02/22/2015',\n",
       "  'org_end_date': '02/21/2019',\n",
       "  'org_id': '200402535',\n",
       "  'org_name_and_address': 'United Services Automobile Assn Employee PAC9800 FREDERICKSBURG RDSAN ANTONIO, TX 78288 ',\n",
       "  'org_phone': '(210) 498-0736'}]"
      ]
     },
     "execution_count": 30,
     "metadata": {},
     "output_type": "execute_result"
    }
   ],
   "source": [
    "result"
   ]
  },
  {
   "cell_type": "markdown",
   "metadata": {},
   "source": [
    "Hm, let's see if we can do a better job with that `org_name_and_address` field. We're going to want to separate them."
   ]
  },
  {
   "cell_type": "code",
   "execution_count": 31,
   "metadata": {
    "collapsed": true
   },
   "outputs": [],
   "source": [
    "rows = target_table.xpath('tr')\n",
    "row = rows[7]"
   ]
  },
  {
   "cell_type": "code",
   "execution_count": 32,
   "metadata": {
    "collapsed": false
   },
   "outputs": [],
   "source": [
    "cell = row.xpath('td')[1]"
   ]
  },
  {
   "cell_type": "code",
   "execution_count": 33,
   "metadata": {
    "collapsed": false
   },
   "outputs": [
    {
     "data": {
      "text/plain": [
       "b'<td>Arizona Pipe Trades 469<br />3109 N 24TH ST<br />PHOENIX, AZ 85016 </td>&#13;\\n'"
      ]
     },
     "execution_count": 33,
     "metadata": {},
     "output_type": "execute_result"
    }
   ],
   "source": [
    "etree.tostring(cell)"
   ]
  },
  {
   "cell_type": "markdown",
   "metadata": {},
   "source": [
    "The first part of the cell can be extracted using the `text` property. Unlike `text_content`, it will only return the text up until the first `<br/>` tag."
   ]
  },
  {
   "cell_type": "code",
   "execution_count": 34,
   "metadata": {
    "collapsed": false
   },
   "outputs": [
    {
     "data": {
      "text/plain": [
       "'Arizona Pipe Trades 469'"
      ]
     },
     "execution_count": 34,
     "metadata": {},
     "output_type": "execute_result"
    }
   ],
   "source": [
    "cell.text"
   ]
  },
  {
   "cell_type": "markdown",
   "metadata": {},
   "source": [
    "We can take advantage of the `<br />` elements, by using their `tail` properties. This property returns text that follows the element, stopping before the next element encountered."
   ]
  },
  {
   "cell_type": "code",
   "execution_count": 35,
   "metadata": {
    "collapsed": false
   },
   "outputs": [
    {
     "name": "stdout",
     "output_type": "stream",
     "text": [
      "tail: \"3109 N 24TH ST\"\n",
      "tail: \"PHOENIX, AZ 85016 \"\n"
     ]
    }
   ],
   "source": [
    "for br in cell.xpath('br'):\n",
    "    print('tail: \"{}\"'.format(br.tail))"
   ]
  },
  {
   "cell_type": "code",
   "execution_count": 36,
   "metadata": {
    "collapsed": false
   },
   "outputs": [],
   "source": [
    "def separate_name_and_address(cell):\n",
    "    name = cell.text\n",
    "    address = ', '.join([br.tail for br in cell.xpath('br')])\n",
    "    return name, address\n",
    "\n",
    "def scrape_table(table_element):\n",
    "    scraped_rows = []\n",
    "    for row in table_element.xpath('tr'):\n",
    "        _data = {}\n",
    "        columns = row.xpath('td')\n",
    "        if len(columns) == 5:\n",
    "            _data['org_id'] = columns[0].text_content()\n",
    "            _name, _address = separate_name_and_address(columns[1])\n",
    "            _data['org_name'] = _name\n",
    "            _data['org_address'] = _address\n",
    "            _data['org_phone'] = columns[2].text_content()\n",
    "            _data['org_begin_date'] = columns[3].text_content()\n",
    "            _data['org_end_date'] = columns[4].text_content()\n",
    "            scraped_rows.append(_data)\n",
    "    return scraped_rows"
   ]
  },
  {
   "cell_type": "code",
   "execution_count": 37,
   "metadata": {
    "collapsed": true
   },
   "outputs": [],
   "source": [
    "results = scrape_table(target_table)"
   ]
  },
  {
   "cell_type": "code",
   "execution_count": 38,
   "metadata": {
    "collapsed": false
   },
   "outputs": [
    {
     "data": {
      "text/plain": [
       "[{'org_address': '345 E PALM LN, PHOENIX, AZ 85004 ',\n",
       "  'org_begin_date': '06/09/2014',\n",
       "  'org_end_date': '06/08/2018',\n",
       "  'org_id': '1066',\n",
       "  'org_name': 'AEA FUND FOR PUBLIC EDUCATION (FORMERLY) AZ PAC (AZ EDUCATION ASSN PAC)',\n",
       "  'org_phone': '(602) 264-1774'},\n",
       " {'org_address': '1625 L ST NW, WASHINGTON, DC 20036 ',\n",
       "  'org_begin_date': '04/02/2014',\n",
       "  'org_end_date': '04/01/2018',\n",
       "  'org_id': '1354',\n",
       "  'org_name': 'AFSCME PEOPLE',\n",
       "  'org_phone': '(202) 429-1088'},\n",
       " {'org_address': '3200 N CENTRAL AVE, STE 1125, PHOENIX, AZ 85012 ',\n",
       "  'org_begin_date': '02/14/2014',\n",
       "  'org_end_date': '02/13/2018',\n",
       "  'org_id': '200602733',\n",
       "  'org_name': 'ARIZONA CHAMBER POLITICAL ACTION COMMITTEE',\n",
       "  'org_phone': '(602) 248-9172'},\n",
       " {'org_address': '3707 N 7TH ST, STE 100, PHOENIX, AZ 85014 ',\n",
       "  'org_begin_date': '07/21/2014',\n",
       "  'org_end_date': '07/20/2018',\n",
       "  'org_id': '200602848',\n",
       "  'org_name': 'ARIZONA FAMILIES UNITED FOR STRONG COMMUNITIES- PROJECT OF SEIU COPE',\n",
       "  'org_phone': '(602) 279-8016'},\n",
       " {'org_address': 'PO BOX 42294, TUCSON, AZ 85733 ',\n",
       "  'org_begin_date': '01/25/2015',\n",
       "  'org_end_date': '01/24/2019',\n",
       "  'org_id': '201000081',\n",
       "  'org_name': 'Arizona List P.A.C.',\n",
       "  'org_phone': '(520) 327-0520'},\n",
       " {'org_address': '1240 E MISSOURI AVE, PHOENIX, AZ 85014 ',\n",
       "  'org_begin_date': '05/15/2013',\n",
       "  'org_end_date': '05/14/2015',\n",
       "  'org_id': '1100',\n",
       "  'org_name': 'Arizona Lodging & Tourism Super PAC',\n",
       "  'org_phone': '(602) 604-0729'},\n",
       " {'org_address': '3109 N 24TH ST, PHOENIX, AZ 85016 ',\n",
       "  'org_begin_date': '02/10/2014',\n",
       "  'org_end_date': '02/09/2018',\n",
       "  'org_id': '1227',\n",
       "  'org_name': 'Arizona Pipe Trades 469',\n",
       "  'org_phone': '(602) 626-8805'},\n",
       " {'org_address': '3193 N DRINKWATER BLVD, SCOTTSDALE, AZ 85251 ',\n",
       "  'org_begin_date': '12/15/2013',\n",
       "  'org_end_date': '12/14/2017',\n",
       "  'org_id': '1065',\n",
       "  'org_name': 'AZ DENTAL POLITICAL ACTION COMMITTEE',\n",
       "  'org_phone': '(480) 344-5777'},\n",
       " {'org_address': '818 N 1ST ST, PHOENIX, AZ 85004 ',\n",
       "  'org_begin_date': '12/05/2013',\n",
       "  'org_end_date': '12/04/2017',\n",
       "  'org_id': '1129',\n",
       "  'org_name': 'AZ MULTIHOUSING ASSN PAC',\n",
       "  'org_phone': '(602) 296-6200'},\n",
       " {'org_address': 'PO BOX 961039, FORT WORTH, TX 76161 ',\n",
       "  'org_begin_date': '10/16/2014',\n",
       "  'org_end_date': '10/15/2018',\n",
       "  'org_id': '2109',\n",
       "  'org_name': 'BNSF Railway Company RAILPAC',\n",
       "  'org_phone': '(202) 347-8662'},\n",
       " {'org_address': '1951 W CAMELBACK RD, STE 335, PHOENIX, AZ 85015 ',\n",
       "  'org_begin_date': '10/10/2013',\n",
       "  'org_end_date': '10/09/2017',\n",
       "  'org_id': '200002272',\n",
       "  'org_name': 'CWA COMMUNICATIONS WORKERS OF AMERICA /AZ COMMITTEE  ON POLITICAL EDUCATION (COPE)',\n",
       "  'org_phone': '(602) 266-2620'},\n",
       " {'org_address': '600 CORPORATE PARK DR, SAINT LOUIS, MO 63105 ',\n",
       "  'org_begin_date': '11/17/2014',\n",
       "  'org_end_date': '11/16/2018',\n",
       "  'org_id': '200202405',\n",
       "  'org_name': 'Enterprise Holdings, Inc. Political Action Committee',\n",
       "  'org_phone': '(314) 512-5000'},\n",
       " {'org_address': '201 N CENTRAL AVE, FL 27, PHOENIX, AZ 85004 ',\n",
       "  'org_begin_date': '12/21/2013',\n",
       "  'org_end_date': '12/20/2017',\n",
       "  'org_id': '1140',\n",
       "  'org_name': 'GREATER PHOENIX CHAMBER OF COMMERCE POLITICAL ACTION COMMITTEE',\n",
       "  'org_phone': '(602) 495-6474'},\n",
       " {'org_address': '7740 N 16TH ST, STE 385, PHOENIX, AZ 85020 ',\n",
       "  'org_begin_date': '05/15/2013',\n",
       "  'org_end_date': '05/14/2015',\n",
       "  'org_id': '1452',\n",
       "  'org_name': 'HOME BUILDERS ASSN OF CENTRAL AZ POLITICAL ACTION COMMITTEE',\n",
       "  'org_phone': '(602) 274-6545'},\n",
       " {'org_address': '101 CONSTITUTION AVE. NW, SUITE 500 WEST, WASHINGTON, DC 20001 ',\n",
       "  'org_begin_date': '01/03/2014',\n",
       "  'org_end_date': '01/02/2018',\n",
       "  'org_id': '201000325',\n",
       "  'org_name': 'Honeywell International Political Action Committee Arizona-(HIPAC AZ)',\n",
       "  'org_phone': '(202) 662-2644'},\n",
       " {'org_address': '601 PENNSYLVANIA AVE NW, FL 7, WASHINGTON, DC 20004 ',\n",
       "  'org_begin_date': '02/10/2014',\n",
       "  'org_end_date': '02/09/2018',\n",
       "  'org_id': '1233',\n",
       "  'org_name': 'JPMORGAN CHASE & CO ARIZONA PAC',\n",
       "  'org_phone': '(202) 585-3750'},\n",
       " {'org_address': '345 E PALM LN, PHOENIX, AZ 85004 ',\n",
       "  'org_begin_date': '04/03/2014',\n",
       "  'org_end_date': '04/02/2018',\n",
       "  'org_id': '1663',\n",
       "  'org_name': 'PARADISE VALLEY FUND FOR CHILDREN IN PUBLIC EDUCATION (PV ED & SUPPORT EMPL ASSN PAC)',\n",
       "  'org_phone': '(602) 407-2380'},\n",
       " {'org_address': 'C/O BOB EKSTROM, 801 PENNSYLVANIA AVE NW, SUITE 214, WASHINGTON, DC 20004 ',\n",
       "  'org_begin_date': '02/25/2014',\n",
       "  'org_end_date': '02/24/2018',\n",
       "  'org_id': '1016',\n",
       "  'org_name': 'PINNACLE WEST CAPITAL CORPORATION POLITICAL ACTION COMMITTEE',\n",
       "  'org_phone': '(202) 293-2655'},\n",
       " {'org_address': '255 E OSBORN RD, STE 200, PHOENIX, AZ 85012 ',\n",
       "  'org_begin_date': '09/23/2013',\n",
       "  'org_end_date': '09/22/2017',\n",
       "  'org_id': '1155',\n",
       "  'org_name': 'REALTORS OF AZ PAC (RAPAC)',\n",
       "  'org_phone': '(602) 248-7787'},\n",
       " {'org_address': 'CORPORATE TAXES,  ISB336  PO BOX 52025, PHOENIX, AZ 85207 ',\n",
       "  'org_begin_date': '01/07/2014',\n",
       "  'org_end_date': '01/06/2018',\n",
       "  'org_id': '1206',\n",
       "  'org_name': 'SALT RIVER VALLEY WATER USERS ASSN POLITICAL INVOLVEMENT COMMITTEE',\n",
       "  'org_phone': '(602) 236-2070'},\n",
       " {'org_address': '5651 N 7TH ST, PHOENIX, AZ 85014 ',\n",
       "  'org_begin_date': '06/09/2014',\n",
       "  'org_end_date': '06/08/2018',\n",
       "  'org_id': '201200346',\n",
       "  'org_name': 'The Political Committee of Planned Parenthood Advocates of Arizona',\n",
       "  'org_phone': '(602) 263-4215'},\n",
       " {'org_address': '275 SEVENTH AVENUE, 11TH FLOOR, NEW YORK, NY 10001 ',\n",
       "  'org_begin_date': '07/16/2013',\n",
       "  'org_end_date': '07/15/2015',\n",
       "  'org_id': '200802906',\n",
       "  'org_name': 'UNITE HERE TIP CAMPAIGN COMMITTEE',\n",
       "  'org_phone': '(212) 265-7000'},\n",
       " {'org_address': '1775 K ST NW, WASHINGTON, DC 20006 ',\n",
       "  'org_begin_date': '04/09/2014',\n",
       "  'org_end_date': '04/08/2018',\n",
       "  'org_id': '1797',\n",
       "  'org_name': 'UNITED FOOD & COMMERCIAL WORKERS ACTIVE BALLOT CLUB (UFCW)',\n",
       "  'org_phone': '(202) 223-3111'},\n",
       " {'org_address': '2401 N CENTRAL AVE, PHOENIX, AZ 85004 ',\n",
       "  'org_begin_date': '10/03/2013',\n",
       "  'org_end_date': '10/02/2017',\n",
       "  'org_id': '2083',\n",
       "  'org_name': 'UNITED FOOD & COMMERCIAL WORKERS UNION OF AZ LOCAL 99',\n",
       "  'org_phone': '(602) 626-8805'},\n",
       " {'org_address': '9800 FREDERICKSBURG RD, SAN ANTONIO, TX 78288 ',\n",
       "  'org_begin_date': '02/22/2015',\n",
       "  'org_end_date': '02/21/2019',\n",
       "  'org_id': '200402535',\n",
       "  'org_name': 'United Services Automobile Assn Employee PAC',\n",
       "  'org_phone': '(210) 498-0736'}]"
      ]
     },
     "execution_count": 38,
     "metadata": {},
     "output_type": "execute_result"
    }
   ],
   "source": [
    "results"
   ]
  },
  {
   "cell_type": "markdown",
   "metadata": {},
   "source": [
    "## Adding to the DisclosureScraper object"
   ]
  },
  {
   "cell_type": "markdown",
   "metadata": {},
   "source": [
    "After we think that we're able to scrape the data we want, we should add the code to our scraper object.\n",
    "\n",
    "```python\n",
    "class ArizonaDisclosureScraper(Scraper):\n",
    "\n",
    "    def scrape_super_pacs(self):\n",
    "    \n",
    "        def find_the_table(html_document):\n",
    "            return d.xpath('//*[@id=\"ctl00_ctl00_MainPanel\"]/table')[0]\n",
    "    \n",
    "        def separate_name_and_address(cell):\n",
    "            name = cell.text\n",
    "            address = ', '.join([br.tail for br in cell.xpath('br')])\n",
    "            return name, address\n",
    "    \n",
    "        def scrape_table(table_element):\n",
    "            scraped_rows = []\n",
    "            for row in table_element.xpath('tr'):\n",
    "                _data = {}\n",
    "                columns = row.xpath('td')\n",
    "                if len(columns) == 5:\n",
    "                    _data['org_id'] = columns[0].text_content()\n",
    "                    _name, _address = separate_name_and_address(columns[1])\n",
    "                    _data['org_name'] = _name\n",
    "                    _data['org_address'] = _address\n",
    "                    _data['org_phone'] = columns[2].text_content()\n",
    "                    _data['org_begin_date'] = columns[3].text_content()\n",
    "                    _data['org_end_date'] = columns[4].text_content()\n",
    "                    scraped_rows.append(_data)\n",
    "            return scraped_rows\n",
    "            \n",
    "        PAC_LIST_URL = \"http://apps.azsos.gov/apps/election/cfs/search/SuperPACList.aspx\"\n",
    "        \n",
    "        resp = self.urlretrieve(PAC_LIST_URL)\n",
    "        \n",
    "        html_document = etree.fromstring(resp, parser=HTMLParser())\n",
    "        \n",
    "        target_table = find_the_table(html_document)\n",
    "        \n",
    "        results = scrape_the_table(target_table)\n",
    "\n",
    "    def scrape(self):                      \n",
    "        # needs to be implemented          \n",
    "        yield from self.scrape_super_pacs()\n",
    "```"
   ]
  },
  {
   "cell_type": "markdown",
   "metadata": {},
   "source": [
    "## Use scraped data to build Open Civic Data objects"
   ]
  },
  {
   "cell_type": "markdown",
   "metadata": {},
   "source": [
    "Let's look at how we can use the PAC data we scraped to build an `Organization` object."
   ]
  },
  {
   "cell_type": "code",
   "execution_count": 39,
   "metadata": {
    "collapsed": false
   },
   "outputs": [
    {
     "data": {
      "text/plain": [
       "{'org_address': '345 E PALM LN, PHOENIX, AZ 85004 ',\n",
       " 'org_begin_date': '06/09/2014',\n",
       " 'org_end_date': '06/08/2018',\n",
       " 'org_id': '1066',\n",
       " 'org_name': 'AEA FUND FOR PUBLIC EDUCATION (FORMERLY) AZ PAC (AZ EDUCATION ASSN PAC)',\n",
       " 'org_phone': '(602) 264-1774'}"
      ]
     },
     "execution_count": 39,
     "metadata": {},
     "output_type": "execute_result"
    }
   ],
   "source": [
    "result = results[0]\n",
    "\n",
    "result"
   ]
  },
  {
   "cell_type": "markdown",
   "metadata": {},
   "source": [
    "If we import the `Organization` scraper model, this becomes very easy:"
   ]
  },
  {
   "cell_type": "code",
   "execution_count": 40,
   "metadata": {
    "collapsed": true
   },
   "outputs": [],
   "source": [
    "from pupa.scrape.popolo import Organization"
   ]
  },
  {
   "cell_type": "code",
   "execution_count": 41,
   "metadata": {
    "collapsed": true
   },
   "outputs": [],
   "source": [
    "my_org = Organization(\n",
    "    name=result['org_name'],\n",
    "    classification='political action committee',\n",
    "    founding_date=result['org_begin_date'],\n",
    "    dissolution_date=result['org_end_date']\n",
    ")"
   ]
  },
  {
   "cell_type": "markdown",
   "metadata": {},
   "source": [
    "That's actually more information than we needed. Only the `name` and `classification` properties were required.\n",
    "\n",
    "To add other information, like contact details and identifiers, we can use special helper functions that come with the `Organization` class:"
   ]
  },
  {
   "cell_type": "code",
   "execution_count": 42,
   "metadata": {
    "collapsed": true
   },
   "outputs": [],
   "source": [
    "my_org.add_identifier(\n",
    "    identifier=result['org_id'],\n",
    "    scheme='urn:az-state:committee'\n",
    "    )"
   ]
  },
  {
   "cell_type": "code",
   "execution_count": 43,
   "metadata": {
    "collapsed": true
   },
   "outputs": [],
   "source": [
    "my_org.add_contact_detail(\n",
    "    type='address',\n",
    "    value=result['org_address']\n",
    ")"
   ]
  },
  {
   "cell_type": "code",
   "execution_count": 44,
   "metadata": {
    "collapsed": false
   },
   "outputs": [],
   "source": [
    "my_org.add_contact_detail(\n",
    "    type='voice',\n",
    "    value=result['org_phone']\n",
    ")"
   ]
  },
  {
   "cell_type": "markdown",
   "metadata": {},
   "source": [
    "To see your organization as a `dict`, use the `as_dict` method:"
   ]
  },
  {
   "cell_type": "code",
   "execution_count": 45,
   "metadata": {
    "collapsed": false
   },
   "outputs": [
    {
     "data": {
      "text/plain": [
       "{'_id': '0e683e08-e46e-11e4-a4f5-e90fe0697b56',\n",
       " 'classification': 'political action committee',\n",
       " 'contact_details': [{'note': '',\n",
       "   'type': 'address',\n",
       "   'value': '345 E PALM LN, PHOENIX, AZ 85004 '},\n",
       "  {'note': '', 'type': 'voice', 'value': '(602) 264-1774'}],\n",
       " 'dissolution_date': '06/08/2018',\n",
       " 'extras': {},\n",
       " 'founding_date': '06/09/2014',\n",
       " 'identifiers': [{'identifier': '1066', 'scheme': 'urn:az-state:committee'}],\n",
       " 'image': '',\n",
       " 'links': [],\n",
       " 'name': 'AEA FUND FOR PUBLIC EDUCATION (FORMERLY) AZ PAC (AZ EDUCATION ASSN PAC)',\n",
       " 'other_names': [],\n",
       " 'parent_id': None,\n",
       " 'source_identified': False,\n",
       " 'sources': []}"
      ]
     },
     "execution_count": 45,
     "metadata": {},
     "output_type": "execute_result"
    }
   ],
   "source": [
    "my_org.as_dict()"
   ]
  },
  {
   "cell_type": "markdown",
   "metadata": {},
   "source": [
    "Ah! That reminds me: We have to be sure to do two things to all `Person` and `Organization` objects returned by our scraper.\n",
    "\n",
    "First, Make sure `source_identified` is `True`"
   ]
  },
  {
   "cell_type": "code",
   "execution_count": 46,
   "metadata": {
    "collapsed": true
   },
   "outputs": [],
   "source": [
    "my_org.source_identified = True"
   ]
  },
  {
   "cell_type": "markdown",
   "metadata": {},
   "source": [
    "Next, make sure you include the source (ie, the URL that you found the organization at)"
   ]
  },
  {
   "cell_type": "code",
   "execution_count": 47,
   "metadata": {
    "collapsed": true
   },
   "outputs": [],
   "source": [
    "my_org.add_source(url=PAC_LIST_URL)"
   ]
  },
  {
   "cell_type": "markdown",
   "metadata": {},
   "source": [
    "## Yielding your new objects"
   ]
  },
  {
   "cell_type": "markdown",
   "metadata": {},
   "source": [
    "Adding the new code to our scraper:\n",
    "\n",
    "```python\n",
    "class ArizonaDisclosureScraper(Scraper):\n",
    "\n",
    "    def scrape_super_pacs(self):\n",
    "\n",
    "        def find_the_table(html_document):\n",
    "            return d.xpath('//*[@id=\"ctl00_ctl00_MainPanel\"]/table')[0]\n",
    "\n",
    "        def separate_name_and_address(cell):\n",
    "            name = cell.text\n",
    "            address = ', '.join([br.tail for br in cell.xpath('br')])\n",
    "            return name, address\n",
    "\n",
    "        def scrape_table(table_element):\n",
    "            scraped_rows = []\n",
    "            for row in table_element.xpath('tr'):\n",
    "                _data = {}\n",
    "                columns = row.xpath('td')\n",
    "                if len(columns) == 5:\n",
    "                    _data['org_id'] = columns[0].text_content()\n",
    "                    _name, _address = separate_name_and_address(columns[1])\n",
    "                    _data['org_name'] = _name\n",
    "                    _data['org_address'] = _address\n",
    "                    _data['org_phone'] = columns[2].text_content()\n",
    "                    _data['org_begin_date'] = columns[3].text_content()\n",
    "                    _data['org_end_date'] = columns[4].text_content()\n",
    "                    scraped_rows.append(_data)\n",
    "            return scraped_rows\n",
    "\n",
    "        PAC_LIST_URL = \"http://apps.azsos.gov/apps/election/cfs/search/SuperPACList.aspx\"\n",
    "\n",
    "        _, resp = self.urlretrieve(PAC_LIST_URL)\n",
    "\n",
    "        html_document = etree.fromstring(resp, parser=HTMLParser())\n",
    "\n",
    "        target_table = find_the_table(html_document)\n",
    "\n",
    "        results = scrape_the_table(target_table)\n",
    "        \n",
    "        for result in results:\n",
    "            _org = Organization(\n",
    "                name=result['org_name'],\n",
    "                classification='political action committee',\n",
    "                founding_date=result['org_begin_date'],\n",
    "                dissolution_date=result['org_end_date']\n",
    "            )\n",
    "            \n",
    "            _org.add_identifier(\n",
    "                identifier=result['org_id'],\n",
    "                scheme='urn:az-state:committee'\n",
    "            )\n",
    "            \n",
    "            _org.add_contact_detail(\n",
    "                type='address',\n",
    "                value=result['org_address']\n",
    "            )\n",
    "            \n",
    "            _org.add_contact_detail(\n",
    "                type='voice',\n",
    "                value=result['org_phone']\n",
    "            )\n",
    "            \n",
    "            _org.add_source(url=PAC_LIST_URL)\n",
    "            \n",
    "            _org.source_identified = True\n",
    "            \n",
    "            yield _org\n",
    "            \n",
    "\n",
    "    def scrape(self):                      \n",
    "        # needs to be implemented          \n",
    "        yield from self.scrape_super_pacs()\n",
    "```"
   ]
  },
  {
   "cell_type": "markdown",
   "metadata": {},
   "source": [
    "## Finished! "
   ]
  },
  {
   "cell_type": "markdown",
   "metadata": {},
   "source": [
    "You don't need to worry about anything after this point. After doing the hard work of writing your scraper code, you can hand off the rest (validation, database storage, deduplication) to the `pupa` framework.  "
   ]
  },
  {
   "cell_type": "markdown",
   "metadata": {},
   "source": [
    "# Running your new scraper"
   ]
  },
  {
   "cell_type": "markdown",
   "metadata": {},
   "source": [
    "Okay, time to see how well it works!  Run:\n",
    "\n",
    "```\n",
    "(iusa-scrape)$>pupa update az disclosures --scrape\n",
    "```\n",
    "\n",
    "Uh oh.\n",
    "\n",
    "```\n",
    "    no pupa_settings on path, using defaults\n",
    "    az (scrape)\n",
    "      disclosures: {}\n",
    "    Not checking sessions...\n",
    "    21:45:21 INFO pupa: save jurisdiction Arizona as jurisdiction_ocd-jurisdiction-country:us-state:az-government.json\n",
    "    21:45:21 INFO pupa: save organization Office of the Secretary of State, State of Arizona as organization_4b266268-e250-11e4-a4f5-e90fe0697b56.json\n",
    "    21:45:21 INFO scrapelib: GET - http://apps.azsos.gov/apps/election/cfs/search/SuperPACList.aspx\n",
    "    Traceback (most recent call last):\n",
    "      File \"/home/blannon/.virtualenvs/iusa-scrape/bin/pupa\", line 9, in <module>\n",
    "        load_entry_point('pupa==0.4.1', 'console_scripts', 'pupa')()\n",
    "      File \"/home/blannon/.virtualenvs/iusa-scrape/src/pupa/pupa/cli/__main__.py\", line 71, in main\n",
    "        subcommands[args.subcommand].handle(args, other)\n",
    "      File \"/home/blannon/.virtualenvs/iusa-scrape/src/pupa/pupa/cli/commands/update.py\", line 241, in handle\n",
    "        report['scrape'] = self.do_scrape(juris, args, scrapers)\n",
    "      File \"/home/blannon/.virtualenvs/iusa-scrape/src/pupa/pupa/cli/commands/update.py\", line 123, in do_scrape\n",
    "        report[scraper_name] = scraper.do_scrape(**scrape_args)\n",
    "      File \"/home/blannon/.virtualenvs/iusa-scrape/src/pupa/pupa/scrape/base.py\", line 104, in do_scrape\n",
    "        for obj in self.scrape(**kwargs) or []:\n",
    "      File \"/home/blannon/dev/ocd/scrapers-us-state/az/disclosures.py\", line 78, in scrape\n",
    "        yield from self.scrape_super_pacs()\n",
    "      File \"/home/blannon/dev/ocd/scrapers-us-state/az/disclosures.py\", line 41, in scrape_super_pacs\n",
    "        html_document = etree.fromstring(resp, parser=HTMLParser())\n",
    "      File \"lxml.etree.pyx\", line 3094, in lxml.etree.fromstring (src/lxml/lxml.etree.c:70505)\n",
    "      File \"parser.pxi\", line 1827, in lxml.etree._parseMemoryDocument (src/lxml/lxml.etree.c:106328)\n",
    "    ValueError: can only parse strings\n",
    "```\n",
    "\n",
    "Looks like something's wrong. Let's run it again, except this time we'll tell `pupa` to drop us into `pdb` when it fails. If you're not familiar with `pdb`, check out @claytron's [excellent talk](https://speakerdeck.com/claytron/so-you-think-you-can-pdb) from this year's PyCon.\n",
    "\n",
    "```\n",
    "(iusa-scrape)$>pupa --debug pdb update az disclosures --scrape\n",
    "```\n",
    "\n",
    "Now, when it crashes, we're launched into the Python debugger.\n",
    "\n",
    "```\n",
    "(Pdb) u\n",
    "> /home/blannon/dev/ocd/scrapers-us-state/lxml.etree.pyx(3094)lxml.etree.fromstring (src/lxml/lxml.etree.c:70505)()\n",
    "(Pdb) u\n",
    "> /home/blannon/dev/ocd/scrapers-us-state/az/disclosures.py(41)scrape_super_pacs()\n",
    "-> html_document = etree.fromstring(resp, parser=HTMLParser())\n",
    "(Pdb) resp\n",
    "('/tmp/tmpy2r8olmk', <Response [200]>)\n",
    "(Pdb) l\n",
    " 36  \t\n",
    " 37  \t        PAC_LIST_URL = \"http://apps.azsos.gov/apps/election/cfs/search/SuperPACList.aspx\"\n",
    " 38  \t\n",
    " 39  \t        resp = self.urlretrieve(PAC_LIST_URL)\n",
    " 40  \t\n",
    " 41  ->\t        html_document = etree.fromstring(resp, parser=HTMLParser())\n",
    " 42  \t\n",
    " 43  \t        target_table = find_the_table(html_document)\n",
    " 44  \t\n",
    " 45  \t        results = scrape_the_table(target_table)\n",
    " 46  \t\n",
    "\n",
    "```\n",
    "...ah ha! On line 41, we incorrectly assumed that `urlretrieve` would return an HTML string. Instead, it returned a tuple including the location of the temporary file and a  `Response` object.  We'll have to change that line:\n",
    "\n",
    "```diff\n",
    "diff --git a/az/disclosures.py b/az/disclosures.py\n",
    "index 64ebf1b..a10695b 100644\n",
    "--- a/az/disclosures.py\n",
    "+++ b/az/disclosures.py\n",
    "@@ -36,9 +36,9 @@ class ArizonaDisclosureScraper(Scraper):\n",
    " \n",
    "         PAC_LIST_URL = \"http://apps.azsos.gov/apps/election/cfs/search/SuperPACList.aspx\"\n",
    " \n",
    "-        resp = self.urlretrieve(PAC_LIST_URL)\n",
    "+        tmp, resp = self.urlretrieve(PAC_LIST_URL)\n",
    " \n",
    "-        html_document = etree.fromstring(resp, parser=HTMLParser())\n",
    "+        html_document = etree.fromstring(resp.content, parser=HTMLParser())\n",
    " \n",
    "         target_table = find_the_table(html_document)\n",
    "```\n",
    "\n",
    "Now, let's re-run!\n",
    "\n",
    "```\n",
    "(iusa-scrape)$>pupa --debug pdb update az disclosures --scrape\n",
    "```\n",
    "\n",
    "We'll get another error:\n",
    "\n",
    "```\n",
    "validictory.validator.ValidationError: validation of Organization 46282b8b-e254-11e4-a4f5-e90fe0697b56 failed: Value '06/08/2018' for field '<obj>.dissolution_date' does not match regular expression '(^[0-9]{4})?(-[0-9]{2}){0,2}$'\n",
    "> /home/blannon/.virtualenvs/iusa-scrape/src/pupa/pupa/scrape/base.py(191)validate()\n",
    "-> self.__class__.__name__, self._id, ve)\n",
    "(Pdb) \n",
    "```\n",
    "\n",
    "This time, `validictory`, the schema validation library, is telling us that our dates aren't formatted correctly.  Let's go back and fix that, with a `reformat_date` function:\n",
    "\n",
    "```diff\n",
    "diff --git a/az/disclosures.py b/az/disclosures.py\n",
    "index 7d33214..40d585d 100644\n",
    "--- a/az/disclosures.py\n",
    "+++ b/az/disclosures.py\n",
    "@@ -5,11 +5,17 @@ from pupa.scrape.popolo import Organization\n",
    " from lxml import etree\n",
    " from lxml.html import HTMLParser\n",
    " \n",
    "+from datetime import datetime\n",
    "+\n",
    " \n",
    " class ArizonaDisclosureScraper(Scraper):\n",
    " \n",
    "     def scrape_super_pacs(self):\n",
    " \n",
    "+        def reformat_date(datestring):\n",
    "+            dt = datetime.strptime(datestring, '%m/%d/%Y')\n",
    "+            return dt.strftime('%Y-%m-%d')\n",
    "+\n",
    "         def find_the_table(html_document):\n",
    "             return html_document.xpath('//*[@id=\"ctl00_ctl00_MainPanel\"]/table')[0]\n",
    " \n",
    "@@ -29,8 +35,8 @@ class ArizonaDisclosureScraper(Scraper):\n",
    "                     _data['org_name'] = _name\n",
    "                     _data['org_address'] = _address\n",
    "                     _data['org_phone'] = columns[2].text_content()\n",
    "-                    _data['org_begin_date'] = columns[3].text_content()\n",
    "-                    _data['org_end_date'] = columns[4].text_content()\n",
    "+                    _data['org_begin_date'] = reformat_date(columns[3].text_content())\n",
    "+                    _data['org_end_date'] = reformat_date(columns[4].text_content())\n",
    "                     scraped_rows.append(_data)\n",
    "             return scraped_rows\n",
    "```\n",
    "\n",
    "Okay, I got a good feeling about this one:\n",
    "\n",
    "```\n",
    "(iusa-scrape)$>pupa --debug pdb update az disclosures --scrape\n",
    "```\n",
    "\n",
    "Output looks great!\n",
    "\n",
    "```\n",
    "(iusa-scrape)$>pupa --debug pdb update az disclosures --scrape\n",
    "no pupa_settings on path, using defaults\n",
    "az (scrape)\n",
    "  disclosures: {}\n",
    "Not checking sessions...\n",
    "22:22:17 INFO pupa: save jurisdiction Arizona as jurisdiction_ocd-jurisdiction-country:us-state:az-government.json\n",
    "22:22:17 INFO pupa: save organization Office of the Secretary of State, State of Arizona as organization_73f49f2a-e255-11e4-a4f5-e90fe0697b56.json\n",
    "22:22:17 INFO scrapelib: GET - http://apps.azsos.gov/apps/election/cfs/search/SuperPACList.aspx\n",
    "22:22:17 INFO pupa: save organization AEA FUND FOR PUBLIC EDUCATION (FORMERLY) AZ PAC (AZ EDUCATION ASSN PAC) as organization_73f49f2b-e255-11e4-a4f5-e90fe0697b56.json\n",
    "22:22:17 INFO pupa: save organization AFSCME PEOPLE as organization_73f49f2c-e255-11e4-a4f5-e90fe0697b56.json\n",
    "22:22:17 INFO pupa: save organization ARIZONA CHAMBER POLITICAL ACTION COMMITTEE as organization_73f49f2d-e255-11e4-a4f5-e90fe0697b56.json\n",
    "22:22:17 INFO pupa: save organization ARIZONA FAMILIES UNITED FOR STRONG COMMUNITIES- PROJECT OF SEIU COPE as organization_73f49f2e-e255-11e4-a4f5-e90fe0697b56.json\n",
    "22:22:17 INFO pupa: save organization Arizona List P.A.C. as organization_73f49f2f-e255-11e4-a4f5-e90fe0697b56.json\n",
    "22:22:17 INFO pupa: save organization Arizona Lodging & Tourism Super PAC as organization_73f49f30-e255-11e4-a4f5-e90fe0697b56.json\n",
    "22:22:17 INFO pupa: save organization Arizona Pipe Trades 469 as organization_73f49f31-e255-11e4-a4f5-e90fe0697b56.json\n",
    "22:22:17 INFO pupa: save organization AZ DENTAL POLITICAL ACTION COMMITTEE as organization_73f49f32-e255-11e4-a4f5-e90fe0697b56.json\n",
    "22:22:17 INFO pupa: save organization AZ MULTIHOUSING ASSN PAC as organization_73f49f33-e255-11e4-a4f5-e90fe0697b56.json\n",
    "22:22:17 INFO pupa: save organization BNSF Railway Company RAILPAC as organization_73f49f34-e255-11e4-a4f5-e90fe0697b56.json\n",
    "22:22:17 INFO pupa: save organization CWA COMMUNICATIONS WORKERS OF AMERICA /AZ COMMITTEE  ON POLITICAL EDUCATION (COPE) as organization_73f49f35-e255-11e4-a4f5-e90fe0697b56.json\n",
    "22:22:17 INFO pupa: save organization Enterprise Holdings, Inc. Political Action Committee as organization_73f49f36-e255-11e4-a4f5-e90fe0697b56.json\n",
    "22:22:17 INFO pupa: save organization GREATER PHOENIX CHAMBER OF COMMERCE POLITICAL ACTION COMMITTEE as organization_73f49f37-e255-11e4-a4f5-e90fe0697b56.json\n",
    "22:22:17 INFO pupa: save organization HOME BUILDERS ASSN OF CENTRAL AZ POLITICAL ACTION COMMITTEE as organization_73f49f38-e255-11e4-a4f5-e90fe0697b56.json\n",
    "22:22:17 INFO pupa: save organization Honeywell International Political Action Committee Arizona-(HIPAC AZ) as organization_73f49f39-e255-11e4-a4f5-e90fe0697b56.json\n",
    "22:22:17 INFO pupa: save organization JPMORGAN CHASE & CO ARIZONA PAC as organization_73f49f3a-e255-11e4-a4f5-e90fe0697b56.json\n",
    "22:22:17 INFO pupa: save organization PARADISE VALLEY FUND FOR CHILDREN IN PUBLIC EDUCATION (PV ED & SUPPORT EMPL ASSN PAC) as organization_73f49f3b-e255-11e4-a4f5-e90fe0697b56.json\n",
    "22:22:17 INFO pupa: save organization PINNACLE WEST CAPITAL CORPORATION POLITICAL ACTION COMMITTEE as organization_73f49f3c-e255-11e4-a4f5-e90fe0697b56.json\n",
    "22:22:17 INFO pupa: save organization REALTORS OF AZ PAC (RAPAC) as organization_73f49f3d-e255-11e4-a4f5-e90fe0697b56.json\n",
    "22:22:17 INFO pupa: save organization SALT RIVER VALLEY WATER USERS ASSN POLITICAL INVOLVEMENT COMMITTEE as organization_73f49f3e-e255-11e4-a4f5-e90fe0697b56.json\n",
    "22:22:17 INFO pupa: save organization The Political Committee of Planned Parenthood Advocates of Arizona as organization_73f49f3f-e255-11e4-a4f5-e90fe0697b56.json\n",
    "22:22:17 INFO pupa: save organization UNITE HERE TIP CAMPAIGN COMMITTEE as organization_73f49f40-e255-11e4-a4f5-e90fe0697b56.json\n",
    "22:22:17 INFO pupa: save organization UNITED FOOD & COMMERCIAL WORKERS ACTIVE BALLOT CLUB (UFCW) as organization_73f49f41-e255-11e4-a4f5-e90fe0697b56.json\n",
    "22:22:17 INFO pupa: save organization UNITED FOOD & COMMERCIAL WORKERS UNION OF AZ LOCAL 99 as organization_73f49f42-e255-11e4-a4f5-e90fe0697b56.json\n",
    "22:22:17 INFO pupa: save organization United Services Automobile Assn Employee PAC as organization_73f49f43-e255-11e4-a4f5-e90fe0697b56.json\n",
    "az (scrape)\n",
    "  disclosures: {}\n",
    "disclosures scrape:\n",
    "  duration:  0:00:00.396384\n",
    "  objects:\n",
    "    organization: 25\n",
    "jurisdiction scrape:\n",
    "  duration:  0:00:00.001806\n",
    "  objects:\n",
    "    jurisdiction: 1\n",
    "    organization: 1\n",
    "```"
   ]
  },
  {
   "cell_type": "markdown",
   "metadata": {},
   "source": [
    "# Modeling OCD Types"
   ]
  },
  {
   "cell_type": "markdown",
   "metadata": {},
   "source": [
    "The following examples are abstract, and they assume that the target data has already been obtained. They're meant to show you how to use the OCD Scrape Objects and their helper functions."
   ]
  },
  {
   "cell_type": "markdown",
   "metadata": {},
   "source": [
    "## Person"
   ]
  },
  {
   "cell_type": "code",
   "execution_count": 48,
   "metadata": {
    "collapsed": true
   },
   "outputs": [],
   "source": [
    "from pupa.scrape.popolo import Person"
   ]
  },
  {
   "cell_type": "markdown",
   "metadata": {},
   "source": [
    "Let's assume that this is data we've managed to pull out of an online source:"
   ]
  },
  {
   "cell_type": "code",
   "execution_count": 49,
   "metadata": {
    "collapsed": false
   },
   "outputs": [],
   "source": [
    "person_data = {\n",
    "    'person_name': 'Sheldon Adelson',\n",
    "    'person_aliases': [\n",
    "        'Shelly A',\n",
    "        'The Shelster',\n",
    "        'Sheldon G Adelson',\n",
    "        'Sheldon Gary Adelson',\n",
    "    ],\n",
    "    'birth_date': '1993-08-04',\n",
    "    'biography': \"Sheldon Gary Adelson (pronounced /ˈædəlsən/; born August 4, 1933) is an American business magnate, investor, and philanthropist. He is the chairman and chief executive officer of the Las Vegas Sands Corporation, which owns the Marina Bay Sands in Singapore and is the parent company of Venetian Macao Limited which operates The Venetian Resort Hotel Casino and the Sands Expo and Convention Center. He also owns the Israeli daily newspaper Israel HaYom. Adelson, a lifelong donor and philanthropist to a variety of causes, founded with his wife's initiative the Adelson Foundation. As of July 2014, Adelson was listed by Forbes as having a fortune of $36.4 billion, and as the 8th richest person in the world. Adelson is also a major contributor to Republican Party candidates, which has resulted in his gaining significant influence within the party.\",\n",
    "    'summary': 'Casino owner and large-dollar donor',\n",
    "    'image': 'http://upload.wikimedia.org/wikipedia/commons/0/0f/Sheldon_Adelson_21_June_2010.jpg',\n",
    "    'gender': 'male',\n",
    "    'national_identity': 'USA',\n",
    "    'address': '3355 Las Vegas Blvd S, LAS VEGAS, NV 89109',\n",
    "    'fec_identifier': 'A0035', # Not real, just for demonstration!\n",
    "}"
   ]
  },
  {
   "cell_type": "markdown",
   "metadata": {},
   "source": [
    "### Initializing the object"
   ]
  },
  {
   "cell_type": "markdown",
   "metadata": {},
   "source": [
    "When we initialize a `Person` object, we can set a lot of these properties using keyword arguments. Usually, you won't have this much information, but Shelly's pretty well known."
   ]
  },
  {
   "cell_type": "code",
   "execution_count": 50,
   "metadata": {
    "collapsed": true
   },
   "outputs": [],
   "source": [
    "_person = Person(\n",
    "    name=person_data['person_name'],\n",
    "    birth_date=person_data['birth_date'],\n",
    "    biography=person_data['biography'],\n",
    "    summary=person_data['summary'],\n",
    "    image=person_data['image'],\n",
    "    gender=person_data['gender'],\n",
    "    national_identity=person_data['national_identity'],\n",
    "    source_identified=True\n",
    ")"
   ]
  },
  {
   "cell_type": "markdown",
   "metadata": {},
   "source": [
    "### Adding multivalued properties"
   ]
  },
  {
   "cell_type": "markdown",
   "metadata": {},
   "source": [
    "Now that we've initialized the person object, we can use its helper functions to add other properties like contact details, sources, identifiers and other names (aliases). If you're curious about what's possible, many of these helper functions are implemented using the mixins found on [pupa/pupa/scrape/base.py](https://github.com/influence-usa/pupa/blob/disclosures/pupa/scrape/base.py#L213-L320)."
   ]
  },
  {
   "cell_type": "code",
   "execution_count": 51,
   "metadata": {
    "collapsed": false
   },
   "outputs": [],
   "source": [
    "_person.add_contact_detail(\n",
    "    type=\"address\",\n",
    "    value=person_data['address'],\n",
    ")"
   ]
  },
  {
   "cell_type": "code",
   "execution_count": 52,
   "metadata": {
    "collapsed": true
   },
   "outputs": [],
   "source": [
    "for alias_name in person_data['person_aliases']:\n",
    "    _person.add_name(name=alias_name)"
   ]
  },
  {
   "cell_type": "code",
   "execution_count": 53,
   "metadata": {
    "collapsed": true
   },
   "outputs": [],
   "source": [
    "_person.add_source(\n",
    "    url=\"http://www.example.com/disclosure/?DocumentID=21459sadgljs85102h235naosudgyy7\",\n",
    "    note=\"F342_contributions\"\n",
    ")"
   ]
  },
  {
   "cell_type": "markdown",
   "metadata": {},
   "source": [
    "### Namespaced Identifiers"
   ]
  },
  {
   "cell_type": "markdown",
   "metadata": {},
   "source": [
    "Identifiers can be added in the same way, but you'll need to include a [namespace](http://en.wikipedia.org/wiki/Namespace) for them. Namespaces keep identifiers from different sources separate. For instance, the namespace `\"urn:sopr:registrant\"` is and identifier namespace that covers identifiers assigned to lobbying disclosure registrants by the Senate Office of Public Record. The House Clerk's office also assigns identifiers to many lobbying firms, and they might clash with SOPR's identifiers, so we assign it to a different namespace, which is `\"urn:house-clerk:registrant\"`. \n",
    "\n",
    "If you don't see an existing namespace that is an obvious fit for the data you're scraping, feel free to make one up. It might get changed in the future, but that's okay."
   ]
  },
  {
   "cell_type": "code",
   "execution_count": 54,
   "metadata": {
    "collapsed": false
   },
   "outputs": [],
   "source": [
    "_person.add_identifier(\n",
    "    identifier=person_data['fec_identifier'],\n",
    "    scheme='urn:fec:individual'\n",
    ")"
   ]
  },
  {
   "cell_type": "markdown",
   "metadata": {},
   "source": [
    "### Viewing the object as a dict"
   ]
  },
  {
   "cell_type": "code",
   "execution_count": 55,
   "metadata": {
    "collapsed": false
   },
   "outputs": [
    {
     "data": {
      "text/plain": [
       "{'_id': '13de4c60-e46e-11e4-a4f5-e90fe0697b56',\n",
       " 'biography': \"Sheldon Gary Adelson (pronounced /ˈædəlsən/; born August 4, 1933) is an American business magnate, investor, and philanthropist. He is the chairman and chief executive officer of the Las Vegas Sands Corporation, which owns the Marina Bay Sands in Singapore and is the parent company of Venetian Macao Limited which operates The Venetian Resort Hotel Casino and the Sands Expo and Convention Center. He also owns the Israeli daily newspaper Israel HaYom. Adelson, a lifelong donor and philanthropist to a variety of causes, founded with his wife's initiative the Adelson Foundation. As of July 2014, Adelson was listed by Forbes as having a fortune of $36.4 billion, and as the 8th richest person in the world. Adelson is also a major contributor to Republican Party candidates, which has resulted in his gaining significant influence within the party.\",\n",
       " 'birth_date': '1993-08-04',\n",
       " 'contact_details': [{'note': '',\n",
       "   'type': 'address',\n",
       "   'value': '3355 Las Vegas Blvd S, LAS VEGAS, NV 89109'}],\n",
       " 'death_date': '',\n",
       " 'extras': {},\n",
       " 'gender': 'male',\n",
       " 'identifiers': [{'identifier': 'A0035', 'scheme': 'urn:fec:individual'}],\n",
       " 'image': 'http://upload.wikimedia.org/wikipedia/commons/0/0f/Sheldon_Adelson_21_June_2010.jpg',\n",
       " 'links': [],\n",
       " 'name': 'Sheldon Adelson',\n",
       " 'national_identity': 'USA',\n",
       " 'other_names': [{'name': 'Shelly A'},\n",
       "  {'name': 'The Shelster'},\n",
       "  {'name': 'Sheldon G Adelson'},\n",
       "  {'name': 'Sheldon Gary Adelson'}],\n",
       " 'source_identified': True,\n",
       " 'sources': [{'note': 'F342_contributions',\n",
       "   'url': 'http://www.example.com/disclosure/?DocumentID=21459sadgljs85102h235naosudgyy7'}],\n",
       " 'summary': 'Casino owner and large-dollar donor'}"
      ]
     },
     "execution_count": 55,
     "metadata": {},
     "output_type": "execute_result"
    }
   ],
   "source": [
    "_person.as_dict()"
   ]
  },
  {
   "cell_type": "markdown",
   "metadata": {},
   "source": [
    "## Organization"
   ]
  },
  {
   "cell_type": "markdown",
   "metadata": {},
   "source": [
    "(see above)"
   ]
  },
  {
   "cell_type": "markdown",
   "metadata": {},
   "source": [
    "## Event"
   ]
  },
  {
   "cell_type": "code",
   "execution_count": 56,
   "metadata": {
    "collapsed": false
   },
   "outputs": [],
   "source": [
    "from pupa.scrape import Event"
   ]
  },
  {
   "cell_type": "markdown",
   "metadata": {},
   "source": [
    "Let's assume that this is data we've managed to pull out of an online source:"
   ]
  },
  {
   "cell_type": "code",
   "execution_count": 81,
   "metadata": {
    "collapsed": false
   },
   "outputs": [],
   "source": [
    "event_data = {\n",
    "    \"name\": \"Sidley Austin LLP - New Client for Existing Registrant, Vifor Pharma\",\n",
    "    \"description\": \"Form LD-1: registration of a lobbying firm and the client they represent.\",\n",
    "    \"start_time\": \"2012-03-01\",\n",
    "    \"end_time\": None,\n",
    "    \"classification\": \"registration\",\n",
    "    \"location\": \"United States\",\n",
    "    \"timezone\":\"America/New_York\"\n",
    "}\n",
    "\n",
    "event_data_url = \"http://soprweb.senate.gov/index.cfm?event=getFilingDetails&filingID=a3f1bf3c-7fa0-4b08-b703-bef451bb3d27&filingTypeID=1\""
   ]
  },
  {
   "cell_type": "markdown",
   "metadata": {},
   "source": [
    "A few notes:\n",
    "\n",
    "  - If we don't know the end time, that's fine: the `end_time` can be left null.\n",
    "  - When entering times, enter as much detail as you have available. If you know the event's time down to the second, feel free to specify that, but if you only know the month in which it occurs, something like `\"2014-01\"` is fine\n",
    "  - Location can also be described as specifically or generally as possible"
   ]
  },
  {
   "cell_type": "markdown",
   "metadata": {},
   "source": [
    "### Initializing the object"
   ]
  },
  {
   "cell_type": "code",
   "execution_count": 86,
   "metadata": {
    "collapsed": false
   },
   "outputs": [],
   "source": [
    "_event = Event(\n",
    "    name=event_data[\"name\"],\n",
    "    description=event_data[\"description\"],\n",
    "    start_time=event_data[\"start_time\"],\n",
    "    classification=event_data[\"classification\"],\n",
    "    location=event_data[\"location\"],\n",
    "    timezone=event_data[\"timezone\"]\n",
    ")"
   ]
  },
  {
   "cell_type": "markdown",
   "metadata": {},
   "source": [
    "**protip**: notice how the keys of the `event_data` dict are the same as the kwargs that we assign them to?  a shorter (though admittedly less explicit) way of initializing the object would be:"
   ]
  },
  {
   "cell_type": "code",
   "execution_count": 87,
   "metadata": {
    "collapsed": true
   },
   "outputs": [],
   "source": [
    "_quicker_event = Event(**event_data)"
   ]
  },
  {
   "cell_type": "markdown",
   "metadata": {},
   "source": [
    "### Adding Participants"
   ]
  },
  {
   "cell_type": "markdown",
   "metadata": {},
   "source": [
    "Participants in an event can be either of class `Organization` or `Person`, and they can be added using the helper function `add_participant`. When adding them, it's helpful to characterize their participation using the `note` field:"
   ]
  },
  {
   "cell_type": "code",
   "execution_count": 88,
   "metadata": {
    "collapsed": false
   },
   "outputs": [],
   "source": [
    "_lobbying_org = Organization(\n",
    "    name=\"Sidley Austin LLP\",\n",
    "    classification='company',\n",
    ")\n",
    "\n",
    "_client = Organization(\n",
    "    name=\"Vifor Pharma\",\n",
    "    classification=\"company\",\n",
    ")\n",
    "\n",
    "_event.add_participant(\n",
    "    type=_lobbying_org._type,\n",
    "    id=_lobbying_org._id,\n",
    "    name=_lobbying_org.name,\n",
    "    note=\"registrant\"\n",
    ")\n",
    "\n",
    "_event.add_participant(\n",
    "    type=_client._type,\n",
    "    id=_client._id,\n",
    "    name=_client.name,\n",
    "    note=\"client\"\n",
    ")"
   ]
  },
  {
   "cell_type": "markdown",
   "metadata": {},
   "source": [
    "As you'll see, the `participant` list becomes a list of the entities that you added. Actually, they are stubs of those objects, rather than the full objects. They give you an identifier that allows you to resolve to find the full object, however."
   ]
  },
  {
   "cell_type": "code",
   "execution_count": 89,
   "metadata": {
    "collapsed": false
   },
   "outputs": [
    {
     "data": {
      "text/plain": [
       "[{'entity_type': 'organization',\n",
       "  'id': '6922f3f4-e486-11e4-a4f5-e90fe0697b56',\n",
       "  'name': 'Sidley Austin LLP',\n",
       "  'note': 'registrant'},\n",
       " {'entity_type': 'organization',\n",
       "  'id': '6922f3f5-e486-11e4-a4f5-e90fe0697b56',\n",
       "  'name': 'Vifor Pharma',\n",
       "  'note': 'client'}]"
      ]
     },
     "execution_count": 89,
     "metadata": {},
     "output_type": "execute_result"
    }
   ],
   "source": [
    "_event.participants"
   ]
  },
  {
   "cell_type": "markdown",
   "metadata": {},
   "source": [
    "### Agenda Items"
   ]
  },
  {
   "cell_type": "markdown",
   "metadata": {},
   "source": [
    "When describing events, we can give a more organized account of what happened than just summarizing in the `description` property. We can also model the details of the event using the `EventAgendaItem` class. Agenda items can describe things like the subjects of meetings, the issues discussed by lobbying firms or the intended agenda of an event. If you'd like, you can also reflect the order of items in the agenda by specifying them."
   ]
  },
  {
   "cell_type": "code",
   "execution_count": 90,
   "metadata": {
    "collapsed": true
   },
   "outputs": [],
   "source": [
    "_agenda_item = _event.add_agenda_item(\"issues lobbied on\")"
   ]
  },
  {
   "cell_type": "markdown",
   "metadata": {},
   "source": [
    "Unlike many of the other helper functions, this one adds the item and also returns it. That makes it possible to make further changes to the agenda item. Let's add the subject of the lobbying (\"HCR\" is code used by the Senate for healthcare-related lobbying), and notes that we found on the registration form."
   ]
  },
  {
   "cell_type": "code",
   "execution_count": 91,
   "metadata": {
    "collapsed": true
   },
   "outputs": [],
   "source": [
    "_agenda_item.add_subject(\"HCR\")\n",
    "\n",
    "_agenda_item['notes'].append(\"Regulation of complex large-molecule drugs by the Food and Drug Administration\")"
   ]
  },
  {
   "cell_type": "markdown",
   "metadata": {},
   "source": [
    "Because the object that was returned by `add_agenda_item` is the same object that is stored in `_event`'s `agenda` property, making these changes on `_agenda_item` is equivalent to making changes to the corresponding object inside of `_event`."
   ]
  },
  {
   "cell_type": "code",
   "execution_count": 92,
   "metadata": {
    "collapsed": false
   },
   "outputs": [
    {
     "data": {
      "text/plain": [
       "[{'description': 'issues lobbied on',\n",
       "  'media': [],\n",
       "  'notes': ['Regulation of complex large-molecule drugs by the Food and Drug Administration'],\n",
       "  'order': '0',\n",
       "  'related_entities': [],\n",
       "  'subjects': ['HCR']}]"
      ]
     },
     "execution_count": 92,
     "metadata": {},
     "output_type": "execute_result"
    }
   ],
   "source": [
    "_event.agenda"
   ]
  },
  {
   "cell_type": "code",
   "execution_count": 93,
   "metadata": {
    "collapsed": false
   },
   "outputs": [
    {
     "data": {
      "text/plain": [
       "{'description': 'issues lobbied on',\n",
       " 'media': [],\n",
       " 'notes': ['Regulation of complex large-molecule drugs by the Food and Drug Administration'],\n",
       " 'order': '0',\n",
       " 'related_entities': [],\n",
       " 'subjects': ['HCR']}"
      ]
     },
     "execution_count": 93,
     "metadata": {},
     "output_type": "execute_result"
    }
   ],
   "source": [
    "_agenda_item"
   ]
  },
  {
   "cell_type": "markdown",
   "metadata": {},
   "source": [
    "That means that you don't need to `yield` the `EventAgendaItem` objects. When you yield the `Event` object, you'll also be yielding the agenda items that it contains for free."
   ]
  },
  {
   "cell_type": "markdown",
   "metadata": {},
   "source": [
    "### Adding pointers to other entities with `related_entities`"
   ]
  },
  {
   "cell_type": "markdown",
   "metadata": {},
   "source": [
    "Let's pretend that, besides these details, we also know that Sidley Austin LLP lobbied on some specific bills. We can add them to the agenda using the `related_entities` property, and add other information about how they're related using the `note` argument."
   ]
  },
  {
   "cell_type": "code",
   "execution_count": 94,
   "metadata": {
    "collapsed": true
   },
   "outputs": [],
   "source": [
    "_agenda_item.add_bill(\n",
    "    bill='HR 3590',\n",
    "    note='supporting'\n",
    ")"
   ]
  },
  {
   "cell_type": "code",
   "execution_count": 95,
   "metadata": {
    "collapsed": false
   },
   "outputs": [
    {
     "data": {
      "text/plain": [
       "{'description': 'issues lobbied on',\n",
       " 'media': [],\n",
       " 'notes': ['Regulation of complex large-molecule drugs by the Food and Drug Administration'],\n",
       " 'order': '0',\n",
       " 'related_entities': [{'entity_type': 'bill',\n",
       "   'name': 'HR 3590',\n",
       "   'note': 'supporting'}],\n",
       " 'subjects': ['HCR']}"
      ]
     },
     "execution_count": 95,
     "metadata": {},
     "output_type": "execute_result"
    }
   ],
   "source": [
    "_agenda_item"
   ]
  },
  {
   "cell_type": "markdown",
   "metadata": {},
   "source": [
    "### Add the source"
   ]
  },
  {
   "cell_type": "markdown",
   "metadata": {},
   "source": [
    "Finally, don't forget to add the source:"
   ]
  },
  {
   "cell_type": "code",
   "execution_count": 82,
   "metadata": {
    "collapsed": true
   },
   "outputs": [],
   "source": [
    "_event.add_source(\n",
    "    url=event_data_url,\n",
    "    note=\"LDA Form LD-1\"\n",
    ")"
   ]
  },
  {
   "cell_type": "markdown",
   "metadata": {
    "collapsed": true
   },
   "source": [
    "## Disclosures"
   ]
  },
  {
   "cell_type": "markdown",
   "metadata": {},
   "source": [
    "When working with influence-related data (which is often the result of legally required disclosures) an important OCD type is the `Disclosure` type. It contains details about the act of disclosing itself, rather than the events and relationships that are being disclosed. "
   ]
  },
  {
   "cell_type": "markdown",
   "metadata": {},
   "source": [
    "Once again, we'll assume we've scraped the relevant data from the source:"
   ]
  },
  {
   "cell_type": "code",
   "execution_count": 80,
   "metadata": {
    "collapsed": true
   },
   "outputs": [],
   "source": [
    "disclosure_data = {\n",
    "    \"effective_date\": \"2012-03-01\",\n",
    "    \"submitted_date\": \"2012-04-03\",\n",
    "    \"timezone\": \"America/New_York\",\n",
    "    \"classification\": \"lobbying\"\n",
    "}\n",
    "\n",
    "disclosure_data_url = \"http://soprweb.senate.gov/index.cfm?event=getFilingDetails&filingID=a3f1bf3c-7fa0-4b08-b703-bef451bb3d27&filingTypeID=1\""
   ]
  },
  {
   "cell_type": "markdown",
   "metadata": {},
   "source": [
    "The submitted date is often different from the effective date. That's because many disclosure authorities require filers to report activity within a certain timeframe. For federal lobbying registrations, for example, they must submit within 45 days of establishing the relationship with their client."
   ]
  },
  {
   "cell_type": "markdown",
   "metadata": {},
   "source": [
    "### Initializing the object"
   ]
  },
  {
   "cell_type": "code",
   "execution_count": 78,
   "metadata": {
    "collapsed": true
   },
   "outputs": [],
   "source": [
    "from pupa.scrape.disclosure import Disclosure"
   ]
  },
  {
   "cell_type": "code",
   "execution_count": 101,
   "metadata": {
    "collapsed": true
   },
   "outputs": [],
   "source": [
    "_disclosure = Disclosure(\n",
    "    classification=disclosure_data[\"classification\"],\n",
    "    effective_date=disclosure_data[\"effective_date\"],\n",
    "    submitted_date=disclosure_data[\"submitted_date\"],\n",
    "    timezone=disclosure_data[\"timezone\"]\n",
    ")   "
   ]
  },
  {
   "cell_type": "markdown",
   "metadata": {},
   "source": [
    "### Adding related entities"
   ]
  },
  {
   "cell_type": "markdown",
   "metadata": {},
   "source": [
    "Like `EventAgendaItem`, `Disclosure` objects can have related entities. Most of the time, there are three kinds of related entities:\n",
    "\n",
    "  - **Registrant** - the registered entity, who is filing the disclosure.\n",
    "  - **Authority** - the authority that the registrant submits the disclosure to\n",
    "  - **Disclosed Event(s)** - one or more events that the disclosure describes\n",
    "\n",
    "There are helper functions for each of these entities. We can make use of some of the objects we made above when we're calling the helper functions."
   ]
  },
  {
   "cell_type": "code",
   "execution_count": 102,
   "metadata": {
    "collapsed": true
   },
   "outputs": [],
   "source": [
    "_disclosure.add_registrant(\n",
    "    name=_lobbying_org.name,\n",
    "    type=_lobbying_org._type,\n",
    ")\n",
    "\n",
    "_disclosure.add_authority(\n",
    "    name=\"Office of Public Record, US Senate\",\n",
    "    type=\"Organization\"\n",
    ")\n",
    "\n",
    "_disclosure.add_disclosed_event(\n",
    "    name=_event.name,\n",
    "    type=_event._type,\n",
    "    classification=_event.classification\n",
    ")"
   ]
  },
  {
   "cell_type": "code",
   "execution_count": 103,
   "metadata": {
    "collapsed": false
   },
   "outputs": [
    {
     "data": {
      "text/plain": [
       "[{'entity_type': 'organization',\n",
       "  'name': 'Sidley Austin LLP',\n",
       "  'note': 'registrant'},\n",
       " {'entity_type': 'Organization',\n",
       "  'name': 'Office of Public Record, US Senate',\n",
       "  'note': 'authority'},\n",
       " {'classification': 'registration',\n",
       "  'entity_type': 'event',\n",
       "  'name': 'Sidley Austin LLP - New Client for Existing Registrant, Vifor Pharma',\n",
       "  'note': 'disclosed_event'}]"
      ]
     },
     "execution_count": 103,
     "metadata": {},
     "output_type": "execute_result"
    }
   ],
   "source": [
    "_disclosure.related_entities"
   ]
  },
  {
   "cell_type": "markdown",
   "metadata": {},
   "source": [
    "NOTE: Here, we made up the Senate Office of Public Record (the authority) on the spot. This is just for instructional purposes. Usually you'd create it as a property of the `Jurisdiction` object, as [we did above for the Arizona Secretary of State](#Create-the-Secretary-of-State)."
   ]
  },
  {
   "cell_type": "markdown",
   "metadata": {},
   "source": [
    "### Add source"
   ]
  },
  {
   "cell_type": "markdown",
   "metadata": {},
   "source": [
    "Finally, once again, don't forget to add the source:"
   ]
  },
  {
   "cell_type": "code",
   "execution_count": 104,
   "metadata": {
    "collapsed": true
   },
   "outputs": [],
   "source": [
    "_disclosure.add_source(\n",
    "    url=disclosure_data_url,\n",
    "    note=\"LDA Form LD-1\"\n",
    ")"
   ]
  },
  {
   "cell_type": "markdown",
   "metadata": {
    "collapsed": true
   },
   "source": [
    "# Modeling Relationships"
   ]
  },
  {
   "cell_type": "markdown",
   "metadata": {},
   "source": [
    "The Open Civic Data spec also allows you to model the relationships between entities in the world. Many relationships are between a `Person` and an `Organization`, but it's possible for two `Organization` entities to have relationships with each other as well. Here are some examples:\n",
    "\n",
    "  - **Employment** - a `Person` is a member of an `Organization` that employs them (eg, a lobbyist might be a person a member of a lobbying organization)\n",
    "  - **Elected Official** - if a `Person` was elected to a governmental body, then that person is a member of the `Organization` that represents said body. (eg, a senator is a `Person` that is a member of the \"United States Senate\" `Organization`).\n",
    "  - **Hierarchy** - an `Organization` can have another `Organization` as its `parent` (eg, the \"United States Senate\" is the `parent` `Organization` of the \"Office of Public Record, US Senate\" `Organization`\n",
    "  - **Ownership** - one `Organization` that owns another (for some definition of ownership) is its `parent` (eg, the `Organization` \"The Coca-Cola Company\" is the `parent` of the \"The Coca-Cola Company Nonpartisan Committee For Good Government\" `Organization`)"
   ]
  },
  {
   "cell_type": "markdown",
   "metadata": {},
   "source": [
    "## Memberships"
   ]
  },
  {
   "cell_type": "markdown",
   "metadata": {},
   "source": [
    "You can represent a membership by either adding a member to an `Organization` object, or adding a membership to a `Person` object. There's no practical difference between the two.\n",
    "\n",
    "When adding a membership, you are creating a `Membership` object. If you'd like to look at the source code, [check it out here](https://github.com/influence-usa/pupa/blob/disclosures/pupa/scrape/popolo.py#L37-L65). We'll take a closer look at this object below."
   ]
  },
  {
   "cell_type": "markdown",
   "metadata": {
    "collapsed": true
   },
   "source": [
    "### Adding a member to an organization"
   ]
  },
  {
   "cell_type": "code",
   "execution_count": 112,
   "metadata": {
    "collapsed": false
   },
   "outputs": [],
   "source": [
    "_lobbyist = Person(\n",
    "    name=\"Patricia DeLoatche\",\n",
    ")\n",
    "\n",
    "_membership = _lobbying_org.add_member(_lobbyist)"
   ]
  },
  {
   "cell_type": "markdown",
   "metadata": {},
   "source": [
    "Much like the `EventAgendaItem`, the helper function that adds a member to an `Organization` also returns something: the `Membership` object that represents that relationship."
   ]
  },
  {
   "cell_type": "code",
   "execution_count": 113,
   "metadata": {
    "collapsed": false
   },
   "outputs": [
    {
     "data": {
      "text/plain": [
       "{'_id': 'b83b9b7d-e54b-11e4-a4f5-e90fe0697b56',\n",
       " 'contact_details': [],\n",
       " 'end_date': '',\n",
       " 'extras': {},\n",
       " 'label': '',\n",
       " 'links': [],\n",
       " 'on_behalf_of_id': None,\n",
       " 'organization_id': '6922f3f4-e486-11e4-a4f5-e90fe0697b56',\n",
       " 'person_id': 'b83b9b7c-e54b-11e4-a4f5-e90fe0697b56',\n",
       " 'post_id': None,\n",
       " 'role': 'member',\n",
       " 'start_date': ''}"
      ]
     },
     "execution_count": 113,
     "metadata": {},
     "output_type": "execute_result"
    }
   ],
   "source": [
    "_membership.as_dict()"
   ]
  },
  {
   "cell_type": "markdown",
   "metadata": {},
   "source": [
    "We can add more detail to this `Membership` using the `role` and `label` properties. "
   ]
  },
  {
   "cell_type": "code",
   "execution_count": 114,
   "metadata": {
    "collapsed": true
   },
   "outputs": [],
   "source": [
    "_membership.role = \"lobbyist\"\n",
    "_membership.label = \"lobbyist, as reported on LDA form LD-1\""
   ]
  },
  {
   "cell_type": "code",
   "execution_count": 115,
   "metadata": {
    "collapsed": false
   },
   "outputs": [
    {
     "data": {
      "text/plain": [
       "{'_id': 'b83b9b7d-e54b-11e4-a4f5-e90fe0697b56',\n",
       " 'contact_details': [],\n",
       " 'end_date': '',\n",
       " 'extras': {},\n",
       " 'label': 'lobbyist, as reported on LDA form LD-1',\n",
       " 'links': [],\n",
       " 'on_behalf_of_id': None,\n",
       " 'organization_id': '6922f3f4-e486-11e4-a4f5-e90fe0697b56',\n",
       " 'person_id': 'b83b9b7c-e54b-11e4-a4f5-e90fe0697b56',\n",
       " 'post_id': None,\n",
       " 'role': 'lobbyist',\n",
       " 'start_date': ''}"
      ]
     },
     "execution_count": 115,
     "metadata": {},
     "output_type": "execute_result"
    }
   ],
   "source": [
    "_membership.as_dict()"
   ]
  },
  {
   "cell_type": "markdown",
   "metadata": {},
   "source": [
    "It's also possible to add details such as start and end date, if they're available."
   ]
  },
  {
   "cell_type": "code",
   "execution_count": 122,
   "metadata": {
    "collapsed": true
   },
   "outputs": [],
   "source": [
    "_membership.start_date = '2012-01-25'\n",
    "_membership.end_date = '2014-05-06'"
   ]
  },
  {
   "cell_type": "markdown",
   "metadata": {},
   "source": [
    "### Adding a membership to a Person"
   ]
  },
  {
   "cell_type": "markdown",
   "metadata": {},
   "source": [
    "We could have made the above connection in the opposite direction. Let's do that for the next lobbyist:"
   ]
  },
  {
   "cell_type": "code",
   "execution_count": 120,
   "metadata": {
    "collapsed": false
   },
   "outputs": [],
   "source": [
    "_next_lobbyist = Person(\n",
    "    name=\"Peter Goodloe\"\n",
    ")\n",
    "\n",
    "_next_membership = _next_lobbyist.add_membership(\n",
    "    organization=_lobbying_org,\n",
    "    role=\"lobbyist\",\n",
    "    label=\"lobbyist, as reported on LDA form LD-1\"\n",
    ")"
   ]
  },
  {
   "cell_type": "code",
   "execution_count": 121,
   "metadata": {
    "collapsed": false
   },
   "outputs": [
    {
     "data": {
      "text/plain": [
       "{'_id': '12e9cd7d-e54d-11e4-a4f5-e90fe0697b56',\n",
       " 'contact_details': [],\n",
       " 'end_date': '',\n",
       " 'extras': {},\n",
       " 'label': 'lobbyist, as reported on LDA form LD-1',\n",
       " 'links': [],\n",
       " 'on_behalf_of_id': None,\n",
       " 'organization_id': '6922f3f4-e486-11e4-a4f5-e90fe0697b56',\n",
       " 'person_id': '12e9cd7c-e54d-11e4-a4f5-e90fe0697b56',\n",
       " 'post_id': None,\n",
       " 'role': 'lobbyist',\n",
       " 'start_date': ''}"
      ]
     },
     "execution_count": 121,
     "metadata": {},
     "output_type": "execute_result"
    }
   ],
   "source": [
    "_next_membership.as_dict()"
   ]
  },
  {
   "cell_type": "markdown",
   "metadata": {},
   "source": [
    "Comparing this membership to the one created above, it's clear that they are parallel objects"
   ]
  },
  {
   "cell_type": "markdown",
   "metadata": {},
   "source": [
    "### Including Posts"
   ]
  },
  {
   "cell_type": "markdown",
   "metadata": {},
   "source": [
    "For more official positions in organizations, it's sometimes useful to represent the position independently of the person who happens to hold it at any point in time. For instance, the `Post` of \"Arizona Secretary of State\" existed before its current officeholder and it probably will continue to exist after she's replaced."
   ]
  },
  {
   "cell_type": "code",
   "execution_count": 124,
   "metadata": {
    "collapsed": true
   },
   "outputs": [],
   "source": [
    "_office_secretary_of_state = Organization(                                    \n",
    "        name=\"Office of the Secretary of State, State of Arizona\",        \n",
    "        classification=\"office\"                                           \n",
    ")\n",
    "\n",
    "_az_sos = _office_secretary_of_state.add_post(\"Arizona Secretary of State\", role=\"secretary of state\")"
   ]
  },
  {
   "cell_type": "code",
   "execution_count": 128,
   "metadata": {
    "collapsed": false
   },
   "outputs": [],
   "source": [
    "_former_az_sos = Person(\n",
    "    name=\"Ken Bennett\"\n",
    ")\n",
    "\n",
    "_current_az_sos = Person(\n",
    "    name=\"Michele Reagan\"\n",
    ")\n",
    "\n",
    "_former_membership = _office_secretary_of_state.add_member(\n",
    "    _former_az_sos,\n",
    "    role=_az_sos.role,\n",
    "    post_id=_az_sos._id,\n",
    "    start_date='2009-01-26',\n",
    "    end_date='2015-01-05'\n",
    ")\n",
    "\n",
    "_current_membership = _office_secretary_of_state.add_member(\n",
    "    _current_az_sos,\n",
    "    role=_az_sos.role,\n",
    "    post_id=_az_sos._id,\n",
    "    start_date='2015-01-05'\n",
    ")"
   ]
  },
  {
   "cell_type": "markdown",
   "metadata": {},
   "source": [
    "### No need to yield Memberships"
   ]
  },
  {
   "cell_type": "markdown",
   "metadata": {},
   "source": [
    "We don't need to `yield` the memberships that we create explicitly. when the people and organizations that are connected by them are yielded, the memberships will be, too."
   ]
  },
  {
   "cell_type": "markdown",
   "metadata": {},
   "source": [
    "## Organizational Parents"
   ]
  },
  {
   "cell_type": "markdown",
   "metadata": {},
   "source": [
    "Because governmental organizations are often hierarchically related, `Organization` objects have a `parent` property that allow them to represent that kind of relationship."
   ]
  },
  {
   "cell_type": "code",
   "execution_count": 129,
   "metadata": {
    "collapsed": true
   },
   "outputs": [],
   "source": [
    "legislature = Organization(\n",
    "    name=\"United States Congress\",\n",
    "    classification='legislature'\n",
    ")\n",
    "\n",
    "\n",
    "senate = Organization(\n",
    "    name=\"United States Senate\",\n",
    "    classification='upper',\n",
    "    parent_id=legislature._id,\n",
    ")\n",
    "\n",
    "sopr = Organization(\n",
    "    name=\"Office of Public Record, US Senate\",\n",
    "    classification=\"office\",\n",
    "    parent_id=senate._id,\n",
    ")"
   ]
  },
  {
   "cell_type": "code",
   "execution_count": null,
   "metadata": {
    "collapsed": true
   },
   "outputs": [],
   "source": []
  }
 ],
 "metadata": {
  "kernelspec": {
   "display_name": "Python 3",
   "language": "python",
   "name": "python3"
  },
  "language_info": {
   "codemirror_mode": {
    "name": "ipython",
    "version": 3
   },
   "file_extension": ".py",
   "mimetype": "text/x-python",
   "name": "python",
   "nbconvert_exporter": "python",
   "pygments_lexer": "ipython3",
   "version": "3.4.2"
  }
 },
 "nbformat": 4,
 "nbformat_minor": 0
}
